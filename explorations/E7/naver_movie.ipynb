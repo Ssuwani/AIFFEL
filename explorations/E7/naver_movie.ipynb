{
 "cells": [
  {
   "cell_type": "markdown",
   "id": "hundred-developer",
   "metadata": {},
   "source": [
    "# 네이버 영화 리뷰"
   ]
  },
  {
   "cell_type": "code",
   "execution_count": 1,
   "id": "recent-bahamas",
   "metadata": {},
   "outputs": [
    {
     "data": {
      "text/html": [
       "<div>\n",
       "<style scoped>\n",
       "    .dataframe tbody tr th:only-of-type {\n",
       "        vertical-align: middle;\n",
       "    }\n",
       "\n",
       "    .dataframe tbody tr th {\n",
       "        vertical-align: top;\n",
       "    }\n",
       "\n",
       "    .dataframe thead th {\n",
       "        text-align: right;\n",
       "    }\n",
       "</style>\n",
       "<table border=\"1\" class=\"dataframe\">\n",
       "  <thead>\n",
       "    <tr style=\"text-align: right;\">\n",
       "      <th></th>\n",
       "      <th>id</th>\n",
       "      <th>document</th>\n",
       "      <th>label</th>\n",
       "    </tr>\n",
       "  </thead>\n",
       "  <tbody>\n",
       "    <tr>\n",
       "      <th>0</th>\n",
       "      <td>9976970</td>\n",
       "      <td>아 더빙.. 진짜 짜증나네요 목소리</td>\n",
       "      <td>0</td>\n",
       "    </tr>\n",
       "    <tr>\n",
       "      <th>1</th>\n",
       "      <td>3819312</td>\n",
       "      <td>흠...포스터보고 초딩영화줄....오버연기조차 가볍지 않구나</td>\n",
       "      <td>1</td>\n",
       "    </tr>\n",
       "    <tr>\n",
       "      <th>2</th>\n",
       "      <td>10265843</td>\n",
       "      <td>너무재밓었다그래서보는것을추천한다</td>\n",
       "      <td>0</td>\n",
       "    </tr>\n",
       "    <tr>\n",
       "      <th>3</th>\n",
       "      <td>9045019</td>\n",
       "      <td>교도소 이야기구먼 ..솔직히 재미는 없다..평점 조정</td>\n",
       "      <td>0</td>\n",
       "    </tr>\n",
       "    <tr>\n",
       "      <th>4</th>\n",
       "      <td>6483659</td>\n",
       "      <td>사이몬페그의 익살스런 연기가 돋보였던 영화!스파이더맨에서 늙어보이기만 했던 커스틴 ...</td>\n",
       "      <td>1</td>\n",
       "    </tr>\n",
       "  </tbody>\n",
       "</table>\n",
       "</div>"
      ],
      "text/plain": [
       "         id                                           document  label\n",
       "0   9976970                                아 더빙.. 진짜 짜증나네요 목소리      0\n",
       "1   3819312                  흠...포스터보고 초딩영화줄....오버연기조차 가볍지 않구나      1\n",
       "2  10265843                                  너무재밓었다그래서보는것을추천한다      0\n",
       "3   9045019                      교도소 이야기구먼 ..솔직히 재미는 없다..평점 조정      0\n",
       "4   6483659  사이몬페그의 익살스런 연기가 돋보였던 영화!스파이더맨에서 늙어보이기만 했던 커스틴 ...      1"
      ]
     },
     "execution_count": 1,
     "metadata": {},
     "output_type": "execute_result"
    }
   ],
   "source": [
    "import pandas as pd\n",
    "import urllib.request\n",
    "%matplotlib inline\n",
    "import matplotlib.pyplot as plt\n",
    "import seaborn as sns\n",
    "import numpy as np\n",
    "import re\n",
    "import os\n",
    "from konlpy.tag import Okt\n",
    "from tensorflow import keras\n",
    "from tensorflow.keras.preprocessing.text import Tokenizer\n",
    "from tensorflow.keras.preprocessing.sequence import pad_sequences\n",
    "from collections import Counter\n",
    "import warnings\n",
    "warnings.filterwarnings('ignore')\n",
    "# 데이터를 읽어봅시다. \n",
    "\n",
    "train_data = pd.read_table('./data/ratings_train.txt')\n",
    "\n",
    "test_data = pd.read_table('data/ratings_test.txt')\n",
    "\n",
    "train_data.head()"
   ]
  },
  {
   "cell_type": "code",
   "execution_count": 2,
   "id": "comparable-caribbean",
   "metadata": {},
   "outputs": [],
   "source": [
    "from konlpy.tag import Mecab\n",
    "tokenizer = Mecab()\n",
    "stopwords = ['의','가','이','은','들','는','좀','잘','걍','과','도','를','으로','자','에','와','한','하다']\n",
    "\n",
    "def load_data(train_data, test_data, num_words=10000):\n",
    "    train_data.drop_duplicates(subset=['document'], inplace=True)\n",
    "    train_data = train_data.dropna(how = 'any') \n",
    "    test_data.drop_duplicates(subset=['document'], inplace=True)\n",
    "    test_data = test_data.dropna(how = 'any') \n",
    "    \n",
    "    train_x = []\n",
    "    for sentence in train_data['document']:\n",
    "        temp_X = tokenizer.morphs(sentence) # 토큰화\n",
    "        temp_X = [word for word in temp_X if not word in stopwords] # 불용어 제거\n",
    "        train_x.append(temp_X)\n",
    "\n",
    "    test_x = []\n",
    "    for sentence in test_data['document']:\n",
    "        temp_X = tokenizer.morphs(sentence) # 토큰화\n",
    "        temp_X = [word for word in temp_X if not word in stopwords] # 불용어 제거\n",
    "        test_x.append(temp_X)\n",
    "    \n",
    "    words = np.concatenate(train_x).tolist()\n",
    "    counter = Counter(words)\n",
    "    counter = counter.most_common(10000-4)\n",
    "\n",
    "    vocab = ['<PAD>', '<BOS>', '<UNK>', '']+[key for key, _ in counter]\n",
    "\n",
    "    word_to_index = {word:index for index, word in enumerate(vocab)}\n",
    "        \n",
    "    def wordlist_to_indexlist(wordlist):\n",
    "        return [word_to_index[word] if word in word_to_index else word_to_index[''] for word in wordlist]\n",
    "        \n",
    "    train_x = list(map(wordlist_to_indexlist, train_x))\n",
    "    test_x = list(map(wordlist_to_indexlist, test_x))\n",
    "        \n",
    "    return train_x, np.array(list(train_data['label'])), test_x, np.array(list(test_data['label'])), word_to_index\n",
    "    \n",
    "train_x, train_y, test_x, test_y, word_to_index = load_data(train_data, test_data) "
   ]
  },
  {
   "cell_type": "code",
   "execution_count": 3,
   "id": "happy-pearl",
   "metadata": {},
   "outputs": [],
   "source": [
    "index_to_word = {index:word for word, index in word_to_index.items()}"
   ]
  },
  {
   "cell_type": "code",
   "execution_count": 4,
   "id": "incredible-funds",
   "metadata": {},
   "outputs": [],
   "source": [
    "# 문장 1개를 활용할 딕셔너리와 함께 주면, 단어 인덱스 리스트 벡터로 변환해 주는 함수입니다. \n",
    "# 단, 모든 문장은 <BOS>로 시작하는 것으로 합니다. \n",
    "def get_encoded_sentence(sentence, word_to_index):\n",
    "    return [word_to_index['<BOS>']]+[word_to_index[word] if word in word_to_index else word_to_index['<UNK>'] for word in sentence.split()]\n",
    "\n",
    "# 여러 개의 문장 리스트를 한꺼번에 단어 인덱스 리스트 벡터로 encode해 주는 함수입니다. \n",
    "def get_encoded_sentences(sentences, word_to_index):\n",
    "    return [get_encoded_sentence(sentence, word_to_index) for sentence in sentences]\n",
    "\n",
    "# 숫자 벡터로 encode된 문장을 원래대로 decode하는 함수입니다. \n",
    "def get_decoded_sentence(encoded_sentence, index_to_word):\n",
    "    return ' '.join(index_to_word[index] if index in index_to_word else '<UNK>' for index in encoded_sentence[1:])  #[1:]를 통해 <BOS>를 제외\n",
    "\n",
    "# 여러 개의 숫자 벡터로 encode된 문장을 한꺼번에 원래대로 decode하는 함수입니다. \n",
    "def get_decoded_sentences(encoded_sentences, index_to_word):\n",
    "    return [get_decoded_sentence(encoded_sentence, index_to_word) for encoded_sentence in encoded_sentences]"
   ]
  },
  {
   "cell_type": "code",
   "execution_count": 5,
   "id": "combined-brave",
   "metadata": {},
   "outputs": [
    {
     "name": "stdout",
     "output_type": "stream",
     "text": [
      "문장길이 평균 :  15.96940191154864\n",
      "문장길이 최대 :  116\n",
      "문장길이 표준편차 :  12.843571191092\n"
     ]
    },
    {
     "data": {
      "image/png": "[encoded data removed]",
      "text/plain": [
       "<Figure size 432x288 with 1 Axes>"
      ]
     },
     "metadata": {
      "needs_background": "light"
     },
     "output_type": "display_data"
    }
   ],
   "source": [
    "data = train_x + test_x\n",
    "data_len = [len(d) for d in data]\n",
    "data_len = np.array(data_len)\n",
    "\n",
    "print('문장길이 평균 : ', np.mean(data_len))\n",
    "print('문장길이 최대 : ', np.max(data_len))\n",
    "print('문장길이 표준편차 : ', np.std(data_len))\n",
    "\n",
    "sns.distplot(data_len)\n",
    "plt.show()"
   ]
  },
  {
   "cell_type": "code",
   "execution_count": 6,
   "id": "cognitive-conflict",
   "metadata": {},
   "outputs": [
    {
     "name": "stdout",
     "output_type": "stream",
     "text": [
      "pad_sequences maxlen :  41\n",
      "전체 문장의 0.9342988343341575%가 maxlen 설정값 이내에 포함됩니다. \n",
      "\n",
      "\n",
      "\n"
     ]
    }
   ],
   "source": [
    "max_tokens = np.mean(data_len) + 2 * np.std(data_len)\n",
    "maxlen = int(max_tokens)\n",
    "print('pad_sequences maxlen : ', maxlen)\n",
    "print('전체 문장의 {}%가 maxlen 설정값 이내에 포함됩니다. \\n\\n\\n'.format(np.sum(data_len < max_tokens) / len(data_len)))"
   ]
  },
  {
   "cell_type": "markdown",
   "id": "wrong-jurisdiction",
   "metadata": {},
   "source": [
    "**Maxlen을 적용했을 때의 문장 길이 히스토그램**"
   ]
  },
  {
   "cell_type": "code",
   "execution_count": 7,
   "id": "resistant-judges",
   "metadata": {},
   "outputs": [
    {
     "name": "stdout",
     "output_type": "stream",
     "text": [
      "문장길이 평균 :  13.342785129174542\n",
      "문장길이 최대 :  41\n",
      "문장길이 표준편차 :  8.215636904539625\n"
     ]
    },
    {
     "data": {
      "image/png": "[encoded data removed]",
      "text/plain": [
       "<Figure size 432x288 with 1 Axes>"
      ]
     },
     "metadata": {
      "needs_background": "light"
     },
     "output_type": "display_data"
    }
   ],
   "source": [
    "data = train_x + test_x\n",
    "data_len = [len(d) for d in data if len(d) <= 41]\n",
    "data_len = np.array(data_len)\n",
    "\n",
    "print('문장길이 평균 : ', np.mean(data_len))\n",
    "print('문장길이 최대 : ', np.max(data_len))\n",
    "print('문장길이 표준편차 : ', np.std(data_len))\n",
    "\n",
    "sns.distplot(data_len)\n",
    "plt.show()"
   ]
  },
  {
   "cell_type": "code",
   "execution_count": 8,
   "id": "leading-justice",
   "metadata": {},
   "outputs": [
    {
     "data": {
      "text/plain": [
       "'train shape: (146182, 41) test shape:  (49157, 41)'"
      ]
     },
     "execution_count": 8,
     "metadata": {},
     "output_type": "execute_result"
    }
   ],
   "source": [
    "train_x = keras.preprocessing.sequence.pad_sequences(train_x,\n",
    "                                                        value=word_to_index[\"<PAD>\"],\n",
    "                                                        padding='post', # 혹은 'pre'\n",
    "                                                        maxlen=maxlen)\n",
    "\n",
    "test_x = keras.preprocessing.sequence.pad_sequences(test_x,\n",
    "                                                       value=word_to_index[\"<PAD>\"],\n",
    "                                                       padding='post', # 혹은 'pre'\n",
    "                                                       maxlen=maxlen)\n",
    "\n",
    "\n",
    "\"train shape: {} test shape:  {}\".format(train_x.shape, test_x.shape)"
   ]
  },
  {
   "cell_type": "markdown",
   "id": "fewer-fireplace",
   "metadata": {},
   "source": [
    "## 3가지 모델로 훈련\n",
    "\n",
    "1. LSTM\n",
    "2. GRU\n",
    "3. CNN\n"
   ]
  },
  {
   "cell_type": "markdown",
   "id": "supposed-economy",
   "metadata": {},
   "source": [
    "3가지 모델을 담는 Dictionary"
   ]
  },
  {
   "cell_type": "code",
   "execution_count": 9,
   "id": "cheap-server",
   "metadata": {},
   "outputs": [],
   "source": [
    "models = {\n",
    "    \"lstm\": [],\n",
    "    \"gru\": [],\n",
    "    \"cnn\": []\n",
    "}"
   ]
  },
  {
   "cell_type": "markdown",
   "id": "spiritual-costume",
   "metadata": {},
   "source": [
    "### 1. LSTM 모델"
   ]
  },
  {
   "cell_type": "code",
   "execution_count": 10,
   "id": "defined-topic",
   "metadata": {},
   "outputs": [],
   "source": [
    "from itertools import product\n",
    "\n",
    "vocab_size = len(index_to_word)\n",
    "\n",
    "word_vector_dims = [16, 64]\n",
    "hidden_layer_dims = [8, 16]\n",
    "\n",
    "search_list = product(word_vector_dims, hidden_layer_dims)\n",
    "\n",
    "for i, (word_vector_dim, hidden_layer_dim) in enumerate(search_list):\n",
    "\n",
    "    model = keras.Sequential()\n",
    "    model.add(keras.layers.Embedding(vocab_size, word_vector_dim))\n",
    "    model.add(keras.layers.LSTM(hidden_layer_dim))\n",
    "    model.add(keras.layers.Dense(hidden_layer_dim, activation='relu'))\n",
    "    model.add(keras.layers.Dense(1, activation='sigmoid'))\n",
    "\n",
    "    model.compile(optimizer='adam', loss='binary_crossentropy', metrics=['accuracy'])\n",
    "    info = {\n",
    "        \"word_vector_dim\": word_vector_dim,\n",
    "        \"hidden_layer_dim\": hidden_layer_dim,\n",
    "        \"model\": model,\n",
    "        \"history\": None\n",
    "    }\n",
    "    models['lstm'].append(info)"
   ]
  },
  {
   "cell_type": "markdown",
   "id": "swiss-invalid",
   "metadata": {},
   "source": [
    "### 2. GRU 모델"
   ]
  },
  {
   "cell_type": "code",
   "execution_count": 11,
   "id": "capable-possibility",
   "metadata": {},
   "outputs": [],
   "source": [
    "word_vector_dims = [16, 64]\n",
    "hidden_layer_dims = [8, 16]\n",
    "\n",
    "search_list = product(word_vector_dims, hidden_layer_dims)\n",
    "\n",
    "for i, (word_vector_dim, hidden_layer_dim) in enumerate(search_list):\n",
    "\n",
    "    model = keras.Sequential()\n",
    "    model.add(keras.layers.Embedding(vocab_size, word_vector_dim))\n",
    "    model.add(keras.layers.GRU(hidden_layer_dim))\n",
    "    model.add(keras.layers.Dense(hidden_layer_dim, activation='relu'))\n",
    "    model.add(keras.layers.Dense(1, activation='sigmoid'))\n",
    "\n",
    "    model.compile(optimizer='adam', loss='binary_crossentropy', metrics=['accuracy'])\n",
    "    info = {\n",
    "        \"word_vector_dim\": word_vector_dim,\n",
    "        \"hidden_layer_dim\": hidden_layer_dim,\n",
    "        \"model\": model,\n",
    "        \"history\": None\n",
    "    }\n",
    "    models['gru'].append(info)"
   ]
  },
  {
   "cell_type": "markdown",
   "id": "leading-warrant",
   "metadata": {},
   "source": [
    "### 3. CNN 모델"
   ]
  },
  {
   "cell_type": "code",
   "execution_count": 12,
   "id": "separated-provider",
   "metadata": {},
   "outputs": [],
   "source": [
    "word_vector_dims = [16, 64]\n",
    "hidden_layer_dims = [8, 16]\n",
    "\n",
    "search_list = product(word_vector_dims, hidden_layer_dims)\n",
    "\n",
    "for i, (word_vector_dim, hidden_layer_dim) in enumerate(search_list):\n",
    "\n",
    "    model = keras.Sequential()\n",
    "    model.add(keras.layers.Embedding(vocab_size, word_vector_dim))\n",
    "    model.add(keras.layers.Conv1D(16, 7, activation='relu'))\n",
    "    model.add(keras.layers.MaxPooling1D(5))\n",
    "    model.add(keras.layers.Conv1D(16, 7, activation='relu'))\n",
    "    model.add(keras.layers.GlobalMaxPooling1D())\n",
    "    model.add(keras.layers.Dense(hidden_layer_dim, activation='relu'))\n",
    "    model.add(keras.layers.Dense(1, activation='sigmoid'))  # 최종 출력은 긍정/부정을 나타내는 1dim 입니다.\n",
    "\n",
    "    model.compile(optimizer='adam', loss='binary_crossentropy', metrics=['accuracy'])\n",
    "    info = {\n",
    "        \"word_vector_dim\": word_vector_dim,\n",
    "        \"hidden_layer_dim\": hidden_layer_dim,\n",
    "        \"model\": model,\n",
    "        \"history\": None\n",
    "    }\n",
    "    models['cnn'].append(info)"
   ]
  },
  {
   "cell_type": "code",
   "execution_count": 13,
   "id": "universal-resistance",
   "metadata": {},
   "outputs": [
    {
     "name": "stdout",
     "output_type": "stream",
     "text": [
      "(1/4) word_vector_dim:16  hidden_layer_dim:8  acc:0.8435\n",
      "(2/4) word_vector_dim:16  hidden_layer_dim:16  acc:0.8448\n",
      "(3/4) word_vector_dim:64  hidden_layer_dim:8  acc:0.8417\n",
      "(4/4) word_vector_dim:64  hidden_layer_dim:16  acc:0.8399\n"
     ]
    }
   ],
   "source": [
    "EPOCHS = 20\n",
    "for i, info in enumerate(models['lstm']):\n",
    "    total_cnt = len(models['lstm'])\n",
    "    model = info['model']\n",
    "    history = model.fit(train_x, train_y, epochs=EPOCHS, validation_split=0.2, verbose=0)\n",
    "    info['history'] = history\n",
    "    print(\"({}/{}) word_vector_dim:{}  hidden_layer_dim:{}  acc:{:.4f}\".format(i+1, total_cnt, info['word_vector_dim'], info['hidden_layer_dim'], history.history['val_accuracy'][-1]))"
   ]
  },
  {
   "cell_type": "code",
   "execution_count": 14,
   "id": "voluntary-absence",
   "metadata": {},
   "outputs": [
    {
     "name": "stdout",
     "output_type": "stream",
     "text": [
      "(1/4) word_vector_dim:16  hidden_layer_dim:8  acc:0.8349\n",
      "(2/4) word_vector_dim:16  hidden_layer_dim:16  acc:0.8337\n",
      "(3/4) word_vector_dim:64  hidden_layer_dim:8  acc:0.8348\n",
      "(4/4) word_vector_dim:64  hidden_layer_dim:16  acc:0.8330\n"
     ]
    }
   ],
   "source": [
    "EPOCHS = 20\n",
    "for i, info in enumerate(models['gru']):\n",
    "    total_cnt = len(models['gru'])\n",
    "    model = info['model']\n",
    "    history = model.fit(train_x, train_y, epochs=EPOCHS, validation_split=0.2, verbose=0)\n",
    "    info['history'] = history\n",
    "    print(\"({}/{}) word_vector_dim:{}  hidden_layer_dim:{}  acc:{:.4f}\".format(i+1, total_cnt, info['word_vector_dim'], info['hidden_layer_dim'], history.history['val_accuracy'][-1]))"
   ]
  },
  {
   "cell_type": "code",
   "execution_count": 15,
   "id": "random-brass",
   "metadata": {},
   "outputs": [
    {
     "name": "stdout",
     "output_type": "stream",
     "text": [
      "(1/4) word_vector_dim:16  hidden_layer_dim:8  acc:0.8197\n",
      "(2/4) word_vector_dim:16  hidden_layer_dim:16  acc:0.8196\n",
      "(3/4) word_vector_dim:64  hidden_layer_dim:8  acc:0.8338\n",
      "(4/4) word_vector_dim:64  hidden_layer_dim:16  acc:0.8294\n"
     ]
    }
   ],
   "source": [
    "EPOCHS = 20\n",
    "for i, info in enumerate(models['cnn']):\n",
    "    total_cnt = len(models['cnn'])\n",
    "    model = info['model']\n",
    "    history = model.fit(train_x, train_y, epochs=EPOCHS, validation_split=0.2, verbose=0)\n",
    "    info['history'] = history\n",
    "    print(\"({}/{}) word_vector_dim:{}  hidden_layer_dim:{}  acc:{:.4f}\".format(i+1, total_cnt, info['word_vector_dim'], info['hidden_layer_dim'], history.history['val_accuracy'][-1]))"
   ]
  },
  {
   "cell_type": "markdown",
   "id": "coated-brick",
   "metadata": {},
   "source": [
    "**각각의 모델(lstm, gru, cnn)들의 하이퍼파라미터를 변경해가며 학습을 했다. 그 중 각 모델의 최고 val_acc를 달성한 모델을 시각화하려 한다.**"
   ]
  },
  {
   "cell_type": "code",
   "execution_count": 16,
   "id": "altered-tuition",
   "metadata": {},
   "outputs": [],
   "source": [
    "lstm_acc = [info['history'].history['val_accuracy'][0] for info in models['lstm']]\n",
    "gru_acc = [info['history'].history['val_accuracy'][0] for info in models['gru']]\n",
    "cnn_acc = [info['history'].history['val_accuracy'][0] for info in models['cnn']]\n",
    "\n",
    "best_lstm_index = lstm_acc.index(max(lstm_acc))\n",
    "best_gru_index = gru_acc.index(max(gru_acc))\n",
    "best_cnn_index = cnn_acc.index(max(cnn_acc))\n",
    "\n",
    "best_lstm_model_history = models['lstm'][best_lstm_index]['history']\n",
    "best_gru_model_history = models['gru'][best_gru_index]['history']\n",
    "best_cnn_model_history = models['cnn'][best_cnn_index]['history']"
   ]
  },
  {
   "cell_type": "code",
   "execution_count": 17,
   "id": "independent-myrtle",
   "metadata": {},
   "outputs": [
    {
     "data": {
      "image/png": "[encoded data removed]",
      "text/plain": [
       "<Figure size 720x360 with 2 Axes>"
      ]
     },
     "metadata": {
      "needs_background": "light"
     },
     "output_type": "display_data"
    }
   ],
   "source": [
    "fig, (acc_ax, loss_ax) = plt.subplots(1,2, figsize=(10, 5))\n",
    "\n",
    "acc_ax.plot(best_lstm_model_history.history['val_accuracy'][::-1], 'y', label='lstm accuracy')\n",
    "acc_ax.plot(best_gru_model_history.history['val_accuracy'][::-1], 'r', label='gru accuracy')\n",
    "acc_ax.plot(best_cnn_model_history.history['val_accuracy'][::-1], 'b', label='cnn accuracy')\n",
    "\n",
    "acc_ax.set_xlabel('epoch')\n",
    "acc_ax.set_ylabel('accuracy')\n",
    "acc_ax.legend()\n",
    "acc_ax.set_title(\"Accuracy\")\n",
    "\n",
    "loss_ax.plot(best_lstm_model_history.history['val_loss'][::-1], 'y', label='lstm loss')\n",
    "loss_ax.plot(best_gru_model_history.history['val_loss'][::-1], 'r', label='gru loss')\n",
    "loss_ax.plot(best_cnn_model_history.history['val_loss'][::-1], 'b', label='cnn loss')\n",
    "\n",
    "loss_ax.set_xlabel('epoch')\n",
    "loss_ax.set_ylabel('loss')\n",
    "loss_ax.legend()\n",
    "loss_ax.set_title(\"Loss\")\n",
    "\n",
    "plt.show()"
   ]
  },
  {
   "cell_type": "markdown",
   "id": "vulnerable-dependence",
   "metadata": {},
   "source": [
    "위의 결과를 통해 모델을 선택해야 하는데, GRU의 Best Model이 안정적이라고 생각한다."
   ]
  },
  {
   "cell_type": "code",
   "execution_count": 18,
   "id": "composite-teddy",
   "metadata": {},
   "outputs": [],
   "source": [
    "model = models['gru'][best_gru_index]['model']"
   ]
  },
  {
   "cell_type": "markdown",
   "id": "dominican-clearance",
   "metadata": {},
   "source": [
    "## 자체학습 Word2Vec과 사전학습 Word2Vec 비교"
   ]
  },
  {
   "cell_type": "markdown",
   "id": "together-grill",
   "metadata": {},
   "source": [
    "**자체학습 Word2Vec**"
   ]
  },
  {
   "cell_type": "code",
   "execution_count": 19,
   "id": "naked-intensity",
   "metadata": {},
   "outputs": [],
   "source": [
    "embedding_layer = model.layers[0]\n",
    "weights = embedding_layer.get_weights()[0]\n",
    "\n",
    "# 학습한 Embedding 파라미터를 파일에 써서 저장합니다. \n",
    "word2vec_file_path = 'data/word2vec.txt'\n",
    "f = open(word2vec_file_path, 'w')\n",
    "f.write('{} {}\\n'.format(vocab_size-4, word_vector_dim))  # 몇개의 벡터를 얼마 사이즈로 기재할지 타이틀을 씁니다.\n",
    "\n",
    "# 단어 개수(에서 특수문자 4개는 제외하고)만큼의 워드 벡터를 파일에 기록합니다. \n",
    "vectors = model.get_weights()[0]\n",
    "for i in range(4,vocab_size):\n",
    "    f.write('{} {}\\n'.format(index_to_word[i], ' '.join(map(str, list(vectors[i, :])))))\n",
    "f.close()"
   ]
  },
  {
   "cell_type": "code",
   "execution_count": 20,
   "id": "modified-geneva",
   "metadata": {},
   "outputs": [
    {
     "data": {
      "text/plain": [
       "[('놔', 0.7119723558425903),\n",
       " ('1', 0.6914435029029846),\n",
       " ('잘못', 0.634893536567688),\n",
       " ('싫', 0.6231899857521057),\n",
       " ('공개', 0.6194628477096558),\n",
       " ('오버', 0.6143509745597839),\n",
       " ('후회', 0.6141495704650879),\n",
       " ('는구나', 0.61201012134552),\n",
       " ('녀석', 0.6068153977394104),\n",
       " ('코', 0.6049805879592896)]"
      ]
     },
     "execution_count": 20,
     "metadata": {},
     "output_type": "execute_result"
    }
   ],
   "source": [
    "from gensim.models.keyedvectors import Word2VecKeyedVectors\n",
    "\n",
    "word_vectors = Word2VecKeyedVectors.load_word2vec_format(word2vec_file_path, binary=False)\n",
    "word_vectors.similar_by_word(\"밥\")"
   ]
  },
  {
   "cell_type": "markdown",
   "id": "advance-limitation",
   "metadata": {},
   "source": [
    "**사전학습 Word2Vec**"
   ]
  },
  {
   "cell_type": "code",
   "execution_count": 21,
   "id": "behavioral-recall",
   "metadata": {},
   "outputs": [
    {
     "data": {
      "text/plain": [
       "[('스폰지', 0.6359171867370605),\n",
       " ('반찬', 0.6288836002349854),\n",
       " ('떡', 0.6208181381225586),\n",
       " ('계란', 0.6053064465522766),\n",
       " ('시럽', 0.6036492586135864),\n",
       " ('초콜릿', 0.6027452349662781),\n",
       " ('푸딩', 0.5942443609237671),\n",
       " ('국물', 0.5894560813903809),\n",
       " ('치킨', 0.589329719543457),\n",
       " ('비스킷', 0.5666051506996155)]"
      ]
     },
     "execution_count": 21,
     "metadata": {},
     "output_type": "execute_result"
    }
   ],
   "source": [
    "from gensim.models import Word2Vec\n",
    "import gensim\n",
    "path = 'data/ko.bin'\n",
    "word_vectors = Word2Vec.load(path)\n",
    "word_vectors.wv.similar_by_word(\"밥\")"
   ]
  },
  {
   "cell_type": "markdown",
   "id": "wireless-peripheral",
   "metadata": {},
   "source": [
    "## Pretrained Word2Vec으로 학습하기"
   ]
  },
  {
   "cell_type": "code",
   "execution_count": 22,
   "id": "spectacular-helmet",
   "metadata": {},
   "outputs": [],
   "source": [
    "vocab_size = 10000    # 어휘 사전의 크기입니다(10,000개의 단어)\n",
    "word_vector_dim = 200  # 워드 벡터의 차원수\n",
    "embedding_matrix = np.random.rand(vocab_size, word_vector_dim)\n",
    "\n",
    "# embedding_matrix에 Word2Vec 워드 벡터를 단어 하나씩마다 차례차례 카피한다.\n",
    "for i in range(4,vocab_size):\n",
    "    if index_to_word[i] in word_vectors:\n",
    "        embedding_matrix[i] = word_vectors.wv[index_to_word[i]]"
   ]
  },
  {
   "cell_type": "code",
   "execution_count": 23,
   "id": "neural-extraction",
   "metadata": {},
   "outputs": [
    {
     "name": "stdout",
     "output_type": "stream",
     "text": [
      "Epoch 1/20\n",
      "3655/3655 [==============================] - 34s 9ms/step - loss: 0.5956 - accuracy: 0.6581 - val_loss: 0.4672 - val_accuracy: 0.7793\n",
      "Epoch 2/20\n",
      "3655/3655 [==============================] - 32s 9ms/step - loss: 0.4561 - accuracy: 0.7872 - val_loss: 0.4423 - val_accuracy: 0.7957\n",
      "Epoch 3/20\n",
      "3655/3655 [==============================] - 32s 9ms/step - loss: 0.4293 - accuracy: 0.8022 - val_loss: 0.4291 - val_accuracy: 0.8010\n",
      "Epoch 4/20\n",
      "3655/3655 [==============================] - 32s 9ms/step - loss: 0.4134 - accuracy: 0.8102 - val_loss: 0.4197 - val_accuracy: 0.8061\n",
      "Epoch 5/20\n",
      "3655/3655 [==============================] - 32s 9ms/step - loss: 0.4051 - accuracy: 0.8139 - val_loss: 0.4122 - val_accuracy: 0.8118\n",
      "Epoch 6/20\n",
      "3655/3655 [==============================] - 32s 9ms/step - loss: 0.3928 - accuracy: 0.8203 - val_loss: 0.4100 - val_accuracy: 0.8139\n",
      "Epoch 7/20\n",
      "3655/3655 [==============================] - 32s 9ms/step - loss: 0.3864 - accuracy: 0.8239 - val_loss: 0.4184 - val_accuracy: 0.8084\n",
      "Epoch 8/20\n",
      "3655/3655 [==============================] - 32s 9ms/step - loss: 0.3858 - accuracy: 0.8251 - val_loss: 0.4066 - val_accuracy: 0.8144\n",
      "Epoch 9/20\n",
      "3655/3655 [==============================] - 32s 9ms/step - loss: 0.3805 - accuracy: 0.8278 - val_loss: 0.3972 - val_accuracy: 0.8201\n",
      "Epoch 10/20\n",
      "3655/3655 [==============================] - 32s 9ms/step - loss: 0.3769 - accuracy: 0.8294 - val_loss: 0.4015 - val_accuracy: 0.8178\n",
      "Epoch 11/20\n",
      "3655/3655 [==============================] - 32s 9ms/step - loss: 0.3715 - accuracy: 0.8312 - val_loss: 0.3946 - val_accuracy: 0.8210\n",
      "Epoch 12/20\n",
      "3655/3655 [==============================] - 32s 9ms/step - loss: 0.3694 - accuracy: 0.8325 - val_loss: 0.3933 - val_accuracy: 0.8214\n",
      "Epoch 13/20\n",
      "3655/3655 [==============================] - 32s 9ms/step - loss: 0.3665 - accuracy: 0.8342 - val_loss: 0.3942 - val_accuracy: 0.8229\n",
      "Epoch 14/20\n",
      "3655/3655 [==============================] - 32s 9ms/step - loss: 0.3644 - accuracy: 0.8355 - val_loss: 0.3932 - val_accuracy: 0.8238\n",
      "Epoch 15/20\n",
      "3655/3655 [==============================] - 32s 9ms/step - loss: 0.3619 - accuracy: 0.8359 - val_loss: 0.4024 - val_accuracy: 0.8135\n",
      "Epoch 16/20\n",
      "3655/3655 [==============================] - 32s 9ms/step - loss: 0.3623 - accuracy: 0.8381 - val_loss: 0.4010 - val_accuracy: 0.8184\n",
      "Epoch 17/20\n",
      "3655/3655 [==============================] - 32s 9ms/step - loss: 0.3566 - accuracy: 0.8395 - val_loss: 0.3905 - val_accuracy: 0.8242\n",
      "Epoch 18/20\n",
      "3655/3655 [==============================] - 32s 9ms/step - loss: 0.3559 - accuracy: 0.8386 - val_loss: 0.3972 - val_accuracy: 0.8176\n",
      "Epoch 19/20\n",
      "3655/3655 [==============================] - 32s 9ms/step - loss: 0.3561 - accuracy: 0.8412 - val_loss: 0.4065 - val_accuracy: 0.8129\n",
      "Epoch 20/20\n",
      "3655/3655 [==============================] - 32s 9ms/step - loss: 0.3572 - accuracy: 0.8391 - val_loss: 0.3918 - val_accuracy: 0.8253\n"
     ]
    }
   ],
   "source": [
    "from tensorflow.keras.initializers import Constant\n",
    "\n",
    "model = keras.Sequential()\n",
    "model.add(keras.layers.Embedding(vocab_size, word_vector_dim, \n",
    "                                      embeddings_initializer=Constant(embedding_matrix), \n",
    "                                      input_shape=(None,),\n",
    "                                      trainable=False))\n",
    "model.add(keras.layers.GRU(8))\n",
    "model.add(keras.layers.Dense(8, activation='relu'))\n",
    "model.add(keras.layers.Dense(1, activation='sigmoid'))\n",
    "\n",
    "model.compile(optimizer='adam', loss='binary_crossentropy', metrics=['accuracy'])\n",
    "\n",
    "history = model.fit(train_x, train_y, epochs=20, validation_split=0.2)"
   ]
  },
  {
   "cell_type": "code",
   "execution_count": 24,
   "id": "sweet-hardware",
   "metadata": {},
   "outputs": [
    {
     "data": {
      "image/png": "[encoded data removed]",
      "text/plain": [
       "<Figure size 432x288 with 1 Axes>"
      ]
     },
     "metadata": {
      "needs_background": "light"
     },
     "output_type": "display_data"
    }
   ],
   "source": [
    "plt.plot(history.history['val_accuracy'], label='val accuracy')\n",
    "plt.plot(history.history['accuracy'], label='train accuracy')\n",
    "\n",
    "_ = plt.legend()"
   ]
  },
  {
   "cell_type": "markdown",
   "id": "simple-plastic",
   "metadata": {},
   "source": [
    "### 고찰\n",
    "\n",
    "영화리뷰 데이터를 통해 긍정 혹은 부정을 판단하는 모델을 만들었다. 모델학습에 있어서 가장 중요한것은 데이터이다. 데이터 중 앞의 5개만 확인을 해봐도 문제가 있었다. 하지만 이를 어떻게 수정할 것이냐는 질문에 답이 떠오르지 않았다. 당연히 총 20만개의 데이터를 전부 볼 수 없다. 적용하지 못했지만 생각했던 내용들을 기록하려 한다.\n",
    "\n",
    "- 영어로 된 문장제거(사전학습된 한국어 임베딩을 사용하는 이유뿐만 아니라 영어로 쓰인 리뷰는 대게 이상했다)\n",
    "- 확실히 부정적인 단어가 포함된 단어는 부정으로 처리(짜증, 욕)\n",
    "- 확실히 긍정적인 단어가 포함된 단어는 긍정으로 처리(행복, 감사)"
   ]
  }
 ],
 "metadata": {
  "kernelspec": {
   "display_name": "Python 3",
   "language": "python",
   "name": "python3"
  },
  "language_info": {
   "codemirror_mode": {
    "name": "ipython",
    "version": 3
   },
   "file_extension": ".py",
   "mimetype": "text/x-python",
   "name": "python",
   "nbconvert_exporter": "python",
   "pygments_lexer": "ipython3",
   "version": "3.7.9"
  }
 },
 "nbformat": 4,
 "nbformat_minor": 5
}

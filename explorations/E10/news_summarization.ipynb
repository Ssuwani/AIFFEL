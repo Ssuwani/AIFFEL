{
 "cells": [
  {
   "cell_type": "markdown",
   "id": "institutional-automation",
   "metadata": {},
   "source": [
    "# 프로젝트 뉴스기사 요약해보기\n",
    "\n",
    "Step 1. 데이터 수집하기<br/>\n",
    "Step 2. 데이터 전처리하기<br/>\n",
    "Step 3. 어텐션 매커니즘 사용하기<br/>\n",
    "Step 4. 실제 결과와 요약문 비교하기<br/>\n",
    "Step 5. Summa를 이용해서 추출적 요약해보기<br/>\n"
   ]
  },
  {
   "cell_type": "markdown",
   "id": "ranging-extraction",
   "metadata": {},
   "source": [
    "## Step 0. 라이브러리 불러오기"
   ]
  },
  {
   "cell_type": "code",
   "execution_count": 1,
   "id": "intensive-bolivia",
   "metadata": {},
   "outputs": [],
   "source": [
    "import re\n",
    "import pandas as pd\n",
    "from bs4 import BeautifulSoup \n",
    "from nltk.corpus import stopwords\n",
    "from tensorflow.keras.preprocessing.text import Tokenizer \n",
    "from tensorflow.keras.preprocessing.sequence import pad_sequences"
   ]
  },
  {
   "cell_type": "markdown",
   "id": "mature-visitor",
   "metadata": {},
   "source": [
    "## Step 1. 데이터 수집하기"
   ]
  },
  {
   "cell_type": "code",
   "execution_count": 2,
   "id": "alternate-treasure",
   "metadata": {},
   "outputs": [],
   "source": [
    "import urllib.request\n",
    "urllib.request.urlretrieve(\"https://raw.githubusercontent.com/sunnysai12345/News_Summary/master/news_summary_more.csv\", filename=\"news_summary_more.csv\")\n",
    "data = pd.read_csv('news_summary_more.csv', encoding='iso-8859-1')"
   ]
  },
  {
   "cell_type": "code",
   "execution_count": 3,
   "id": "unlike-boston",
   "metadata": {},
   "outputs": [
    {
     "data": {
      "text/html": [
       "<div>\n",
       "<style scoped>\n",
       "    .dataframe tbody tr th:only-of-type {\n",
       "        vertical-align: middle;\n",
       "    }\n",
       "\n",
       "    .dataframe tbody tr th {\n",
       "        vertical-align: top;\n",
       "    }\n",
       "\n",
       "    .dataframe thead th {\n",
       "        text-align: right;\n",
       "    }\n",
       "</style>\n",
       "<table border=\"1\" class=\"dataframe\">\n",
       "  <thead>\n",
       "    <tr style=\"text-align: right;\">\n",
       "      <th></th>\n",
       "      <th>headlines</th>\n",
       "      <th>text</th>\n",
       "    </tr>\n",
       "  </thead>\n",
       "  <tbody>\n",
       "    <tr>\n",
       "      <th>15476</th>\n",
       "      <td>Newly wed woman gangraped by husband, relative...</td>\n",
       "      <td>A newly married woman in Haryana's Kurukshetra...</td>\n",
       "    </tr>\n",
       "    <tr>\n",
       "      <th>85526</th>\n",
       "      <td>Starbucks customer calls black man slave over ...</td>\n",
       "      <td>A man, who was caught on video yelling racial ...</td>\n",
       "    </tr>\n",
       "    <tr>\n",
       "      <th>5780</th>\n",
       "      <td>Car crashes into Parliament entrance barricade...</td>\n",
       "      <td>A car crashed into a barricade at the entrance...</td>\n",
       "    </tr>\n",
       "    <tr>\n",
       "      <th>84823</th>\n",
       "      <td>Man puts fake power outlet stickers for chargi...</td>\n",
       "      <td>A prankster placed stickers resembling power o...</td>\n",
       "    </tr>\n",
       "    <tr>\n",
       "      <th>35160</th>\n",
       "      <td>Parliamentary panel summons RBI Governor over ...</td>\n",
       "      <td>A parliamentary panel has reportedly summoned ...</td>\n",
       "    </tr>\n",
       "    <tr>\n",
       "      <th>88067</th>\n",
       "      <td>Novak Djokovic appoints Andre Agassi as new coach</td>\n",
       "      <td>World number two Serbia's Novak Djokovic has a...</td>\n",
       "    </tr>\n",
       "    <tr>\n",
       "      <th>91227</th>\n",
       "      <td>Hostel in Pakistan prohibits girls from sharin...</td>\n",
       "      <td>The International Islamic University in Islama...</td>\n",
       "    </tr>\n",
       "    <tr>\n",
       "      <th>90080</th>\n",
       "      <td>RSS wing prescribes ways to have perfect 'cust...</td>\n",
       "      <td>RSS's health wing Arogya Bharati under its Gar...</td>\n",
       "    </tr>\n",
       "    <tr>\n",
       "      <th>91106</th>\n",
       "      <td>New India based on EPI (Every Person Important...</td>\n",
       "      <td>In the 31st edition of his monthly radio broad...</td>\n",
       "    </tr>\n",
       "    <tr>\n",
       "      <th>72149</th>\n",
       "      <td>3 Delhi men arrested for duping 200 ATM users</td>\n",
       "      <td>The Delhi Police on Thursday arrested three me...</td>\n",
       "    </tr>\n",
       "  </tbody>\n",
       "</table>\n",
       "</div>"
      ],
      "text/plain": [
       "                                               headlines  \\\n",
       "15476  Newly wed woman gangraped by husband, relative...   \n",
       "85526  Starbucks customer calls black man slave over ...   \n",
       "5780   Car crashes into Parliament entrance barricade...   \n",
       "84823  Man puts fake power outlet stickers for chargi...   \n",
       "35160  Parliamentary panel summons RBI Governor over ...   \n",
       "88067  Novak Djokovic appoints Andre Agassi as new coach   \n",
       "91227  Hostel in Pakistan prohibits girls from sharin...   \n",
       "90080  RSS wing prescribes ways to have perfect 'cust...   \n",
       "91106  New India based on EPI (Every Person Important...   \n",
       "72149      3 Delhi men arrested for duping 200 ATM users   \n",
       "\n",
       "                                                    text  \n",
       "15476  A newly married woman in Haryana's Kurukshetra...  \n",
       "85526  A man, who was caught on video yelling racial ...  \n",
       "5780   A car crashed into a barricade at the entrance...  \n",
       "84823  A prankster placed stickers resembling power o...  \n",
       "35160  A parliamentary panel has reportedly summoned ...  \n",
       "88067  World number two Serbia's Novak Djokovic has a...  \n",
       "91227  The International Islamic University in Islama...  \n",
       "90080  RSS's health wing Arogya Bharati under its Gar...  \n",
       "91106  In the 31st edition of his monthly radio broad...  \n",
       "72149  The Delhi Police on Thursday arrested three me...  "
      ]
     },
     "execution_count": 3,
     "metadata": {},
     "output_type": "execute_result"
    }
   ],
   "source": [
    "data.sample(10)"
   ]
  },
  {
   "cell_type": "markdown",
   "id": "minimal-offer",
   "metadata": {},
   "source": [
    "## Step 2. 데이터 전처리하기"
   ]
  },
  {
   "cell_type": "markdown",
   "id": "cardiovascular-boxing",
   "metadata": {},
   "source": [
    "**결측치 확인하기**"
   ]
  },
  {
   "cell_type": "code",
   "execution_count": 4,
   "id": "ignored-secondary",
   "metadata": {},
   "outputs": [
    {
     "data": {
      "text/plain": [
       "headlines    0\n",
       "text         0\n",
       "dtype: int64"
      ]
     },
     "execution_count": 4,
     "metadata": {},
     "output_type": "execute_result"
    }
   ],
   "source": [
    "data.isnull().sum()"
   ]
  },
  {
   "cell_type": "markdown",
   "id": "combined-controversy",
   "metadata": {},
   "source": [
    "두개의 컬럼 모두 결측치가 없으므로 결측치 제거 안함"
   ]
  },
  {
   "cell_type": "markdown",
   "id": "coordinate-cooper",
   "metadata": {},
   "source": [
    "**중복값 제거**\n",
    "\n",
    "`headline`은 요약된 문장이므로 중복될 수 있다. 하지만 Text가 중복되는 경우는 제거해야한다."
   ]
  },
  {
   "cell_type": "code",
   "execution_count": 5,
   "id": "flush-china",
   "metadata": {},
   "outputs": [
    {
     "name": "stdout",
     "output_type": "stream",
     "text": [
      "중복 제거 후 전체 데이터수 : 98401 -> 98360\n"
     ]
    }
   ],
   "source": [
    "prev_data_len = len(data)\n",
    "data.drop_duplicates(subset=['text'], inplace=True)\n",
    "print(f\"중복 제거 후 전체 데이터수 : {prev_data_len} -> {len(data)}\")"
   ]
  },
  {
   "cell_type": "markdown",
   "id": "frequent-conducting",
   "metadata": {},
   "source": [
    "**정규화 및 불용어 제거**"
   ]
  },
  {
   "cell_type": "code",
   "execution_count": 6,
   "id": "illegal-national",
   "metadata": {},
   "outputs": [
    {
     "name": "stdout",
     "output_type": "stream",
     "text": [
      "정규화 사전의 수:  120\n"
     ]
    }
   ],
   "source": [
    "contractions = {\"ain't\": \"is not\", \"aren't\": \"are not\",\"can't\": \"cannot\", \"'cause\": \"because\", \"could've\": \"could have\", \"couldn't\": \"could not\",\n",
    "                           \"didn't\": \"did not\",  \"doesn't\": \"does not\", \"don't\": \"do not\", \"hadn't\": \"had not\", \"hasn't\": \"has not\", \"haven't\": \"have not\",\n",
    "                           \"he'd\": \"he would\",\"he'll\": \"he will\", \"he's\": \"he is\", \"how'd\": \"how did\", \"how'd'y\": \"how do you\", \"how'll\": \"how will\", \"how's\": \"how is\",\n",
    "                           \"I'd\": \"I would\", \"I'd've\": \"I would have\", \"I'll\": \"I will\", \"I'll've\": \"I will have\",\"I'm\": \"I am\", \"I've\": \"I have\", \"i'd\": \"i would\",\n",
    "                           \"i'd've\": \"i would have\", \"i'll\": \"i will\",  \"i'll've\": \"i will have\",\"i'm\": \"i am\", \"i've\": \"i have\", \"isn't\": \"is not\", \"it'd\": \"it would\",\n",
    "                           \"it'd've\": \"it would have\", \"it'll\": \"it will\", \"it'll've\": \"it will have\",\"it's\": \"it is\", \"let's\": \"let us\", \"ma'am\": \"madam\",\n",
    "                           \"mayn't\": \"may not\", \"might've\": \"might have\",\"mightn't\": \"might not\",\"mightn't've\": \"might not have\", \"must've\": \"must have\",\n",
    "                           \"mustn't\": \"must not\", \"mustn't've\": \"must not have\", \"needn't\": \"need not\", \"needn't've\": \"need not have\",\"o'clock\": \"of the clock\",\n",
    "                           \"oughtn't\": \"ought not\", \"oughtn't've\": \"ought not have\", \"shan't\": \"shall not\", \"sha'n't\": \"shall not\", \"shan't've\": \"shall not have\",\n",
    "                           \"she'd\": \"she would\", \"she'd've\": \"she would have\", \"she'll\": \"she will\", \"she'll've\": \"she will have\", \"she's\": \"she is\",\n",
    "                           \"should've\": \"should have\", \"shouldn't\": \"should not\", \"shouldn't've\": \"should not have\", \"so've\": \"so have\",\"so's\": \"so as\",\n",
    "                           \"this's\": \"this is\",\"that'd\": \"that would\", \"that'd've\": \"that would have\", \"that's\": \"that is\", \"there'd\": \"there would\",\n",
    "                           \"there'd've\": \"there would have\", \"there's\": \"there is\", \"here's\": \"here is\",\"they'd\": \"they would\", \"they'd've\": \"they would have\",\n",
    "                           \"they'll\": \"they will\", \"they'll've\": \"they will have\", \"they're\": \"they are\", \"they've\": \"they have\", \"to've\": \"to have\",\n",
    "                           \"wasn't\": \"was not\", \"we'd\": \"we would\", \"we'd've\": \"we would have\", \"we'll\": \"we will\", \"we'll've\": \"we will have\", \"we're\": \"we are\",\n",
    "                           \"we've\": \"we have\", \"weren't\": \"were not\", \"what'll\": \"what will\", \"what'll've\": \"what will have\", \"what're\": \"what are\",\n",
    "                           \"what's\": \"what is\", \"what've\": \"what have\", \"when's\": \"when is\", \"when've\": \"when have\", \"where'd\": \"where did\", \"where's\": \"where is\",\n",
    "                           \"where've\": \"where have\", \"who'll\": \"who will\", \"who'll've\": \"who will have\", \"who's\": \"who is\", \"who've\": \"who have\",\n",
    "                           \"why's\": \"why is\", \"why've\": \"why have\", \"will've\": \"will have\", \"won't\": \"will not\", \"won't've\": \"will not have\",\n",
    "                           \"would've\": \"would have\", \"wouldn't\": \"would not\", \"wouldn't've\": \"would not have\", \"y'all\": \"you all\",\n",
    "                           \"y'all'd\": \"you all would\",\"y'all'd've\": \"you all would have\",\"y'all're\": \"you all are\",\"y'all've\": \"you all have\",\n",
    "                           \"you'd\": \"you would\", \"you'd've\": \"you would have\", \"you'll\": \"you will\", \"you'll've\": \"you will have\",\n",
    "                           \"you're\": \"you are\", \"you've\": \"you have\"}\n",
    "\n",
    "print(\"정규화 사전의 수: \", len(contractions))"
   ]
  },
  {
   "cell_type": "code",
   "execution_count": 7,
   "id": "impaired-blood",
   "metadata": {},
   "outputs": [],
   "source": [
    "# 데이터 전처리 함수\n",
    "def preprocess_sentence(sentence, remove_stopwords=True):\n",
    "    sentence = sentence.lower() # 텍스트 소문자화\n",
    "    sentence = BeautifulSoup(sentence, \"lxml\").text # <br />, <a href = ...> 등의 html 태그 제거\n",
    "    sentence = re.sub(r'\\([^)]*\\)', '', sentence) # 괄호로 닫힌 문자열 (...) 제거 Ex) my husband (and myself!) for => my husband for\n",
    "    sentence = re.sub('\"','', sentence) # 쌍따옴표 \" 제거\n",
    "    sentence = ' '.join([contractions[t] if t in contractions else t for t in sentence.split(\" \")]) # 약어 정규화\n",
    "    sentence = re.sub(r\"'s\\b\",\"\", sentence) # 소유격 제거. Ex) roland's -> roland\n",
    "    sentence = re.sub(\"[^a-zA-Z]\", \" \", sentence) # 영어 외 문자(숫자, 특수문자 등) 공백으로 변환\n",
    "    sentence = re.sub('[m]{2,}', 'mm', sentence) # m이 3개 이상이면 2개로 변경. Ex) ummmmmmm yeah -> umm yeah\n",
    "    \n",
    "    # 불용어 제거 (Text)\n",
    "    if remove_stopwords:\n",
    "        tokens = ' '.join(word for word in sentence.split() if not word in stopwords.words('english') if len(word) > 1)\n",
    "    # 불용어 미제거 (Summary)\n",
    "    else:\n",
    "        tokens = ' '.join(word for word in sentence.split() if len(word) > 1)\n",
    "    return tokens"
   ]
  },
  {
   "cell_type": "markdown",
   "id": "homeless-distribution",
   "metadata": {},
   "source": [
    "**전처리 동작확인**"
   ]
  },
  {
   "cell_type": "code",
   "execution_count": 8,
   "id": "diagnostic-analysis",
   "metadata": {},
   "outputs": [
    {
     "name": "stdout",
     "output_type": "stream",
     "text": [
      "Saurav Kant, an alumnus of upGrad and IIIT-B's PG Program in Machine learning and Artificial Intelligence, was a Sr Systems Engineer at Infosys with almost 5 years of work experience. The program and upGrad's 360-degree career support helped him transition to a Data Scientist at Tech Mahindra with 90% salary hike. upGrad's Online Power Learning has powered 3 lakh+ careers. \n",
      "->  saurav kant alumnus upgrad iiit pg program machine learning artificial intelligence sr systems engineer infosys almost years work experience program upgrad degree career support helped transition data scientist tech mahindra salary hike upgrad online power learning powered lakh careers\n",
      "\n",
      "upGrad learner switches to career in ML & Al with 90% salary hike \n",
      "-> upgrad learner switches to career in ml al with salary hike\n"
     ]
    }
   ],
   "source": [
    "temp_text = data.loc[0]['text']\n",
    "temp_headline = data.loc[0]['headlines']\n",
    "\n",
    "print(temp_text, \"\\n-> \", preprocess_sentence(temp_text))\n",
    "print()\n",
    "print(temp_headline, \"\\n->\", preprocess_sentence(temp_headline, False))"
   ]
  },
  {
   "cell_type": "markdown",
   "id": "swiss-talent",
   "metadata": {},
   "source": [
    "**멀티프로세싱을 이용해 빠르게 전처리하기**"
   ]
  },
  {
   "cell_type": "code",
   "execution_count": 9,
   "id": "hawaiian-pleasure",
   "metadata": {},
   "outputs": [
    {
     "name": "stdout",
     "output_type": "stream",
     "text": [
      "191.71040391921997  seconds\n",
      "['saurav kant alumnus upgrad iiit pg program machine learning artificial intelligence sr systems engineer infosys almost years work experience program upgrad degree career support helped transition data scientist tech mahindra salary hike upgrad online power learning powered lakh careers'\n",
      " 'kunal shah credit card bill payment platform cred gave users chance win free food swiggy one year pranav kaushik delhi techie bagged reward spending cred coins users get one cred coin per rupee bill paid used avail rewards brands like ixigo bookmyshow ubereats cult fit'\n",
      " 'new zealand defeated india wickets fourth odi hamilton thursday win first match five match odi series india lost international match rohit sharma captaincy consecutive victories dating back march match witnessed india getting seventh lowest total odi cricket history'\n",
      " ...\n",
      " 'according reports new version science fiction film matrix development michael jordan reportedly play lead role film screenwriter zak penn talks write script film reports added actor keanu reeves starred original film followed two sequels'\n",
      " 'new music video shows rapper snoop dogg aiming toy gun clown character parodying us president donald trump video also shows tv airing news conference headline ronald klump wants deport doggs airing live clown house video remixed version song lavender'\n",
      " 'madhesi morcha alliance seven political parties withdrawn support pm pushpa kamal dahal led nepal government failed meet seven day ultimatum fulfil demands including endorsement revised constitution amendment bill morcha seats parliament despite withdrawal support immediate threat government']\n",
      "6.178100347518921  seconds\n",
      "['upgrad learner switches to career in ml al with salary hike'\n",
      " 'delhi techie wins free food from swiggy for one year on cred'\n",
      " 'new zealand end rohit sharma led india match winning streak' ...\n",
      " 'the matrix film to get reboot reports'\n",
      " 'snoop dogg aims gun at clown dressed as trump in new video'\n",
      " 'madhesi morcha withdraws support to nepalese government']\n"
     ]
    }
   ],
   "source": [
    "import multiprocessing as mp   # 멀티 프로세싱으로 전처리 속도를 획기적으로 줄여봅시다\n",
    "from multiprocessing import Pool\n",
    "import numpy as np\n",
    "import time\n",
    "from functools import partial  # map을 할 때 함수에 여러 인자를 넣어줄 수 있도록 합니다\n",
    "\n",
    "start = time.time()\n",
    "\n",
    "# num_cores 만큼 쪼개진 데이터를 전처리하여 반환합니다\n",
    "def appendTexts(sentences, remove_stopwords):\n",
    "    texts = []\n",
    "    for s in sentences:\n",
    "        texts += preprocess_sentence(s, remove_stopwords),\n",
    "    return texts\n",
    "\n",
    "def preprocess_data(data, remove_stopwords=True):\n",
    "    start_time = time.time()\n",
    "    num_cores = mp.cpu_count()  # 컴퓨터의 코어 수를 구합니다\n",
    "\n",
    "    text_data_split = np.array_split(data, num_cores)  # 코어 수만큼 데이터를 배분하여 병렬적으로 처리할 수 있게 합니다\n",
    "    pool = Pool(num_cores)\n",
    "\n",
    "    processed_data = np.concatenate(pool.map(partial(appendTexts, remove_stopwords=remove_stopwords), text_data_split))  # 각자 작업한 데이터를 하나로 합쳐줍니다\n",
    "    pool.close()\n",
    "    pool.join()\n",
    "    print(time.time() - start_time, \" seconds\")\n",
    "    return processed_data\n",
    "\n",
    "clean_text = preprocess_data(data['text'])  # 클라우드 기준으로 3~4분 정도 소요 됩니다\n",
    "print(clean_text)\n",
    "\n",
    "clean_headlines = preprocess_data(data['headlines'], remove_stopwords=False) # 클라우드 기준 1분정도 소요됩니다.\n",
    "print(clean_headlines)"
   ]
  },
  {
   "cell_type": "code",
   "execution_count": 10,
   "id": "proud-mother",
   "metadata": {},
   "outputs": [
    {
     "data": {
      "text/plain": [
       "headlines    0\n",
       "text         0\n",
       "dtype: int64"
      ]
     },
     "execution_count": 10,
     "metadata": {},
     "output_type": "execute_result"
    }
   ],
   "source": [
    "data['text'] = clean_text\n",
    "data['headlines'] = clean_headlines\n",
    "\n",
    "data.replace('', np.nan, inplace=True)\n",
    "\n",
    "# Null이 생겼는지 확인\n",
    "data.isnull().sum()"
   ]
  },
  {
   "cell_type": "markdown",
   "id": "automatic-costs",
   "metadata": {},
   "source": [
    "**샘플의 최대 길이 정하기**"
   ]
  },
  {
   "cell_type": "code",
   "execution_count": 11,
   "id": "sharp-tunisia",
   "metadata": {},
   "outputs": [
    {
     "name": "stdout",
     "output_type": "stream",
     "text": [
      "텍스트의 최소 길이 : 1\n",
      "텍스트의 최대 길이 : 60\n",
      "텍스트의 평균 길이 : 35.09968483123221\n",
      "요약의 최소 길이 : 1\n",
      "요약의 최대 길이 : 16\n",
      "요약의 평균 길이 : 9.299532330215534\n"
     ]
    },
    {
     "data": {
      "image/png": "[encoded data removed]",
      "text/plain": [
       "<Figure size 432x288 with 2 Axes>"
      ]
     },
     "metadata": {
      "needs_background": "light"
     },
     "output_type": "display_data"
    },
    {
     "data": {
      "image/png": "[encoded data removed]",
      "text/plain": [
       "<Figure size 432x288 with 1 Axes>"
      ]
     },
     "metadata": {
      "needs_background": "light"
     },
     "output_type": "display_data"
    },
    {
     "data": {
      "image/png": "[encoded data removed]",
      "text/plain": [
       "<Figure size 432x288 with 1 Axes>"
      ]
     },
     "metadata": {
      "needs_background": "light"
     },
     "output_type": "display_data"
    }
   ],
   "source": [
    "import matplotlib.pyplot as plt\n",
    "\n",
    "text_len = [len(s.split()) for s in data['text']]\n",
    "summary_len = [len(s.split()) for s in data['headlines']]\n",
    "\n",
    "print('텍스트의 최소 길이 : {}'.format(np.min(text_len)))\n",
    "print('텍스트의 최대 길이 : {}'.format(np.max(text_len)))\n",
    "print('텍스트의 평균 길이 : {}'.format(np.mean(text_len)))\n",
    "print('요약의 최소 길이 : {}'.format(np.min(summary_len)))\n",
    "print('요약의 최대 길이 : {}'.format(np.max(summary_len)))\n",
    "print('요약의 평균 길이 : {}'.format(np.mean(summary_len)))\n",
    "\n",
    "plt.subplot(1,2,1)\n",
    "plt.boxplot(summary_len)\n",
    "plt.title('headlines')\n",
    "plt.subplot(1,2,2)\n",
    "plt.boxplot(text_len)\n",
    "plt.title('text')\n",
    "plt.tight_layout()\n",
    "plt.show()\n",
    "\n",
    "plt.title('headlines')\n",
    "plt.hist(summary_len, bins = 40)\n",
    "plt.xlabel('length of samples')\n",
    "plt.ylabel('number of samples')\n",
    "plt.show()\n",
    "\n",
    "plt.title('text')\n",
    "plt.hist(text_len, bins = 40)\n",
    "plt.xlabel('length of samples')\n",
    "plt.ylabel('number of samples')\n",
    "plt.show()"
   ]
  },
  {
   "cell_type": "markdown",
   "id": "processed-original",
   "metadata": {},
   "source": [
    "- 텍스트 길이 1 ~ 60, 평균 35\n",
    "- 요약 1 ~ 16, 평균 9\n",
    "\n",
    "이에따라 적절한 최대길이를 설정해보자"
   ]
  },
  {
   "cell_type": "code",
   "execution_count": 12,
   "id": "arabic-jason",
   "metadata": {},
   "outputs": [],
   "source": [
    "text_max_len = 40\n",
    "headlines_max_len = 11"
   ]
  },
  {
   "cell_type": "code",
   "execution_count": 13,
   "id": "split-packet",
   "metadata": {},
   "outputs": [],
   "source": [
    "def below_threshold_len(max_len, nested_list):\n",
    "    cnt = 0\n",
    "    for s in nested_list:\n",
    "        if(len(s.split()) <= max_len):\n",
    "            cnt = cnt + 1\n",
    "    print('전체 샘플 중 길이가 %s 이하인 샘플의 비율: %s'%(max_len, (cnt / len(nested_list))))"
   ]
  },
  {
   "cell_type": "code",
   "execution_count": 14,
   "id": "induced-subscription",
   "metadata": {},
   "outputs": [
    {
     "name": "stdout",
     "output_type": "stream",
     "text": [
      "전체 샘플 중 길이가 40 이하인 샘플의 비율: 0.9238714924766165\n",
      "전체 샘플 중 길이가 11 이하인 샘플의 비율: 0.9449877999186661\n"
     ]
    }
   ],
   "source": [
    "below_threshold_len(text_max_len, data['text'])\n",
    "below_threshold_len(headlines_max_len,  data['headlines'])"
   ]
  },
  {
   "cell_type": "markdown",
   "id": "vanilla-cuisine",
   "metadata": {},
   "source": [
    "개인적인 직관으로 약 90정도의 비율이 남았으면 좋겠다고 생각해서 최대 길이를 적절히 조절했다."
   ]
  },
  {
   "cell_type": "code",
   "execution_count": 15,
   "id": "hydraulic-tunnel",
   "metadata": {},
   "outputs": [
    {
     "name": "stdout",
     "output_type": "stream",
     "text": [
      "전체 샘플수 : 85843\n"
     ]
    }
   ],
   "source": [
    "data = data[data['text'].apply(lambda x: len(x.split()) <= text_max_len)]\n",
    "data = data[data['headlines'].apply(lambda x: len(x.split()) <= headlines_max_len)]\n",
    "print('전체 샘플수 :', (len(data)))"
   ]
  },
  {
   "cell_type": "markdown",
   "id": "chinese-methodology",
   "metadata": {},
   "source": [
    "**시작 토큰과 종료 토큰 추가하기**"
   ]
  },
  {
   "cell_type": "code",
   "execution_count": 16,
   "id": "intense-guard",
   "metadata": {},
   "outputs": [
    {
     "data": {
      "text/html": [
       "<div>\n",
       "<style scoped>\n",
       "    .dataframe tbody tr th:only-of-type {\n",
       "        vertical-align: middle;\n",
       "    }\n",
       "\n",
       "    .dataframe tbody tr th {\n",
       "        vertical-align: top;\n",
       "    }\n",
       "\n",
       "    .dataframe thead th {\n",
       "        text-align: right;\n",
       "    }\n",
       "</style>\n",
       "<table border=\"1\" class=\"dataframe\">\n",
       "  <thead>\n",
       "    <tr style=\"text-align: right;\">\n",
       "      <th></th>\n",
       "      <th>headlines</th>\n",
       "      <th>text</th>\n",
       "      <th>decoder_input</th>\n",
       "      <th>decoder_target</th>\n",
       "    </tr>\n",
       "  </thead>\n",
       "  <tbody>\n",
       "    <tr>\n",
       "      <th>0</th>\n",
       "      <td>upgrad learner switches to career in ml al wit...</td>\n",
       "      <td>saurav kant alumnus upgrad iiit pg program mac...</td>\n",
       "      <td>sostoken upgrad learner switches to career in ...</td>\n",
       "      <td>upgrad learner switches to career in ml al wit...</td>\n",
       "    </tr>\n",
       "    <tr>\n",
       "      <th>2</th>\n",
       "      <td>new zealand end rohit sharma led india match w...</td>\n",
       "      <td>new zealand defeated india wickets fourth odi ...</td>\n",
       "      <td>sostoken new zealand end rohit sharma led indi...</td>\n",
       "      <td>new zealand end rohit sharma led india match w...</td>\n",
       "    </tr>\n",
       "    <tr>\n",
       "      <th>3</th>\n",
       "      <td>aegon life iterm insurance plan helps customer...</td>\n",
       "      <td>aegon life iterm insurance plan customers enjo...</td>\n",
       "      <td>sostoken aegon life iterm insurance plan helps...</td>\n",
       "      <td>aegon life iterm insurance plan helps customer...</td>\n",
       "    </tr>\n",
       "    <tr>\n",
       "      <th>5</th>\n",
       "      <td>rahat fateh ali khan denies getting notice for...</td>\n",
       "      <td>pakistani singer rahat fateh ali khan denied r...</td>\n",
       "      <td>sostoken rahat fateh ali khan denies getting n...</td>\n",
       "      <td>rahat fateh ali khan denies getting notice for...</td>\n",
       "    </tr>\n",
       "    <tr>\n",
       "      <th>7</th>\n",
       "      <td>govt directs alok verma to join work day befor...</td>\n",
       "      <td>weeks ex cbi director alok verma told departme...</td>\n",
       "      <td>sostoken govt directs alok verma to join work ...</td>\n",
       "      <td>govt directs alok verma to join work day befor...</td>\n",
       "    </tr>\n",
       "  </tbody>\n",
       "</table>\n",
       "</div>"
      ],
      "text/plain": [
       "                                           headlines  \\\n",
       "0  upgrad learner switches to career in ml al wit...   \n",
       "2  new zealand end rohit sharma led india match w...   \n",
       "3  aegon life iterm insurance plan helps customer...   \n",
       "5  rahat fateh ali khan denies getting notice for...   \n",
       "7  govt directs alok verma to join work day befor...   \n",
       "\n",
       "                                                text  \\\n",
       "0  saurav kant alumnus upgrad iiit pg program mac...   \n",
       "2  new zealand defeated india wickets fourth odi ...   \n",
       "3  aegon life iterm insurance plan customers enjo...   \n",
       "5  pakistani singer rahat fateh ali khan denied r...   \n",
       "7  weeks ex cbi director alok verma told departme...   \n",
       "\n",
       "                                       decoder_input  \\\n",
       "0  sostoken upgrad learner switches to career in ...   \n",
       "2  sostoken new zealand end rohit sharma led indi...   \n",
       "3  sostoken aegon life iterm insurance plan helps...   \n",
       "5  sostoken rahat fateh ali khan denies getting n...   \n",
       "7  sostoken govt directs alok verma to join work ...   \n",
       "\n",
       "                                      decoder_target  \n",
       "0  upgrad learner switches to career in ml al wit...  \n",
       "2  new zealand end rohit sharma led india match w...  \n",
       "3  aegon life iterm insurance plan helps customer...  \n",
       "5  rahat fateh ali khan denies getting notice for...  \n",
       "7  govt directs alok verma to join work day befor...  "
      ]
     },
     "execution_count": 16,
     "metadata": {},
     "output_type": "execute_result"
    }
   ],
   "source": [
    "# 요약 데이터에는 시작 토큰과 종료 토큰을 추가한다.\n",
    "data['decoder_input'] = data['headlines'].apply(lambda x : 'sostoken '+ x)\n",
    "data['decoder_target'] = data['headlines'].apply(lambda x : x + ' eostoken')\n",
    "data.head()"
   ]
  },
  {
   "cell_type": "code",
   "execution_count": 17,
   "id": "addressed-belgium",
   "metadata": {},
   "outputs": [],
   "source": [
    "encoder_input = np.array(data['text']) # 인코더의 입력\n",
    "decoder_input = np.array(data['decoder_input']) # 디코더의 입력\n",
    "decoder_target = np.array(data['decoder_target']) # 디코더의 레이블"
   ]
  },
  {
   "cell_type": "code",
   "execution_count": 18,
   "id": "introductory-printing",
   "metadata": {},
   "outputs": [
    {
     "name": "stdout",
     "output_type": "stream",
     "text": [
      "훈련 데이터의 개수 : 68674\n",
      "훈련 레이블의 개수 : 68674\n",
      "테스트 데이터의 개수 : 17169\n",
      "테스트 레이블의 개수 : 17169\n"
     ]
    }
   ],
   "source": [
    "from sklearn.model_selection import train_test_split\n",
    "\n",
    "encoder_input_train, encoder_input_test,\\\n",
    "decoder_input_train, decoder_input_test,\\\n",
    "decoder_target_train, decoder_target_test = train_test_split(encoder_input, decoder_input, decoder_target, test_size=0.2)\n",
    "\n",
    "print('훈련 데이터의 개수 :', len(encoder_input_train))\n",
    "print('훈련 레이블의 개수 :', len(decoder_input_train))\n",
    "print('테스트 데이터의 개수 :', len(encoder_input_test))\n",
    "print('테스트 레이블의 개수 :', len(decoder_input_test))"
   ]
  },
  {
   "cell_type": "markdown",
   "id": "provincial-slide",
   "metadata": {},
   "source": [
    "**단어 집합(vocabulary) 만들기 및 정수 인코딩**"
   ]
  },
  {
   "cell_type": "code",
   "execution_count": 19,
   "id": "naked-cross",
   "metadata": {},
   "outputs": [],
   "source": [
    "src_tokenizer = Tokenizer() # 토크나이저 정의\n",
    "src_tokenizer.fit_on_texts(encoder_input_train) # 입력된 데이터로부터 단어 집합 생성"
   ]
  },
  {
   "cell_type": "code",
   "execution_count": 20,
   "id": "earned-football",
   "metadata": {},
   "outputs": [
    {
     "name": "stdout",
     "output_type": "stream",
     "text": [
      "단어 집합(vocabulary)의 크기 : 64741\n",
      "등장 빈도가 6번 이하인 희귀 단어의 수: 44113\n",
      "단어 집합에서 희귀 단어를 제외시킬 경우의 단어 집합의 크기 20628\n",
      "단어 집합에서 희귀 단어의 비율: 68.13765619931728\n",
      "전체 등장 빈도에서 희귀 단어 등장 빈도 비율: 3.7748851551643403\n"
     ]
    }
   ],
   "source": [
    "threshold = 7\n",
    "total_cnt = len(src_tokenizer.word_index) # 단어의 수\n",
    "rare_cnt = 0 # 등장 빈도수가 threshold보다 작은 단어의 개수를 카운트\n",
    "total_freq = 0 # 훈련 데이터의 전체 단어 빈도수 총 합\n",
    "rare_freq = 0 # 등장 빈도수가 threshold보다 작은 단어의 등장 빈도수의 총 합\n",
    "\n",
    "# 단어와 빈도수의 쌍(pair)을 key와 value로 받는다.\n",
    "for key, value in src_tokenizer.word_counts.items():\n",
    "    total_freq = total_freq + value\n",
    "\n",
    "    # 단어의 등장 빈도수가 threshold보다 작으면\n",
    "    if(value < threshold):\n",
    "        rare_cnt = rare_cnt + 1\n",
    "        rare_freq = rare_freq + value\n",
    "\n",
    "print('단어 집합(vocabulary)의 크기 :', total_cnt)\n",
    "print('등장 빈도가 %s번 이하인 희귀 단어의 수: %s'%(threshold - 1, rare_cnt))\n",
    "print('단어 집합에서 희귀 단어를 제외시킬 경우의 단어 집합의 크기 %s'%(total_cnt - rare_cnt))\n",
    "print(\"단어 집합에서 희귀 단어의 비율:\", (rare_cnt / total_cnt)*100)\n",
    "print(\"전체 등장 빈도에서 희귀 단어 등장 빈도 비율:\", (rare_freq / total_freq)*100)"
   ]
  },
  {
   "cell_type": "markdown",
   "id": "executed-structure",
   "metadata": {},
   "source": [
    "등장 빈도가 6번 이하인 단어가 희귀단어라면 희귀단어의 비율이 약 70%에 달하지만 등장 비율은 3.8%밖에 되지 않는다.  따라서 이부분을 제거하기 위해서 단어집합의 크기를 줄이려 한다. 희귀단어를 제거 시킬경우 단어 집합의 크기는 약 20000이므로 이에따라, Tokenizer를 다시 정의하고 단어집합을 다시 생성한다."
   ]
  },
  {
   "cell_type": "code",
   "execution_count": 21,
   "id": "embedded-glance",
   "metadata": {},
   "outputs": [],
   "source": [
    "src_vocab = 20000\n",
    "src_tokenizer = Tokenizer(num_words=src_vocab) # 단어 집합의 크기를 8,000으로 제한\n",
    "src_tokenizer.fit_on_texts(encoder_input_train) # 단어 집합 재생성."
   ]
  },
  {
   "cell_type": "code",
   "execution_count": 22,
   "id": "injured-preliminary",
   "metadata": {},
   "outputs": [
    {
     "name": "stdout",
     "output_type": "stream",
     "text": [
      "[[3849, 762, 312, 909, 83, 328, 1434, 3371, 3788, 265, 1277, 83, 1, 2118, 64, 312, 909, 1, 320, 1, 312, 2821, 2448, 5516, 5650, 4448, 2448, 4, 1277], [274, 881, 1409, 12272, 19205, 160, 1152, 38, 48, 950, 8342, 5721, 353, 8988, 86, 255, 1047, 5930, 1453, 4, 1710, 64, 3317, 2188, 321, 400, 3066], [756, 25, 3, 5228, 308, 4247, 756, 8989, 287, 3163, 3469, 5069, 608, 912, 9832, 156, 7483, 6960, 3048, 10069, 4537, 3163, 3469, 64, 527, 9832, 64, 17013, 527, 5228, 6, 1675, 13140, 12273]]\n"
     ]
    }
   ],
   "source": [
    "encoder_input_train = src_tokenizer.texts_to_sequences(encoder_input_train) \n",
    "encoder_input_test = src_tokenizer.texts_to_sequences(encoder_input_test)\n",
    "\n",
    "# 잘 진행되었는지 샘플 출력\n",
    "print(encoder_input_train[:3])"
   ]
  },
  {
   "cell_type": "markdown",
   "id": "aboriginal-letter",
   "metadata": {},
   "source": [
    "<br/>Headline 데이터에 대해서도 위의 과정을 반복한다."
   ]
  },
  {
   "cell_type": "code",
   "execution_count": 23,
   "id": "afraid-adult",
   "metadata": {},
   "outputs": [],
   "source": [
    "tar_tokenizer = Tokenizer()\n",
    "tar_tokenizer.fit_on_texts(decoder_input_train)"
   ]
  },
  {
   "cell_type": "code",
   "execution_count": 24,
   "id": "seven-pencil",
   "metadata": {},
   "outputs": [
    {
     "name": "stdout",
     "output_type": "stream",
     "text": [
      "단어 집합(vocabulary)의 크기 : 28505\n",
      "등장 빈도가 5번 이하인 희귀 단어의 수: 18780\n",
      "단어 집합에서 희귀 단어를 제외시킬 경우의 단어 집합의 크기 9725\n",
      "단어 집합에서 희귀 단어의 비율: 65.88317838975618\n",
      "전체 등장 빈도에서 희귀 단어 등장 빈도 비율: 5.17887103429338\n"
     ]
    }
   ],
   "source": [
    "threshold = 6\n",
    "total_cnt = len(tar_tokenizer.word_index) # 단어의 수\n",
    "rare_cnt = 0 # 등장 빈도수가 threshold보다 작은 단어의 개수를 카운트\n",
    "total_freq = 0 # 훈련 데이터의 전체 단어 빈도수 총 합\n",
    "rare_freq = 0 # 등장 빈도수가 threshold보다 작은 단어의 등장 빈도수의 총 합\n",
    "\n",
    "# 단어와 빈도수의 쌍(pair)을 key와 value로 받는다.\n",
    "for key, value in tar_tokenizer.word_counts.items():\n",
    "    total_freq = total_freq + value\n",
    "\n",
    "    # 단어의 등장 빈도수가 threshold보다 작으면\n",
    "    if(value < threshold):\n",
    "        rare_cnt = rare_cnt + 1\n",
    "        rare_freq = rare_freq + value\n",
    "\n",
    "print('단어 집합(vocabulary)의 크기 :', total_cnt)\n",
    "print('등장 빈도가 %s번 이하인 희귀 단어의 수: %s'%(threshold - 1, rare_cnt))\n",
    "print('단어 집합에서 희귀 단어를 제외시킬 경우의 단어 집합의 크기 %s'%(total_cnt - rare_cnt))\n",
    "print(\"단어 집합에서 희귀 단어의 비율:\", (rare_cnt / total_cnt)*100)\n",
    "print(\"전체 등장 빈도에서 희귀 단어 등장 빈도 비율:\", (rare_freq / total_freq)*100)"
   ]
  },
  {
   "cell_type": "code",
   "execution_count": 25,
   "id": "endless-buying",
   "metadata": {},
   "outputs": [
    {
     "name": "stdout",
     "output_type": "stream",
     "text": [
      "input  [[1, 539, 424, 3981, 517, 779, 26, 21, 631, 5, 133, 625], [1, 44, 4922, 11, 5142, 119], [1, 1494, 1927, 6636, 77, 3718, 690, 8182, 6637], [1, 38, 1119, 2450, 3, 632, 22, 6638], [1, 81, 2024, 3128, 1304, 7, 214, 23, 42]]\n",
      "decoder  [[539, 424, 3981, 517, 779, 26, 21, 631, 5, 133, 625, 2], [44, 4922, 11, 5142, 119, 2], [1494, 1927, 6636, 77, 3718, 690, 8182, 6637, 2], [38, 1119, 2450, 3, 632, 22, 6638, 2], [81, 2024, 3128, 1304, 7, 214, 23, 42, 2]]\n"
     ]
    }
   ],
   "source": [
    "tar_vocab = 9700\n",
    "tar_tokenizer = Tokenizer(num_words=tar_vocab) \n",
    "tar_tokenizer.fit_on_texts(decoder_input_train)\n",
    "tar_tokenizer.fit_on_texts(decoder_target_train)\n",
    "\n",
    "# 텍스트 시퀀스를 정수 시퀀스로 변환\n",
    "decoder_input_train = tar_tokenizer.texts_to_sequences(decoder_input_train) \n",
    "decoder_target_train = tar_tokenizer.texts_to_sequences(decoder_target_train)\n",
    "decoder_input_test = tar_tokenizer.texts_to_sequences(decoder_input_test)\n",
    "decoder_target_test = tar_tokenizer.texts_to_sequences(decoder_target_test)\n",
    "\n",
    "# 잘 변환되었는지 확인\n",
    "print('input ',decoder_input_train[:5])\n",
    "print('decoder ',decoder_target_train[:5])"
   ]
  },
  {
   "cell_type": "markdown",
   "id": "nonprofit-assignment",
   "metadata": {},
   "source": [
    "<br/>길이가 1인경우 제거"
   ]
  },
  {
   "cell_type": "code",
   "execution_count": 26,
   "id": "mounted-supplier",
   "metadata": {},
   "outputs": [
    {
     "name": "stdout",
     "output_type": "stream",
     "text": [
      "삭제할 훈련 데이터의 개수 : 1\n",
      "삭제할 테스트 데이터의 개수 : 0\n",
      "훈련 데이터의 개수 : 68673\n",
      "훈련 레이블의 개수 : 68673\n",
      "테스트 데이터의 개수 : 17169\n",
      "테스트 레이블의 개수 : 17169\n"
     ]
    },
    {
     "name": "stderr",
     "output_type": "stream",
     "text": [
      "/opt/conda/lib/python3.7/site-packages/numpy/core/_asarray.py:83: VisibleDeprecationWarning: Creating an ndarray from ragged nested sequences (which is a list-or-tuple of lists-or-tuples-or ndarrays with different lengths or shapes) is deprecated. If you meant to do this, you must specify 'dtype=object' when creating the ndarray\n",
      "  return array(a, dtype, copy=False, order=order)\n"
     ]
    }
   ],
   "source": [
    "drop_train = [index for index, sentence in enumerate(decoder_input_train) if len(sentence) == 2]\n",
    "drop_test = [index for index, sentence in enumerate(decoder_input_test) if len(sentence) == 1]\n",
    "\n",
    "print('삭제할 훈련 데이터의 개수 :', len(drop_train))\n",
    "print('삭제할 테스트 데이터의 개수 :', len(drop_test))\n",
    "\n",
    "encoder_input_train = np.delete(encoder_input_train, drop_train, axis=0)\n",
    "decoder_input_train = np.delete(decoder_input_train, drop_train, axis=0)\n",
    "decoder_target_train = np.delete(decoder_target_train, drop_train, axis=0)\n",
    "\n",
    "encoder_input_test = np.delete(encoder_input_test, drop_test, axis=0)\n",
    "decoder_input_test = np.delete(decoder_input_test, drop_test, axis=0)\n",
    "decoder_target_test = np.delete(decoder_target_test, drop_test, axis=0)\n",
    "\n",
    "print('훈련 데이터의 개수 :', len(encoder_input_train))\n",
    "print('훈련 레이블의 개수 :', len(decoder_input_train))\n",
    "print('테스트 데이터의 개수 :', len(encoder_input_test))\n",
    "print('테스트 레이블의 개수 :', len(decoder_input_test))"
   ]
  },
  {
   "cell_type": "code",
   "execution_count": 27,
   "id": "disciplinary-thousand",
   "metadata": {},
   "outputs": [],
   "source": [
    "encoder_input_train = pad_sequences(encoder_input_train, maxlen=text_max_len, padding='post')\n",
    "encoder_input_test = pad_sequences(encoder_input_test, maxlen=text_max_len, padding='post')\n",
    "decoder_input_train = pad_sequences(decoder_input_train, maxlen=headlines_max_len, padding='post')\n",
    "decoder_target_train = pad_sequences(decoder_target_train, maxlen=headlines_max_len, padding='post')\n",
    "decoder_input_test = pad_sequences(decoder_input_test, maxlen=headlines_max_len, padding='post')\n",
    "decoder_target_test = pad_sequences(decoder_target_test, maxlen=headlines_max_len, padding='post')"
   ]
  },
  {
   "cell_type": "markdown",
   "id": "cellular-commerce",
   "metadata": {},
   "source": [
    "## Step 3. 어텐션 매커니즘 사용하기"
   ]
  },
  {
   "cell_type": "markdown",
   "id": "developing-group",
   "metadata": {},
   "source": [
    "**모델 설계**"
   ]
  },
  {
   "cell_type": "code",
   "execution_count": 28,
   "id": "dense-salem",
   "metadata": {},
   "outputs": [
    {
     "name": "stdout",
     "output_type": "stream",
     "text": [
      "WARNING:tensorflow:Layer lstm will not use cuDNN kernel since it doesn't meet the cuDNN kernel criteria. It will use generic GPU kernel as fallback when running on GPU\n",
      "WARNING:tensorflow:Layer lstm_1 will not use cuDNN kernel since it doesn't meet the cuDNN kernel criteria. It will use generic GPU kernel as fallback when running on GPU\n",
      "WARNING:tensorflow:Layer lstm_2 will not use cuDNN kernel since it doesn't meet the cuDNN kernel criteria. It will use generic GPU kernel as fallback when running on GPU\n"
     ]
    }
   ],
   "source": [
    "from tensorflow.keras.layers import Input, LSTM, Embedding, Dense, Concatenate\n",
    "from tensorflow.keras.models import Model\n",
    "from tensorflow.keras.callbacks import EarlyStopping, ModelCheckpoint\n",
    "\n",
    "\n",
    "# 인코더 설계 시작\n",
    "embedding_dim = 128\n",
    "hidden_size = 256\n",
    "\n",
    "# 인코더\n",
    "encoder_inputs = Input(shape=(text_max_len,))\n",
    "\n",
    "# 인코더의 임베딩 층\n",
    "enc_emb = Embedding(src_vocab, embedding_dim)(encoder_inputs)\n",
    "\n",
    "# 인코더의 LSTM 1\n",
    "encoder_lstm1 = LSTM(hidden_size, return_sequences=True, return_state=True ,dropout = 0.4, recurrent_dropout = 0.4)\n",
    "encoder_output1, state_h1, state_c1 = encoder_lstm1(enc_emb)\n",
    "\n",
    "# 인코더의 LSTM 2\n",
    "encoder_lstm2 = LSTM(hidden_size, return_sequences=True, return_state=True, dropout=0.4, recurrent_dropout=0.4)\n",
    "encoder_output2, state_h2, state_c2 = encoder_lstm2(encoder_output1)\n",
    "\n",
    "# 인코더의 LSTM 3\n",
    "encoder_lstm3 = LSTM(hidden_size, return_state=True, return_sequences=True, dropout=0.4, recurrent_dropout=0.4)\n",
    "encoder_outputs, state_h, state_c= encoder_lstm3(encoder_output2)"
   ]
  },
  {
   "cell_type": "code",
   "execution_count": 29,
   "id": "vertical-array",
   "metadata": {},
   "outputs": [
    {
     "name": "stdout",
     "output_type": "stream",
     "text": [
      "WARNING:tensorflow:Layer lstm_3 will not use cuDNN kernel since it doesn't meet the cuDNN kernel criteria. It will use generic GPU kernel as fallback when running on GPU\n"
     ]
    }
   ],
   "source": [
    "# 디코더 설계\n",
    "decoder_inputs = Input(shape=(None,))\n",
    "\n",
    "# 디코더의 임베딩 층\n",
    "dec_emb_layer = Embedding(tar_vocab, embedding_dim)\n",
    "dec_emb = dec_emb_layer(decoder_inputs)\n",
    "\n",
    "# 디코더의 LSTM\n",
    "decoder_lstm = LSTM(hidden_size, return_sequences=True, return_state=True, dropout=0.4, recurrent_dropout=0.2)\n",
    "decoder_outputs, _, _ = decoder_lstm(dec_emb, initial_state=[state_h, state_c])"
   ]
  },
  {
   "cell_type": "code",
   "execution_count": 30,
   "id": "stuffed-packing",
   "metadata": {},
   "outputs": [],
   "source": [
    "urllib.request.urlretrieve(\"https://raw.githubusercontent.com/thushv89/attention_keras/master/src/layers/attention.py\", filename=\"attention.py\")\n",
    "from attention import AttentionLayer"
   ]
  },
  {
   "cell_type": "code",
   "execution_count": 31,
   "id": "seven-single",
   "metadata": {},
   "outputs": [
    {
     "name": "stdout",
     "output_type": "stream",
     "text": [
      "Model: \"model\"\n",
      "__________________________________________________________________________________________________\n",
      "Layer (type)                    Output Shape         Param #     Connected to                     \n",
      "==================================================================================================\n",
      "input_1 (InputLayer)            [(None, 40)]         0                                            \n",
      "__________________________________________________________________________________________________\n",
      "embedding (Embedding)           (None, 40, 128)      2560000     input_1[0][0]                    \n",
      "__________________________________________________________________________________________________\n",
      "lstm (LSTM)                     [(None, 40, 256), (N 394240      embedding[0][0]                  \n",
      "__________________________________________________________________________________________________\n",
      "input_2 (InputLayer)            [(None, None)]       0                                            \n",
      "__________________________________________________________________________________________________\n",
      "lstm_1 (LSTM)                   [(None, 40, 256), (N 525312      lstm[0][0]                       \n",
      "__________________________________________________________________________________________________\n",
      "embedding_1 (Embedding)         (None, None, 128)    1241600     input_2[0][0]                    \n",
      "__________________________________________________________________________________________________\n",
      "lstm_2 (LSTM)                   [(None, 40, 256), (N 525312      lstm_1[0][0]                     \n",
      "__________________________________________________________________________________________________\n",
      "lstm_3 (LSTM)                   [(None, None, 256),  394240      embedding_1[0][0]                \n",
      "                                                                 lstm_2[0][1]                     \n",
      "                                                                 lstm_2[0][2]                     \n",
      "__________________________________________________________________________________________________\n",
      "attention_layer (AttentionLayer ((None, None, 256),  131328      lstm_2[0][0]                     \n",
      "                                                                 lstm_3[0][0]                     \n",
      "__________________________________________________________________________________________________\n",
      "concat_layer (Concatenate)      (None, None, 512)    0           lstm_3[0][0]                     \n",
      "                                                                 attention_layer[0][0]            \n",
      "__________________________________________________________________________________________________\n",
      "dense (Dense)                   (None, None, 9700)   4976100     concat_layer[0][0]               \n",
      "==================================================================================================\n",
      "Total params: 10,748,132\n",
      "Trainable params: 10,748,132\n",
      "Non-trainable params: 0\n",
      "__________________________________________________________________________________________________\n"
     ]
    }
   ],
   "source": [
    "# 어텐션 층(어텐션 함수)\n",
    "attn_layer = AttentionLayer(name='attention_layer')\n",
    "# 인코더와 디코더의 모든 time step의 hidden state를 어텐션 층에 전달하고 결과를 리턴\n",
    "attn_out, attn_states = attn_layer([encoder_outputs, decoder_outputs])\n",
    "\n",
    "# 어텐션의 결과와 디코더의 hidden state들을 연결\n",
    "decoder_concat_input = Concatenate(axis=-1, name='concat_layer')([decoder_outputs, attn_out])\n",
    "\n",
    "# 디코더의 출력층\n",
    "decoder_softmax_layer = Dense(tar_vocab, activation='softmax')\n",
    "decoder_softmax_outputs = decoder_softmax_layer(decoder_concat_input)\n",
    "\n",
    "# 모델 정의\n",
    "model = Model([encoder_inputs, decoder_inputs], decoder_softmax_outputs)\n",
    "model.summary()"
   ]
  },
  {
   "cell_type": "markdown",
   "id": "ceramic-treasurer",
   "metadata": {},
   "source": [
    "**모델학습**\n",
    "\n",
    "EarlyStopping을 통해 val_loss가 연속 2번 증가하면 과적합 방지를 위해 학습종료"
   ]
  },
  {
   "cell_type": "code",
   "execution_count": 32,
   "id": "arbitrary-craft",
   "metadata": {},
   "outputs": [
    {
     "name": "stdout",
     "output_type": "stream",
     "text": [
      "Epoch 1/50\n",
      "68/68 [==============================] - 103s 1s/step - loss: 6.9172 - val_loss: 6.0054\n",
      "Epoch 2/50\n",
      "68/68 [==============================] - 93s 1s/step - loss: 6.0011 - val_loss: 5.7856\n",
      "Epoch 3/50\n",
      "68/68 [==============================] - 94s 1s/step - loss: 5.7707 - val_loss: 5.6080\n",
      "Epoch 4/50\n",
      "68/68 [==============================] - 94s 1s/step - loss: 5.5839 - val_loss: 5.4575\n",
      "Epoch 5/50\n",
      "68/68 [==============================] - 94s 1s/step - loss: 5.4330 - val_loss: 5.3523\n",
      "Epoch 6/50\n",
      "68/68 [==============================] - 94s 1s/step - loss: 5.2572 - val_loss: 5.1875\n",
      "Epoch 7/50\n",
      "68/68 [==============================] - 94s 1s/step - loss: 5.0729 - val_loss: 5.0300\n",
      "Epoch 8/50\n",
      "68/68 [==============================] - 94s 1s/step - loss: 4.8935 - val_loss: 4.8734\n",
      "Epoch 9/50\n",
      "68/68 [==============================] - 94s 1s/step - loss: 4.7245 - val_loss: 4.8049\n",
      "Epoch 10/50\n",
      "68/68 [==============================] - 95s 1s/step - loss: 4.5806 - val_loss: 4.6859\n",
      "Epoch 11/50\n",
      "68/68 [==============================] - 94s 1s/step - loss: 4.4480 - val_loss: 4.6020\n",
      "Epoch 12/50\n",
      "68/68 [==============================] - 94s 1s/step - loss: 4.3276 - val_loss: 4.5650\n",
      "Epoch 13/50\n",
      "68/68 [==============================] - 94s 1s/step - loss: 4.2267 - val_loss: 4.4679\n",
      "Epoch 14/50\n",
      "68/68 [==============================] - 94s 1s/step - loss: 4.1216 - val_loss: 4.4307\n",
      "Epoch 15/50\n",
      "68/68 [==============================] - 95s 1s/step - loss: 4.0370 - val_loss: 4.3750\n",
      "Epoch 16/50\n",
      "68/68 [==============================] - 94s 1s/step - loss: 3.9513 - val_loss: 4.3363\n",
      "Epoch 17/50\n",
      "68/68 [==============================] - 94s 1s/step - loss: 3.8723 - val_loss: 4.3012\n",
      "Epoch 18/50\n",
      "68/68 [==============================] - 95s 1s/step - loss: 3.7902 - val_loss: 4.2611\n",
      "Epoch 19/50\n",
      "68/68 [==============================] - 95s 1s/step - loss: 3.7203 - val_loss: 4.2327\n",
      "Epoch 20/50\n",
      "68/68 [==============================] - 94s 1s/step - loss: 3.6517 - val_loss: 4.1963\n",
      "Epoch 21/50\n",
      "68/68 [==============================] - 94s 1s/step - loss: 3.5803 - val_loss: 4.1858\n",
      "Epoch 22/50\n",
      "68/68 [==============================] - 95s 1s/step - loss: 3.5201 - val_loss: 4.1582\n",
      "Epoch 23/50\n",
      "68/68 [==============================] - 95s 1s/step - loss: 3.4592 - val_loss: 4.1490\n",
      "Epoch 24/50\n",
      "68/68 [==============================] - 94s 1s/step - loss: 3.4020 - val_loss: 4.1191\n",
      "Epoch 25/50\n",
      "68/68 [==============================] - 95s 1s/step - loss: 3.3499 - val_loss: 4.1024\n",
      "Epoch 26/50\n",
      "68/68 [==============================] - 95s 1s/step - loss: 3.2889 - val_loss: 4.0961\n",
      "Epoch 27/50\n",
      "68/68 [==============================] - 95s 1s/step - loss: 3.2369 - val_loss: 4.0934\n",
      "Epoch 28/50\n",
      "68/68 [==============================] - 94s 1s/step - loss: 3.1909 - val_loss: 4.0738\n",
      "Epoch 29/50\n",
      "68/68 [==============================] - 95s 1s/step - loss: 3.1469 - val_loss: 4.0592\n",
      "Epoch 30/50\n",
      "68/68 [==============================] - 95s 1s/step - loss: 3.0988 - val_loss: 4.0484\n",
      "Epoch 31/50\n",
      "68/68 [==============================] - 95s 1s/step - loss: 3.0498 - val_loss: 4.0400\n",
      "Epoch 32/50\n",
      "68/68 [==============================] - 94s 1s/step - loss: 3.0089 - val_loss: 4.0385\n",
      "Epoch 33/50\n",
      "68/68 [==============================] - 95s 1s/step - loss: 2.9656 - val_loss: 4.0186\n",
      "Epoch 34/50\n",
      "68/68 [==============================] - 95s 1s/step - loss: 2.9309 - val_loss: 4.0226\n",
      "Epoch 35/50\n",
      "68/68 [==============================] - 95s 1s/step - loss: 2.8891 - val_loss: 4.0146\n",
      "Epoch 36/50\n",
      "68/68 [==============================] - 94s 1s/step - loss: 2.8541 - val_loss: 4.0164\n",
      "Epoch 37/50\n",
      "68/68 [==============================] - 95s 1s/step - loss: 2.8216 - val_loss: 4.0170\n",
      "Epoch 00037: early stopping\n"
     ]
    }
   ],
   "source": [
    "model.compile(optimizer='rmsprop', loss='sparse_categorical_crossentropy')\n",
    "\n",
    "es = EarlyStopping(monitor='val_loss', patience=2, verbose=1)\n",
    "history = model.fit(x=[encoder_input_train, decoder_input_train], y=decoder_target_train, \\\n",
    "          validation_data=([encoder_input_test, decoder_input_test], decoder_target_test), \\\n",
    "          batch_size=1024, callbacks=[es], epochs=50)"
   ]
  },
  {
   "cell_type": "code",
   "execution_count": 33,
   "id": "broke-civilization",
   "metadata": {},
   "outputs": [
    {
     "data": {
      "image/png": "[encoded data removed]",
      "text/plain": [
       "<Figure size 432x288 with 1 Axes>"
      ]
     },
     "metadata": {
      "needs_background": "light"
     },
     "output_type": "display_data"
    }
   ],
   "source": [
    "plt.plot(history.history['loss'], label='train')\n",
    "plt.plot(history.history['val_loss'], label='validation')\n",
    "plt.legend()\n",
    "plt.show()"
   ]
  },
  {
   "cell_type": "markdown",
   "id": "clear-dinner",
   "metadata": {},
   "source": [
    "## Step 4. 실제 결과와 요약문 비교하기"
   ]
  },
  {
   "cell_type": "markdown",
   "id": "isolated-yellow",
   "metadata": {},
   "source": [
    "**인퍼런스 모델 구현하기**"
   ]
  },
  {
   "cell_type": "code",
   "execution_count": 34,
   "id": "stupid-saskatchewan",
   "metadata": {},
   "outputs": [],
   "source": [
    "src_index_to_word = src_tokenizer.index_word # 원문 단어 집합에서 정수 -> 단어를 얻음\n",
    "tar_word_to_index = tar_tokenizer.word_index # 요약 단어 집합에서 단어 -> 정수를 얻음\n",
    "tar_index_to_word = tar_tokenizer.index_word # 요약 단어 집합에서 정수 -> 단어를 얻음"
   ]
  },
  {
   "cell_type": "code",
   "execution_count": 35,
   "id": "applied-singing",
   "metadata": {},
   "outputs": [],
   "source": [
    "# 인코더 설계\n",
    "encoder_model = Model(inputs=encoder_inputs, outputs=[encoder_outputs, state_h, state_c])\n",
    "\n",
    "# 이전 시점의 상태들을 저장하는 텐서\n",
    "decoder_state_input_h = Input(shape=(hidden_size,))\n",
    "decoder_state_input_c = Input(shape=(hidden_size,))\n",
    "\n",
    "dec_emb2 = dec_emb_layer(decoder_inputs)\n",
    "\n",
    "# 문장의 다음 단어를 예측하기 위해서 초기 상태(initial_state)를 이전 시점의 상태로 사용. 이는 뒤의 함수 decode_sequence()에 구현\n",
    "# 훈련 과정에서와 달리 LSTM의 리턴하는 은닉 상태와 셀 상태인 state_h와 state_c를 버리지 않음.\n",
    "decoder_outputs2, state_h2, state_c2 = decoder_lstm(dec_emb2, initial_state=[decoder_state_input_h, decoder_state_input_c])"
   ]
  },
  {
   "cell_type": "code",
   "execution_count": 36,
   "id": "expanded-comment",
   "metadata": {},
   "outputs": [],
   "source": [
    "# 어텐션 함수\n",
    "decoder_hidden_state_input = Input(shape=(text_max_len, hidden_size))\n",
    "attn_out_inf, attn_states_inf = attn_layer([decoder_hidden_state_input, decoder_outputs2])\n",
    "decoder_inf_concat = Concatenate(axis=-1, name='concat')([decoder_outputs2, attn_out_inf])\n",
    "\n",
    "# 디코더의 출력층\n",
    "decoder_outputs2 = decoder_softmax_layer(decoder_inf_concat) \n",
    "\n",
    "# 최종 디코더 모델\n",
    "decoder_model = Model(\n",
    "    [decoder_inputs] + [decoder_hidden_state_input,decoder_state_input_h, decoder_state_input_c],\n",
    "    [decoder_outputs2] + [state_h2, state_c2])"
   ]
  },
  {
   "cell_type": "markdown",
   "id": "regulated-release",
   "metadata": {},
   "source": [
    "인퍼런스 단계에서 단어 시퀀스를 완성하는 함수"
   ]
  },
  {
   "cell_type": "code",
   "execution_count": 37,
   "id": "impossible-edgar",
   "metadata": {},
   "outputs": [],
   "source": [
    "def decode_sequence(input_seq):\n",
    "    # 입력으로부터 인코더의 상태를 얻음\n",
    "    e_out, e_h, e_c = encoder_model.predict(input_seq)\n",
    "\n",
    "     # <SOS>에 해당하는 토큰 생성\n",
    "    target_seq = np.zeros((1,1))\n",
    "    target_seq[0, 0] = tar_word_to_index['sostoken']\n",
    "\n",
    "    stop_condition = False\n",
    "    decoded_sentence = ''\n",
    "    while not stop_condition: # stop_condition이 True가 될 때까지 루프 반복\n",
    "\n",
    "        output_tokens, h, c = decoder_model.predict([target_seq] + [e_out, e_h, e_c])\n",
    "        sampled_token_index = np.argmax(output_tokens[0, -1, :])\n",
    "        sampled_token = tar_index_to_word[sampled_token_index]\n",
    "\n",
    "        if (sampled_token!='eostoken'):\n",
    "            decoded_sentence += ' '+sampled_token\n",
    "\n",
    "        #  <eos>에 도달하거나 최대 길이를 넘으면 중단.\n",
    "        if (sampled_token == 'eostoken'  or len(decoded_sentence.split()) >= (headlines_max_len-1)):\n",
    "            stop_condition = True\n",
    "\n",
    "        # 길이가 1인 타겟 시퀀스를 업데이트\n",
    "        target_seq = np.zeros((1,1))\n",
    "        target_seq[0, 0] = sampled_token_index\n",
    "\n",
    "        # 상태를 업데이트 합니다.\n",
    "        e_h, e_c = h, c\n",
    "\n",
    "    return decoded_sentence"
   ]
  },
  {
   "cell_type": "markdown",
   "id": "contained-diagnosis",
   "metadata": {},
   "source": [
    "**모델 테스트하기**"
   ]
  },
  {
   "cell_type": "code",
   "execution_count": 38,
   "id": "curious-boost",
   "metadata": {},
   "outputs": [],
   "source": [
    "# 원문의 정수 시퀀스를 텍스트 시퀀스로 변환\n",
    "def seq2text(input_seq):\n",
    "    temp=''\n",
    "    for i in input_seq:\n",
    "        if (i!=0):\n",
    "            temp = temp + src_index_to_word[i]+' '\n",
    "    return temp\n",
    "\n",
    "# 요약문의 정수 시퀀스를 텍스트 시퀀스로 변환\n",
    "def seq2summary(input_seq):\n",
    "    temp=''\n",
    "    for i in input_seq:\n",
    "        if ((i!=0 and i!=tar_word_to_index['sostoken']) and i!=tar_word_to_index['eostoken']):\n",
    "            temp = temp + tar_index_to_word[i] + ' '\n",
    "    return temp"
   ]
  },
  {
   "cell_type": "code",
   "execution_count": 39,
   "id": "lesser-guinea",
   "metadata": {},
   "outputs": [
    {
     "name": "stdout",
     "output_type": "stream",
     "text": [
      "원문 : ias officers association said felt unsafe delhi aap government cm arvind kejriwal said ensure safety security powers resources available command calling bureaucrats part family urged return work end boycott elected government \n",
      "실제 요약 : will ensure security kejriwal urges ias officers to resume work \n",
      "예측 요약 :  ias officers to be kejriwal as cm kejriwal\n",
      "\n",
      "\n",
      "원문 : reacting multiple reports american computer software major oracle looking acquire management consulting company accenture oracle clarified rumour completely untrue oracle spokeswoman said company never even considered earlier reports claimed oracle even hired consultants look possible deal \n",
      "실제 요약 : rumour of accenture is completely oracle \n",
      "예측 요약 :  us man who is the most popular facebook\n",
      "\n",
      "\n",
      "원문 : soviet union launched world first artificial satellite october amid us soviet cold war launch directly led foundation national aeronautics space administration october weighing kg cm wide satellite transmitted signals days losing speed burning atmosphere days \n",
      "실제 요약 : world st satellite launch by soviet led us to create nasa \n",
      "예측 요약 :  isro launches its first ever satellite mission\n",
      "\n",
      "\n",
      "원문 : according reports government plans wrap air india disinvestment end year government reportedly looking give preference domestic buyer process notably committee headed finance minister arun jaitley strategy executing airline sale debt around crore \n",
      "실제 요약 : air india sale process to be completed by year end reports \n",
      "예측 요약 :  govt hikes interest rates for air india disinvestment\n",
      "\n",
      "\n",
      "원문 : saudi arabia crown prince mohammed bin salman readers poll time person year award scoring votes metoo movement sexual harassment claimed second place poll votes last year indian pm narendra modi poll us president donald trump title nn \n",
      "실제 요약 : saudi crown prince wins poll for time person of the year \n",
      "예측 요약 :  saudi crown prince saudi crown prince to saudi prince\n",
      "\n",
      "\n",
      "원문 : year old woman right eye hit rocket karnataka district thursday incident happened woman standing outside house asking village children go burst crackers doctors said chances restoring sight less damaged \n",
      "실제 요약 : taka woman in eye after being hit by diwali rocket \n",
      "예측 요약 :  woman delivers woman in meghalaya to save her\n",
      "\n",
      "\n",
      "원문 : dalai lama proposed eu style union asian countries including india japan china adding common interest important national interest said realisation attitude led eu creation urged people think entire world could become entity \n",
      "실제 요약 : dalai lama proposes eu style union for asian countries \n",
      "예측 요약 :  india is very india dalai lama\n",
      "\n",
      "\n",
      "원문 : using crawling robots purdue university study found babies dust airborne four times adult would breathe walking across floor crawling motion kicks high levels dirt skin cells bacteria fungal act challenge immune system said researchers \n",
      "실제 요약 : robotic baby helps study how dust affects babies \n",
      "예측 요약 :  new blood to help sharks survive study\n",
      "\n",
      "\n",
      "원문 : government hospital gurugram vandalised saturday night family members year old cancer patient hospital allegedly denied treatment man man family alleged hospital authorities demanded bribe provide blood cancer patient denied treatment refused \n",
      "실제 요약 : gurugram hospital vandalised after patient denied treatment \n",
      "예측 요약 :  doctor found in hospital after being surgery in\n",
      "\n",
      "\n",
      "원문 : price world largest cryptocurrency bitcoin thursday hit new time high hitting milestone cryptocurrency surged year bitcoin makes nearly value cryptocurrencies market capitalisation billion \n",
      "실제 요약 : bitcoin price above to reach all time high \n",
      "예측 요약 :  bitcoin price crosses over the first time ever\n",
      "\n",
      "\n"
     ]
    }
   ],
   "source": [
    "# 랜덤으로 10개 선택\n",
    "for i in np.random.choice(len(encoder_input_test), 10):\n",
    "    print(\"원문 :\", seq2text(encoder_input_test[i]))\n",
    "    print(\"실제 요약 :\", seq2summary(decoder_input_test[i]))\n",
    "    print(\"예측 요약 :\", decode_sequence(encoder_input_test[i].reshape(1, text_max_len)))\n",
    "    print(\"\\n\")"
   ]
  },
  {
   "cell_type": "markdown",
   "id": "sensitive-topic",
   "metadata": {},
   "source": [
    "## Step 5. Summa을 이용해서 추출적 요약해보기"
   ]
  },
  {
   "cell_type": "code",
   "execution_count": 40,
   "id": "dense-sheriff",
   "metadata": {},
   "outputs": [
    {
     "name": "stdout",
     "output_type": "stream",
     "text": [
      "원문 : first diamond mined depth less km south africa found containing calcium usually formed deep mantle km earth surface researchers said finding proves slabs oceanic crust sink deep within earth recycled lower mantle \n",
      "실제 요약 : diamond from km found with km deep \n",
      "추상적 요약 :  nasa finds ancient meteorite of earth in the world\n",
      "추출적 요약 :  \n",
      "\n",
      "\n",
      "원문 : us president donald trump tweeted big progress made possible trade deal us china deal finalised comprehensive cover points dispute added earlier month countries agreed halt additional trade tariffs goal reaching agreement within days \n",
      "실제 요약 : big progress being made trump on trade deal with china \n",
      "추상적 요약 :  trump tariffs on china trade trade war trump\n",
      "추출적 요약 :  \n",
      "\n",
      "\n",
      "원문 : german chancellor angela merkel said europe longer rely long standing ally us suggesting germany likely assume substantial independent role europe nato previously notably nato first secretary general said purpose keep russians americans germans \n",
      "실제 요약 : what is of germany saying it cannot rely on us \n",
      "추상적 요약 :  merkel is no longer merkel on france germany\n",
      "추출적 요약 :  \n",
      "\n",
      "\n",
      "원문 : choreographer allegedly made hoax bomb threat running late jaipur mumbai indigo flight tuesday choreographer mohit kumar tank arrested crime reached airport although flight already departed indigo said reported matter bomb threat assessment committee \n",
      "실제 요약 : jaipur man late for flight makes hoax bomb call to indigo \n",
      "추상적 요약 :  indian origin man detained for wearing baggage\n",
      "추출적 요약 :  \n",
      "\n",
      "\n",
      "원문 : terminally ill british resident lost high court bid change law given assistance die home surrounded family diagnosed motor disease said challenge court decision notably voluntary euthanasia prohibited considered murder english law \n",
      "실제 요약 : uk high court rejects challenge to ban on dying \n",
      "추상적 요약 :  texas judge to be stripped of nazi during ramadan\n",
      "추출적 요약 :  \n",
      "\n",
      "\n"
     ]
    }
   ],
   "source": [
    "from summa.summarizer import summarize\n",
    "\n",
    "# 랜덤으로 5개 선택\n",
    "for i in np.random.choice(1000, 5):\n",
    "    print(\"원문 :\", seq2text(encoder_input_test[i]))\n",
    "    \n",
    "    print(\"실제 요약 :\", seq2summary(decoder_input_test[i]))\n",
    "    \n",
    "    print(\"추상적 요약 :\", decode_sequence(encoder_input_test[i].reshape(1, text_max_len)))\n",
    "    print(\"추출적 요약 : \", summarize(seq2text(encoder_input_test[i]), ratio=0.5))\n",
    "    print(\"\\n\")"
   ]
  },
  {
   "cell_type": "markdown",
   "id": "breeding-repeat",
   "metadata": {},
   "source": [
    "추상적 요약의 결과와 추출적 요약을 결과를 비교하며 보기위해서 seq2text를 통해 찾은 원문을 추출적 요약해보았지만 위와같이 결과가 빈값이 나왔다. `preprocess_sentence`를 거친 결과는 전부 빈값이 반환되는데 왜 그런지 이유를 파악하지는 못하였다.<br/>\n",
    "**그래서 기존의 데이터를 다시 불러와 실제요약과 추출적 요약 결과를 비교해보는 것에서 마무리하려 한다.**"
   ]
  },
  {
   "cell_type": "code",
   "execution_count": 41,
   "id": "challenging-sheep",
   "metadata": {},
   "outputs": [
    {
     "name": "stdout",
     "output_type": "stream",
     "text": [
      "원문 : The Supreme Court on Wednesday refused bail to Unitech promoters Sanjay Chandra and Ajay Chandra in a case relating to alleged siphoning of homebuyers' money. The apex court said they haven't complied with its October 30, 2017 order to deposit Ã¢ÂÂ¹750 crore with its registry. The brothers have been lodged in Tihar jail for over 18 months.\n",
      "실제 요약 : SC refuses bail to Unitech promoters for not depositing Ã¢ÂÂ¹750 cr\n",
      "추출적 요약 :  The Supreme Court on Wednesday refused bail to Unitech promoters Sanjay Chandra and Ajay Chandra in a case relating to alleged siphoning of homebuyers' money.\n",
      "\n",
      "\n",
      "원문 : Former Pakistan pacer Sarfraz Nawaz criticised the Pakistan Cricket Board for appointing Shoaib Malik as the team's stand-in captain after Sarfraz Ahmed was handed a four-match ban for his racial comments. Nawaz highlighted the fact that the 36-year-old cricketer, in the past, was asked to quit captaincy in PSL amidst suspicions of fixing matches.\n",
      "실제 요약 : Ex-Pak pacer criticises PCB for naming Malik as stand-in captain\n",
      "추출적 요약 :  Former Pakistan pacer Sarfraz Nawaz criticised the Pakistan Cricket Board for appointing Shoaib Malik as the team's stand-in captain after Sarfraz Ahmed was handed a four-match ban for his racial comments.\n",
      "\n",
      "\n",
      "원문 : Delhi discom sources are losing nearly Ã¢ÂÂ¹150 crore annualy due to the organised theft of power for charging of e-rickshaws. Lack of proper charging facilities has led to organised rackets of power theft, discom sources claimed. Power theft is at its peak at night due to bulk charging at facilities set up by the rackets, discom sources said.\n",
      "실제 요약 : Delhi discoms lose Ã¢ÂÂ¹150cr/year to power theft by e-rickshaws\n",
      "추출적 요약 :  Lack of proper charging facilities has led to organised rackets of power theft, discom sources claimed.\n",
      "\n",
      "\n",
      "원문 : Actress Esha Gupta has apologised on Twitter following criticism after she shared a screenshot of a chat with a friend, wherein the friend called Nigerian footballer Alexander Iwobi a gorilla. Esha had replied, \"Hahahahahah...I honestly dunno why they don't bench him more.\" In her apology, she wrote, \"Was bad on my part, being a sports lover...Sorry guys forgive the stupidity.\"\n",
      "실제 요약 : Esha shares chat of friend calling footballer gorilla, apologises\n",
      "추출적 요약 :  Actress Esha Gupta has apologised on Twitter following criticism after she shared a screenshot of a chat with a friend, wherein the friend called Nigerian footballer Alexander Iwobi a gorilla.\n",
      "\n",
      "\n",
      "원문 : After being conferred with the Bharat Ratna, former President Pranab Mukherjee took to Twitter to express his gratitude. \"It is with a deep sense of humility...to the people of India that I accept this great honour,\" he tweeted. \"I have always said...I have got more from the people of our great country than I have given to them,\" he added.\n",
      "실제 요약 : Have got more than I have given: Pranab Mukherjee on Bharat Ratna \n",
      "추출적 요약 :  \"It is with a deep sense of humility...to the people of India that I accept this great honour,\" he tweeted.\n",
      "\n",
      "\n"
     ]
    }
   ],
   "source": [
    "data = pd.read_csv('news_summary_more.csv', encoding='iso-8859-1')\n",
    "\n",
    "# 랜덤으로 5개 선택\n",
    "for i in np.random.choice(1000, 5):\n",
    "    print(\"원문 :\", data['text'][i])\n",
    "    \n",
    "    print(\"실제 요약 :\", data['headlines'][i])\n",
    "    \n",
    "    print(\"추출적 요약 : \", summarize(data['text'][i], ratio=0.5))\n",
    "    print(\"\\n\")"
   ]
  }
 ],
 "metadata": {
  "kernelspec": {
   "display_name": "Python 3",
   "language": "python",
   "name": "python3"
  },
  "language_info": {
   "codemirror_mode": {
    "name": "ipython",
    "version": 3
   },
   "file_extension": ".py",
   "mimetype": "text/x-python",
   "name": "python",
   "nbconvert_exporter": "python",
   "pygments_lexer": "ipython3",
   "version": "3.7.9"
  }
 },
 "nbformat": 4,
 "nbformat_minor": 5
}

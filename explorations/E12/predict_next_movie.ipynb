{
 "cells": [
  {
   "cell_type": "markdown",
   "id": "partial-atlanta",
   "metadata": {},
   "source": [
    "# 다음에 볼 영화 예측하기\n",
    "\n",
    "Movielens 1M Dataset 을 기반으로 Session Based Recommendation 시스템을 제작한다.\n",
    "Session Based Recommendation은 말그대로 Session을 기반으로 한 추천시스템이다. Session이란 사용자의 로그 데이터 중 서버에 저장되는 값으로 쇼핑몰의 예로들면 유저정보, 아이템정보, 장바구니, 접속시간 등 유의미한 정보들이 있다. 이를 기반으로 사용자의 아이템 추천을 돕는다.\n"
   ]
  },
  {
   "cell_type": "markdown",
   "id": "addressed-office",
   "metadata": {},
   "source": [
    "## Step 0. 라이브러리 및 데이터 불러오기"
   ]
  },
  {
   "cell_type": "code",
   "execution_count": 1,
   "id": "narrow-adult",
   "metadata": {},
   "outputs": [
    {
     "data": {
      "text/html": [
       "<div>\n",
       "<style scoped>\n",
       "    .dataframe tbody tr th:only-of-type {\n",
       "        vertical-align: middle;\n",
       "    }\n",
       "\n",
       "    .dataframe tbody tr th {\n",
       "        vertical-align: top;\n",
       "    }\n",
       "\n",
       "    .dataframe thead th {\n",
       "        text-align: right;\n",
       "    }\n",
       "</style>\n",
       "<table border=\"1\" class=\"dataframe\">\n",
       "  <thead>\n",
       "    <tr style=\"text-align: right;\">\n",
       "      <th></th>\n",
       "      <th>UserId</th>\n",
       "      <th>ItemId</th>\n",
       "      <th>Rating</th>\n",
       "      <th>Time</th>\n",
       "    </tr>\n",
       "  </thead>\n",
       "  <tbody>\n",
       "    <tr>\n",
       "      <th>31</th>\n",
       "      <td>1</td>\n",
       "      <td>3186</td>\n",
       "      <td>4</td>\n",
       "      <td>978300019</td>\n",
       "    </tr>\n",
       "    <tr>\n",
       "      <th>22</th>\n",
       "      <td>1</td>\n",
       "      <td>1270</td>\n",
       "      <td>5</td>\n",
       "      <td>978300055</td>\n",
       "    </tr>\n",
       "    <tr>\n",
       "      <th>27</th>\n",
       "      <td>1</td>\n",
       "      <td>1721</td>\n",
       "      <td>4</td>\n",
       "      <td>978300055</td>\n",
       "    </tr>\n",
       "    <tr>\n",
       "      <th>37</th>\n",
       "      <td>1</td>\n",
       "      <td>1022</td>\n",
       "      <td>5</td>\n",
       "      <td>978300055</td>\n",
       "    </tr>\n",
       "    <tr>\n",
       "      <th>24</th>\n",
       "      <td>1</td>\n",
       "      <td>2340</td>\n",
       "      <td>3</td>\n",
       "      <td>978300103</td>\n",
       "    </tr>\n",
       "    <tr>\n",
       "      <th>...</th>\n",
       "      <td>...</td>\n",
       "      <td>...</td>\n",
       "      <td>...</td>\n",
       "      <td>...</td>\n",
       "    </tr>\n",
       "    <tr>\n",
       "      <th>1000019</th>\n",
       "      <td>6040</td>\n",
       "      <td>2917</td>\n",
       "      <td>4</td>\n",
       "      <td>997454429</td>\n",
       "    </tr>\n",
       "    <tr>\n",
       "      <th>999988</th>\n",
       "      <td>6040</td>\n",
       "      <td>1921</td>\n",
       "      <td>4</td>\n",
       "      <td>997454464</td>\n",
       "    </tr>\n",
       "    <tr>\n",
       "      <th>1000172</th>\n",
       "      <td>6040</td>\n",
       "      <td>1784</td>\n",
       "      <td>3</td>\n",
       "      <td>997454464</td>\n",
       "    </tr>\n",
       "    <tr>\n",
       "      <th>1000167</th>\n",
       "      <td>6040</td>\n",
       "      <td>161</td>\n",
       "      <td>3</td>\n",
       "      <td>997454486</td>\n",
       "    </tr>\n",
       "    <tr>\n",
       "      <th>1000042</th>\n",
       "      <td>6040</td>\n",
       "      <td>1221</td>\n",
       "      <td>4</td>\n",
       "      <td>998315055</td>\n",
       "    </tr>\n",
       "  </tbody>\n",
       "</table>\n",
       "<p>1000209 rows × 4 columns</p>\n",
       "</div>"
      ],
      "text/plain": [
       "         UserId  ItemId  Rating       Time\n",
       "31            1    3186       4  978300019\n",
       "22            1    1270       5  978300055\n",
       "27            1    1721       4  978300055\n",
       "37            1    1022       5  978300055\n",
       "24            1    2340       3  978300103\n",
       "...         ...     ...     ...        ...\n",
       "1000019    6040    2917       4  997454429\n",
       "999988     6040    1921       4  997454464\n",
       "1000172    6040    1784       3  997454464\n",
       "1000167    6040     161       3  997454486\n",
       "1000042    6040    1221       4  998315055\n",
       "\n",
       "[1000209 rows x 4 columns]"
      ]
     },
     "execution_count": 1,
     "metadata": {},
     "output_type": "execute_result"
    }
   ],
   "source": [
    "import os\n",
    "import pandas as pd\n",
    "import numpy as np\n",
    "from pathlib import Path\n",
    "import seaborn as sns\n",
    "import matplotlib.pyplot as plt\n",
    "plt.rcParams['font.family'] = 'NanumGothic'\n",
    "\n",
    "import tensorflow as tf\n",
    "from tensorflow.keras.layers import Input, Dense, Dropout, GRU\n",
    "from tensorflow.keras.losses import categorical_crossentropy\n",
    "from tensorflow.keras.models import Model\n",
    "from tensorflow.keras.optimizers import Adam\n",
    "from tensorflow.keras.utils import to_categorical\n",
    "from tqdm import tqdm\n",
    "\n",
    "import warnings\n",
    "warnings.filterwarnings('ignore')\n",
    "\n",
    "data_path = 'data'\n",
    "train_path = os.path.join(data_path, 'ratings.dat')\n",
    "\n",
    "def load_data(data_path: Path, nrows=None):\n",
    "    data = pd.read_csv(data_path, sep='::', header=None, usecols=[0, 1, 2, 3], dtype={0: np.int32, 1: np.int32, 2: np.int32}, nrows=nrows)\n",
    "    data.columns = ['UserId', 'ItemId', 'Rating', 'Time']\n",
    "    return data\n",
    "\n",
    "data = load_data(train_path, None)\n",
    "data.sort_values(['UserId', 'Time'], inplace=True)  # data를 id와 시간 순서로 정렬해줍니다.\n",
    "data"
   ]
  },
  {
   "cell_type": "markdown",
   "id": "ready-treat",
   "metadata": {},
   "source": [
    "## Step 1. 데이터의 전처리"
   ]
  },
  {
   "cell_type": "code",
   "execution_count": 2,
   "id": "fitting-allen",
   "metadata": {},
   "outputs": [
    {
     "data": {
      "text/plain": [
       "(6040, 3706)"
      ]
     },
     "execution_count": 2,
     "metadata": {},
     "output_type": "execute_result"
    }
   ],
   "source": [
    "data['UserId'].nunique(), data['ItemId'].nunique()"
   ]
  },
  {
   "cell_type": "code",
   "execution_count": 3,
   "id": "blocked-flexibility",
   "metadata": {},
   "outputs": [
    {
     "name": "stdout",
     "output_type": "stream",
     "text": [
      "count    6040.000000\n",
      "mean      165.597517\n",
      "std       192.747029\n",
      "min        20.000000\n",
      "25%        44.000000\n",
      "50%        96.000000\n",
      "75%       208.000000\n",
      "max      2314.000000\n",
      "dtype: float64\n"
     ]
    },
    {
     "data": {
      "image/png": "[encoded data removed]",
      "text/plain": [
       "<Figure size 360x360 with 1 Axes>"
      ]
     },
     "metadata": {
      "needs_background": "light"
     },
     "output_type": "display_data"
    }
   ],
   "source": [
    "user_length = data.groupby('UserId').size()\n",
    "print(user_length.describe())\n",
    "\n",
    "_ = sns.displot(user_length)"
   ]
  },
  {
   "cell_type": "code",
   "execution_count": 4,
   "id": "variable-proxy",
   "metadata": {},
   "outputs": [
    {
     "data": {
      "text/plain": [
       "20      0.014238\n",
       "21      0.029305\n",
       "22      0.042053\n",
       "23      0.055464\n",
       "24      0.068874\n",
       "          ...   \n",
       "1271    0.998179\n",
       "1277    0.998344\n",
       "1286    0.998510\n",
       "1302    0.998675\n",
       "1323    0.998841\n",
       "Length: 736, dtype: float64"
      ]
     },
     "execution_count": 4,
     "metadata": {},
     "output_type": "execute_result"
    }
   ],
   "source": [
    "length_count = user_length.groupby(user_length).size()\n",
    "length_percent_cumsum = length_count.cumsum() / length_count.sum()\n",
    "length_percent_cumsum_999 = length_percent_cumsum[length_percent_cumsum < 0.999]\n",
    "\n",
    "length_percent_cumsum_999"
   ]
  },
  {
   "cell_type": "code",
   "execution_count": 5,
   "id": "chicken-pilot",
   "metadata": {},
   "outputs": [
    {
     "data": {
      "image/png": "[encoded data removed]",
      "text/plain": [
       "<Figure size 1440x720 with 1 Axes>"
      ]
     },
     "metadata": {
      "needs_background": "light"
     },
     "output_type": "display_data"
    }
   ],
   "source": [
    "plt.figure(figsize=(20, 10))\n",
    "plt.bar(x=length_percent_cumsum_999.index,\n",
    "        height=length_percent_cumsum_999, color='red')\n",
    "plt.xticks(length_percent_cumsum_999.index)\n",
    "plt.yticks(np.arange(0, 1.01, 0.05))\n",
    "plt.title('Cumsum Percentage Until 0.999', size=20)\n",
    "plt.show()"
   ]
  },
  {
   "cell_type": "code",
   "execution_count": 6,
   "id": "supreme-diana",
   "metadata": {},
   "outputs": [
    {
     "name": "stdout",
     "output_type": "stream",
     "text": [
      "956703932\n",
      "1046454590\n"
     ]
    }
   ],
   "source": [
    "# 데이터의 시간정보\n",
    "oldest, latest = data['Time'].min(), data['Time'].max()\n",
    "print(oldest) \n",
    "print(latest)"
   ]
  },
  {
   "cell_type": "code",
   "execution_count": 7,
   "id": "indirect-basket",
   "metadata": {},
   "outputs": [
    {
     "data": {
      "text/plain": [
       "(7.0, 35.0)"
      ]
     },
     "execution_count": 7,
     "metadata": {},
     "output_type": "execute_result"
    }
   ],
   "source": [
    "data['ItemId'].quantile(0.005), data['UserId'].quantile(0.005)"
   ]
  },
  {
   "cell_type": "code",
   "execution_count": 8,
   "id": "about-livestock",
   "metadata": {},
   "outputs": [],
   "source": [
    "# short_session을 제거한 다음 unpopular item을 제거하면 다시 길이가 1인 session이 생길 수 있습니다.\n",
    "# 이를 위해 반복문을 통해 지속적으로 제거 합니다.\n",
    "def cleanse_recursive(data: pd.DataFrame, shortest, least_click) -> pd.DataFrame:\n",
    "    while True:\n",
    "        before_len = len(data)\n",
    "        data = cleanse_short_user(data, shortest)\n",
    "        data = cleanse_unpopular_item(data, least_click)\n",
    "        after_len = len(data)\n",
    "        if before_len == after_len:\n",
    "            break\n",
    "    return data\n",
    "\n",
    "\n",
    "def cleanse_short_user(data: pd.DataFrame, shortest):\n",
    "    user_len = data.groupby('UserId').size()\n",
    "    user_use = user_len[user_len >= shortest].index\n",
    "    data = data[data['UserId'].isin(user_use)]\n",
    "    return data\n",
    "\n",
    "\n",
    "def cleanse_unpopular_item(data: pd.DataFrame, least_click):\n",
    "    item_popular = data.groupby('ItemId').size()\n",
    "    item_use = item_popular[item_popular >= least_click].index\n",
    "    data = data[data['ItemId'].isin(item_use)]\n",
    "    return data"
   ]
  },
  {
   "cell_type": "code",
   "execution_count": 9,
   "id": "ahead-geology",
   "metadata": {},
   "outputs": [
    {
     "name": "stdout",
     "output_type": "stream",
     "text": [
      "총 1172개의 데이터 제거\n"
     ]
    },
    {
     "data": {
      "text/html": [
       "<div>\n",
       "<style scoped>\n",
       "    .dataframe tbody tr th:only-of-type {\n",
       "        vertical-align: middle;\n",
       "    }\n",
       "\n",
       "    .dataframe tbody tr th {\n",
       "        vertical-align: top;\n",
       "    }\n",
       "\n",
       "    .dataframe thead th {\n",
       "        text-align: right;\n",
       "    }\n",
       "</style>\n",
       "<table border=\"1\" class=\"dataframe\">\n",
       "  <thead>\n",
       "    <tr style=\"text-align: right;\">\n",
       "      <th></th>\n",
       "      <th>UserId</th>\n",
       "      <th>ItemId</th>\n",
       "      <th>Rating</th>\n",
       "      <th>Time</th>\n",
       "    </tr>\n",
       "  </thead>\n",
       "  <tbody>\n",
       "    <tr>\n",
       "      <th>31</th>\n",
       "      <td>1</td>\n",
       "      <td>3186</td>\n",
       "      <td>4</td>\n",
       "      <td>978300019</td>\n",
       "    </tr>\n",
       "    <tr>\n",
       "      <th>22</th>\n",
       "      <td>1</td>\n",
       "      <td>1270</td>\n",
       "      <td>5</td>\n",
       "      <td>978300055</td>\n",
       "    </tr>\n",
       "    <tr>\n",
       "      <th>27</th>\n",
       "      <td>1</td>\n",
       "      <td>1721</td>\n",
       "      <td>4</td>\n",
       "      <td>978300055</td>\n",
       "    </tr>\n",
       "    <tr>\n",
       "      <th>37</th>\n",
       "      <td>1</td>\n",
       "      <td>1022</td>\n",
       "      <td>5</td>\n",
       "      <td>978300055</td>\n",
       "    </tr>\n",
       "    <tr>\n",
       "      <th>24</th>\n",
       "      <td>1</td>\n",
       "      <td>2340</td>\n",
       "      <td>3</td>\n",
       "      <td>978300103</td>\n",
       "    </tr>\n",
       "    <tr>\n",
       "      <th>...</th>\n",
       "      <td>...</td>\n",
       "      <td>...</td>\n",
       "      <td>...</td>\n",
       "      <td>...</td>\n",
       "    </tr>\n",
       "    <tr>\n",
       "      <th>1000019</th>\n",
       "      <td>6040</td>\n",
       "      <td>2917</td>\n",
       "      <td>4</td>\n",
       "      <td>997454429</td>\n",
       "    </tr>\n",
       "    <tr>\n",
       "      <th>999988</th>\n",
       "      <td>6040</td>\n",
       "      <td>1921</td>\n",
       "      <td>4</td>\n",
       "      <td>997454464</td>\n",
       "    </tr>\n",
       "    <tr>\n",
       "      <th>1000172</th>\n",
       "      <td>6040</td>\n",
       "      <td>1784</td>\n",
       "      <td>3</td>\n",
       "      <td>997454464</td>\n",
       "    </tr>\n",
       "    <tr>\n",
       "      <th>1000167</th>\n",
       "      <td>6040</td>\n",
       "      <td>161</td>\n",
       "      <td>3</td>\n",
       "      <td>997454486</td>\n",
       "    </tr>\n",
       "    <tr>\n",
       "      <th>1000042</th>\n",
       "      <td>6040</td>\n",
       "      <td>1221</td>\n",
       "      <td>4</td>\n",
       "      <td>998315055</td>\n",
       "    </tr>\n",
       "  </tbody>\n",
       "</table>\n",
       "<p>999037 rows × 4 columns</p>\n",
       "</div>"
      ],
      "text/plain": [
       "         UserId  ItemId  Rating       Time\n",
       "31            1    3186       4  978300019\n",
       "22            1    1270       5  978300055\n",
       "27            1    1721       4  978300055\n",
       "37            1    1022       5  978300055\n",
       "24            1    2340       3  978300103\n",
       "...         ...     ...     ...        ...\n",
       "1000019    6040    2917       4  997454429\n",
       "999988     6040    1921       4  997454464\n",
       "1000172    6040    1784       3  997454464\n",
       "1000167    6040     161       3  997454486\n",
       "1000042    6040    1221       4  998315055\n",
       "\n",
       "[999037 rows x 4 columns]"
      ]
     },
     "execution_count": 9,
     "metadata": {},
     "output_type": "execute_result"
    }
   ],
   "source": [
    "before_len = len(data)\n",
    "data = cleanse_recursive(data, shortest=2, least_click=8)\n",
    "print(f\"총 {before_len - len(data)}개의 데이터 제거\")\n",
    "data"
   ]
  },
  {
   "cell_type": "code",
   "execution_count": 10,
   "id": "light-survey",
   "metadata": {},
   "outputs": [],
   "source": [
    "def split_by_date(data: pd.DataFrame, n_days: int):\n",
    "    final_time = data['Time'].max()\n",
    "    user_last_time = data.sort_values(by=['Time'])\n",
    "    user_in_train = user_last_time[user_last_time['Time']<=final_time-(n_days*24*3600)]\n",
    "    user_in_test = user_last_time[user_last_time['Time']>final_time-(n_days*24*3600)]\n",
    "\n",
    "    return user_in_train, user_in_test"
   ]
  },
  {
   "cell_type": "code",
   "execution_count": 11,
   "id": "shared-superintendent",
   "metadata": {},
   "outputs": [],
   "source": [
    "tr, test = split_by_date(data, n_days=100)\n",
    "tr, val = split_by_date(tr, n_days=100)"
   ]
  },
  {
   "cell_type": "code",
   "execution_count": 12,
   "id": "comprehensive-prayer",
   "metadata": {},
   "outputs": [],
   "source": [
    "# data에 대한 정보를 살펴봅니다.\n",
    "def stats_info(data: pd.DataFrame, status: str):\n",
    "    print(f'* {status} Set Stats Info\\n'\n",
    "          f'\\t Events: {len(data)}\\n'\n",
    "          f'\\t Users: {data[\"UserId\"].nunique()}\\n'\n",
    "          f'\\t Items: {data[\"ItemId\"].nunique()}\\n'\n",
    "          f'\\t First Time : {data[\"Time\"].min()}\\n'\n",
    "          f'\\t Last Time : {data[\"Time\"].max()}\\n')"
   ]
  },
  {
   "cell_type": "code",
   "execution_count": 13,
   "id": "mental-physics",
   "metadata": {},
   "outputs": [
    {
     "name": "stdout",
     "output_type": "stream",
     "text": [
      "* train Set Stats Info\n",
      "\t Events: 988787\n",
      "\t Users: 6039\n",
      "\t Items: 3319\n",
      "\t First Time : 956703932\n",
      "\t Last Time : 1029160409\n",
      "\n",
      "* valid Set Stats Info\n",
      "\t Events: 5191\n",
      "\t Users: 244\n",
      "\t Items: 1932\n",
      "\t First Time : 1029199206\n",
      "\t Last Time : 1037810320\n",
      "\n",
      "* test Set Stats Info\n",
      "\t Events: 5059\n",
      "\t Users: 254\n",
      "\t Items: 1879\n",
      "\t First Time : 1037824202\n",
      "\t Last Time : 1046454590\n",
      "\n"
     ]
    }
   ],
   "source": [
    "stats_info(tr, 'train')\n",
    "stats_info(val, 'valid')\n",
    "stats_info(test, 'test')"
   ]
  },
  {
   "cell_type": "code",
   "execution_count": 14,
   "id": "mechanical-seven",
   "metadata": {},
   "outputs": [],
   "source": [
    "# train set에 없는 아이템이 val, test기간에 생길 수 있으므로 train data를 기준으로 인덱싱합니다.\n",
    "id2idx = {item_id : index for index, item_id in enumerate(tr['ItemId'].unique())}\n",
    "\n",
    "def indexing(df, id2idx):\n",
    "    df['item_idx'] = df['ItemId'].map(lambda x: id2idx.get(x, -1))  # id2idx에 없는 아이템은 모르는 값(-1) 처리 해줍니다.\n",
    "    return df\n",
    "\n",
    "tr = indexing(tr, id2idx)\n",
    "val = indexing(val, id2idx)\n",
    "test = indexing(test, id2idx)"
   ]
  },
  {
   "cell_type": "markdown",
   "id": "european-conversation",
   "metadata": {},
   "source": [
    "## Step 2. 미니 배치의 구성"
   ]
  },
  {
   "cell_type": "code",
   "execution_count": 15,
   "id": "composed-competition",
   "metadata": {},
   "outputs": [],
   "source": [
    "class UserDataset:\n",
    "    \"\"\"Credit to yhs-968/pyGRU4REC.\"\"\"\n",
    "\n",
    "    def __init__(self, data):\n",
    "        self.df = data\n",
    "        self.click_offsets = self.get_click_offsets()\n",
    "        self.session_idx = np.arange(self.df['UserId'].nunique())  # indexing to SessionId\n",
    "\n",
    "    def get_click_offsets(self):\n",
    "        \"\"\"\n",
    "        Return the indexes of the first click of each session IDs,\n",
    "        \"\"\"\n",
    "        offsets = np.zeros(self.df['UserId'].nunique() + 1, dtype=np.int32)\n",
    "        offsets[1:] = self.df.groupby('UserId').size().cumsum()\n",
    "        return offsets"
   ]
  },
  {
   "cell_type": "code",
   "execution_count": 16,
   "id": "banner-encoding",
   "metadata": {},
   "outputs": [
    {
     "data": {
      "text/html": [
       "<div>\n",
       "<style scoped>\n",
       "    .dataframe tbody tr th:only-of-type {\n",
       "        vertical-align: middle;\n",
       "    }\n",
       "\n",
       "    .dataframe tbody tr th {\n",
       "        vertical-align: top;\n",
       "    }\n",
       "\n",
       "    .dataframe thead th {\n",
       "        text-align: right;\n",
       "    }\n",
       "</style>\n",
       "<table border=\"1\" class=\"dataframe\">\n",
       "  <thead>\n",
       "    <tr style=\"text-align: right;\">\n",
       "      <th></th>\n",
       "      <th>UserId</th>\n",
       "      <th>ItemId</th>\n",
       "      <th>Rating</th>\n",
       "      <th>Time</th>\n",
       "      <th>item_idx</th>\n",
       "    </tr>\n",
       "  </thead>\n",
       "  <tbody>\n",
       "    <tr>\n",
       "      <th>1000138</th>\n",
       "      <td>6040</td>\n",
       "      <td>858</td>\n",
       "      <td>4</td>\n",
       "      <td>956703932</td>\n",
       "      <td>0</td>\n",
       "    </tr>\n",
       "    <tr>\n",
       "      <th>1000153</th>\n",
       "      <td>6040</td>\n",
       "      <td>2384</td>\n",
       "      <td>4</td>\n",
       "      <td>956703954</td>\n",
       "      <td>1</td>\n",
       "    </tr>\n",
       "    <tr>\n",
       "      <th>999873</th>\n",
       "      <td>6040</td>\n",
       "      <td>593</td>\n",
       "      <td>5</td>\n",
       "      <td>956703954</td>\n",
       "      <td>2</td>\n",
       "    </tr>\n",
       "    <tr>\n",
       "      <th>1000192</th>\n",
       "      <td>6040</td>\n",
       "      <td>2019</td>\n",
       "      <td>5</td>\n",
       "      <td>956703977</td>\n",
       "      <td>3</td>\n",
       "    </tr>\n",
       "    <tr>\n",
       "      <th>1000007</th>\n",
       "      <td>6040</td>\n",
       "      <td>1961</td>\n",
       "      <td>4</td>\n",
       "      <td>956703977</td>\n",
       "      <td>4</td>\n",
       "    </tr>\n",
       "  </tbody>\n",
       "</table>\n",
       "</div>"
      ],
      "text/plain": [
       "         UserId  ItemId  Rating       Time  item_idx\n",
       "1000138    6040     858       4  956703932         0\n",
       "1000153    6040    2384       4  956703954         1\n",
       "999873     6040     593       5  956703954         2\n",
       "1000192    6040    2019       5  956703977         3\n",
       "1000007    6040    1961       4  956703977         4"
      ]
     },
     "execution_count": 16,
     "metadata": {},
     "output_type": "execute_result"
    }
   ],
   "source": [
    "tr_dataset = UserDataset(tr)\n",
    "tr_dataset.df.head()"
   ]
  },
  {
   "cell_type": "code",
   "execution_count": 17,
   "id": "satisfactory-community",
   "metadata": {},
   "outputs": [
    {
     "name": "stdout",
     "output_type": "stream",
     "text": [
      "[     0     53    182 ... 988323 988446 988787]\n",
      "[   0    1    2 ... 6036 6037 6038]\n"
     ]
    }
   ],
   "source": [
    "print(tr_dataset.click_offsets)\n",
    "print(tr_dataset.session_idx)"
   ]
  },
  {
   "cell_type": "code",
   "execution_count": 18,
   "id": "wrapped-fusion",
   "metadata": {},
   "outputs": [],
   "source": [
    "class SessionDataLoader:\n",
    "    \"\"\"Credit to yhs-968/pyGRU4REC.\"\"\"\n",
    "\n",
    "    def __init__(self, dataset: UserDataset, batch_size=50):\n",
    "        self.dataset = dataset\n",
    "        self.batch_size = batch_size\n",
    "\n",
    "    def __iter__(self):\n",
    "        \"\"\" Returns the iterator for producing session-parallel training mini-batches.\n",
    "        Yields:\n",
    "            input (B,):  Item indices that will be encoded as one-hot vectors later.\n",
    "            target (B,): a Variable that stores the target item indices\n",
    "            masks: Numpy array indicating the positions of the sessions to be terminated\n",
    "        \"\"\"\n",
    "\n",
    "        start, end, mask, last_session, finished = self.initialize()  # initialize 메소드에서 확인해주세요.\n",
    "        \"\"\"\n",
    "        start : Index Where Session Start\n",
    "        end : Index Where Session End\n",
    "        mask : indicator for the sessions to be terminated\n",
    "        \"\"\"\n",
    "\n",
    "        while not finished:\n",
    "            min_len = (end - start).min() - 1  # Shortest Length Among Sessions\n",
    "            for i in range(min_len):\n",
    "                # Build inputs & targets\n",
    "                inp = self.dataset.df['item_idx'].values[start + i]\n",
    "                target = self.dataset.df['item_idx'].values[start + i + 1]\n",
    "                yield inp, target, mask\n",
    "\n",
    "            start, end, mask, last_session, finished = self.update_status(start, end, min_len, last_session, finished)\n",
    "\n",
    "    def initialize(self):\n",
    "        first_iters = np.arange(self.batch_size)    # 첫 배치에 사용할 세션 Index를 가져옵니다.\n",
    "        last_session = self.batch_size - 1    # 마지막으로 다루고 있는 세션 Index를 저장해둡니다.\n",
    "        start = self.dataset.click_offsets[self.dataset.session_idx[first_iters]]       # data 상에서 session이 시작된 위치를 가져옵니다.\n",
    "        end = self.dataset.click_offsets[self.dataset.session_idx[first_iters] + 1]  # session이 끝난 위치 바로 다음 위치를 가져옵니다.\n",
    "        mask = np.array([])   # session의 모든 아이템을 다 돌은 경우 mask에 추가해줄 것입니다.\n",
    "        finished = False         # data를 전부 돌았는지 기록하기 위한 변수입니다.\n",
    "        return start, end, mask, last_session, finished\n",
    "\n",
    "    def update_status(self, start: np.ndarray, end: np.ndarray, min_len: int, last_session: int, finished: bool):  \n",
    "        # 다음 배치 데이터를 생성하기 위해 상태를 update합니다.\n",
    "        \n",
    "        start += min_len   # __iter__에서 min_len 만큼 for문을 돌았으므로 start를 min_len 만큼 더해줍니다.\n",
    "        mask = np.arange(self.batch_size)[(end - start) == 1]  \n",
    "        # end는 다음 세션이 시작되는 위치인데 start와 한 칸 차이난다는 것은 session이 끝났다는 뜻입니다. mask에 기록해줍니다.\n",
    "\n",
    "        for i, idx in enumerate(mask, start=1):  # mask에 추가된 세션 개수만큼 새로운 세션을 돌것입니다.\n",
    "            new_session = last_session + i  \n",
    "            if new_session > self.dataset.session_idx[-1]:  # 만약 새로운 세션이 마지막 세션 index보다 크다면 모든 학습데이터를 돈 것입니다.\n",
    "                finished = True\n",
    "                break\n",
    "            # update the next starting/ending point\n",
    "            start[idx] = self.dataset.click_offsets[self.dataset.session_idx[new_session]]     # 종료된 세션 대신 새로운 세션의 시작점을 기록합니다.\n",
    "            end[idx] = self.dataset.click_offsets[self.dataset.session_idx[new_session] + 1]\n",
    "\n",
    "        last_session += len(mask)  # 마지막 세션의 위치를 기록해둡니다.\n",
    "        return start, end, mask, last_session, finished"
   ]
  },
  {
   "cell_type": "code",
   "execution_count": 19,
   "id": "specific-pierre",
   "metadata": {},
   "outputs": [
    {
     "data": {
      "text/html": [
       "<div>\n",
       "<style scoped>\n",
       "    .dataframe tbody tr th:only-of-type {\n",
       "        vertical-align: middle;\n",
       "    }\n",
       "\n",
       "    .dataframe tbody tr th {\n",
       "        vertical-align: top;\n",
       "    }\n",
       "\n",
       "    .dataframe thead th {\n",
       "        text-align: right;\n",
       "    }\n",
       "</style>\n",
       "<table border=\"1\" class=\"dataframe\">\n",
       "  <thead>\n",
       "    <tr style=\"text-align: right;\">\n",
       "      <th></th>\n",
       "      <th>UserId</th>\n",
       "      <th>ItemId</th>\n",
       "      <th>Rating</th>\n",
       "      <th>Time</th>\n",
       "      <th>item_idx</th>\n",
       "    </tr>\n",
       "  </thead>\n",
       "  <tbody>\n",
       "    <tr>\n",
       "      <th>1000138</th>\n",
       "      <td>6040</td>\n",
       "      <td>858</td>\n",
       "      <td>4</td>\n",
       "      <td>956703932</td>\n",
       "      <td>0</td>\n",
       "    </tr>\n",
       "    <tr>\n",
       "      <th>1000153</th>\n",
       "      <td>6040</td>\n",
       "      <td>2384</td>\n",
       "      <td>4</td>\n",
       "      <td>956703954</td>\n",
       "      <td>1</td>\n",
       "    </tr>\n",
       "    <tr>\n",
       "      <th>999873</th>\n",
       "      <td>6040</td>\n",
       "      <td>593</td>\n",
       "      <td>5</td>\n",
       "      <td>956703954</td>\n",
       "      <td>2</td>\n",
       "    </tr>\n",
       "    <tr>\n",
       "      <th>1000192</th>\n",
       "      <td>6040</td>\n",
       "      <td>2019</td>\n",
       "      <td>5</td>\n",
       "      <td>956703977</td>\n",
       "      <td>3</td>\n",
       "    </tr>\n",
       "    <tr>\n",
       "      <th>1000007</th>\n",
       "      <td>6040</td>\n",
       "      <td>1961</td>\n",
       "      <td>4</td>\n",
       "      <td>956703977</td>\n",
       "      <td>4</td>\n",
       "    </tr>\n",
       "  </tbody>\n",
       "</table>\n",
       "</div>"
      ],
      "text/plain": [
       "         UserId  ItemId  Rating       Time  item_idx\n",
       "1000138    6040     858       4  956703932         0\n",
       "1000153    6040    2384       4  956703954         1\n",
       "999873     6040     593       5  956703954         2\n",
       "1000192    6040    2019       5  956703977         3\n",
       "1000007    6040    1961       4  956703977         4"
      ]
     },
     "execution_count": 19,
     "metadata": {},
     "output_type": "execute_result"
    }
   ],
   "source": [
    "tr_data_loader = SessionDataLoader(tr_dataset, batch_size=4)\n",
    "tr_dataset.df.head(5)"
   ]
  },
  {
   "cell_type": "code",
   "execution_count": 20,
   "id": "cardiac-probe",
   "metadata": {},
   "outputs": [],
   "source": [
    "iter_ex = iter(tr_data_loader)"
   ]
  },
  {
   "cell_type": "code",
   "execution_count": 21,
   "id": "synthetic-problem",
   "metadata": {},
   "outputs": [
    {
     "name": "stdout",
     "output_type": "stream",
     "text": [
      "Model Input Item Idx are : [  0  53 106 210]\n",
      "Label Item Idx are :       [  1  54 177 211]\n",
      "Previous Masked Input Idx are []\n"
     ]
    }
   ],
   "source": [
    "inputs, labels, mask =  next(iter_ex)\n",
    "print(f'Model Input Item Idx are : {inputs}')\n",
    "print(f'Label Item Idx are : {\"\":5} {labels}')\n",
    "print(f'Previous Masked Input Idx are {mask}')"
   ]
  },
  {
   "cell_type": "markdown",
   "id": "august-theta",
   "metadata": {},
   "source": [
    "## Step 3. 모델 구성\n",
    "\n",
    "Session Based Recommendation을 위해 GRU 모델을 사용한다. 이는 2015년에 발표된 [Session-based Recommendations with Recurrent Neural Networks](https://arxiv.org/abs/1511.06939)를 기반으로 하였음을 짐작할 수 있다."
   ]
  },
  {
   "cell_type": "code",
   "execution_count": 22,
   "id": "based-yeast",
   "metadata": {},
   "outputs": [],
   "source": [
    "def mrr_k(pred, truth: int, k: int):\n",
    "    indexing = np.where(pred[:k] == truth)[0]\n",
    "    if len(indexing) > 0:\n",
    "        return 1 / (indexing[0] + 1)\n",
    "    else:\n",
    "        return 0\n",
    "\n",
    "def recall_k(pred, truth: int, k: int) -> int:\n",
    "    answer = truth in pred[:k]\n",
    "    return int(answer)"
   ]
  },
  {
   "cell_type": "code",
   "execution_count": 23,
   "id": "sudden-fiction",
   "metadata": {},
   "outputs": [],
   "source": [
    "def create_model(args):\n",
    "    inputs = Input(batch_shape=(args.batch_size, 1, args.num_items))\n",
    "    gru, _ = GRU(args.hsz, stateful=True, return_state=True, name='GRU')(inputs)\n",
    "    dropout = Dropout(args.drop_rate)(gru)\n",
    "    predictions = Dense(args.num_items, activation='softmax')(dropout)\n",
    "    model = Model(inputs=inputs, outputs=[predictions])\n",
    "    model.compile(loss=categorical_crossentropy, optimizer=Adam(args.lr), metrics=['accuracy'])\n",
    "    model.summary()\n",
    "    return model"
   ]
  },
  {
   "cell_type": "code",
   "execution_count": 24,
   "id": "unknown-bobby",
   "metadata": {},
   "outputs": [],
   "source": [
    "class Args:\n",
    "    def __init__(self, tr, val, test, batch_size, hsz, drop_rate, lr, epochs, k):\n",
    "        self.tr = tr\n",
    "        self.val = val\n",
    "        self.test = test\n",
    "        self.num_items = tr['ItemId'].nunique()\n",
    "        self.num_sessions = tr['UserId'].nunique()\n",
    "        self.batch_size = batch_size\n",
    "        self.hsz = hsz\n",
    "        self.drop_rate = drop_rate\n",
    "        self.lr = lr\n",
    "        self.epochs = epochs\n",
    "        self.k = k\n",
    "\n",
    "args = Args(tr, val, test, batch_size=64, hsz=100, drop_rate=0.1, lr=0.001, epochs=10, k=10)"
   ]
  },
  {
   "cell_type": "code",
   "execution_count": 25,
   "id": "suspended-victoria",
   "metadata": {},
   "outputs": [
    {
     "name": "stdout",
     "output_type": "stream",
     "text": [
      "Model: \"model\"\n",
      "_________________________________________________________________\n",
      "Layer (type)                 Output Shape              Param #   \n",
      "=================================================================\n",
      "input_1 (InputLayer)         [(64, 1, 3319)]           0         \n",
      "_________________________________________________________________\n",
      "GRU (GRU)                    [(64, 100), (64, 100)]    1026300   \n",
      "_________________________________________________________________\n",
      "dropout (Dropout)            (64, 100)                 0         \n",
      "_________________________________________________________________\n",
      "dense (Dense)                (64, 3319)                335219    \n",
      "=================================================================\n",
      "Total params: 1,361,519\n",
      "Trainable params: 1,361,519\n",
      "Non-trainable params: 0\n",
      "_________________________________________________________________\n"
     ]
    }
   ],
   "source": [
    "model = create_model(args)"
   ]
  },
  {
   "cell_type": "markdown",
   "id": "native-funeral",
   "metadata": {},
   "source": [
    "## Step 4. 모델 학습"
   ]
  },
  {
   "cell_type": "code",
   "execution_count": 26,
   "id": "wired-captain",
   "metadata": {},
   "outputs": [],
   "source": [
    "def train_model(model, args):\n",
    "    train_dataset = UserDataset(args.tr)\n",
    "    train_loader = SessionDataLoader(train_dataset, batch_size=args.batch_size)\n",
    "    \n",
    "    history = {\n",
    "        \"train_loss\": [],\n",
    "        \"train_acc\": []\n",
    "    }\n",
    "    \n",
    "    for epoch in range(1, args.epochs + 1):\n",
    "        total_step = len(args.tr) - args.tr['UserId'].nunique()\n",
    "        tr_loader = tqdm(train_loader, total=total_step // args.batch_size, desc='Train', mininterval=1)\n",
    "        for feat, target, mask in tr_loader:\n",
    "            reset_hidden_states(model, mask)  # 종료된 session은 hidden_state를 초기화합니다. 아래 메서드에서 확인해주세요.\n",
    "\n",
    "            input_ohe = to_categorical(feat, num_classes=args.num_items)\n",
    "            input_ohe = np.expand_dims(input_ohe, axis=1)\n",
    "            target_ohe = to_categorical(target, num_classes=args.num_items)\n",
    "\n",
    "            result = model.train_on_batch(input_ohe, target_ohe)\n",
    "            tr_loader.set_postfix(train_loss=result[0], accuracy = result[1])\n",
    "\n",
    "        history['train_loss'].append(result[0])\n",
    "        history['train_acc'].append(result[1])\n",
    "        val_recall, val_mrr = get_metrics(args.val, model, args, args.k)  # valid set에 대해 검증합니다.\n",
    "\n",
    "        print(f\"\\t - Recall@{args.k} epoch {epoch}: {val_recall:3f}\")\n",
    "        print(f\"\\t - MRR@{args.k}    epoch {epoch}: {val_mrr:3f}\\n\")\n",
    "    return history\n",
    "\n",
    "def reset_hidden_states(model, mask):\n",
    "    gru_layer = model.get_layer(name='GRU')  # model에서 gru layer를 가져옵니다.\n",
    "    hidden_states = gru_layer.states[0].numpy()  # gru_layer의 parameter를 가져옵니다.\n",
    "    for elt in mask:  # mask된 인덱스 즉, 종료된 세션의 인덱스를 돌면서\n",
    "        hidden_states[elt, :] = 0  # parameter를 초기화 합니다.\n",
    "    gru_layer.reset_states(states=hidden_states)\n",
    "\n",
    "\n",
    "def get_metrics(data, model, args, k: int):  # valid셋과 test셋을 평가하는 코드입니다. \n",
    "                                             # train과 거의 같지만 mrr, recall을 구하는 라인이 있습니다.\n",
    "    dataset = UserDataset(data)\n",
    "    loader = SessionDataLoader(dataset, batch_size=args.batch_size)\n",
    "    recall_list, mrr_list = [], []\n",
    "\n",
    "    total_step = len(data) - data['UserId'].nunique()\n",
    "    for inputs, label, mask in tqdm(loader, total=total_step // args.batch_size, desc='Evaluation', mininterval=1):\n",
    "        reset_hidden_states(model, mask)\n",
    "        input_ohe = to_categorical(inputs, num_classes=args.num_items)\n",
    "        input_ohe = np.expand_dims(input_ohe, axis=1)\n",
    "\n",
    "        pred = model.predict(input_ohe, batch_size=args.batch_size)\n",
    "        pred_arg = tf.argsort(pred, direction='DESCENDING')  # softmax 값이 큰 순서대로 sorting 합니다.\n",
    "\n",
    "        length = len(inputs)\n",
    "        recall_list.extend([recall_k(pred_arg[i], label[i], k) for i in range(length)])\n",
    "        mrr_list.extend([mrr_k(pred_arg[i], label[i], k) for i in range(length)])\n",
    "\n",
    "    recall, mrr = np.mean(recall_list), np.mean(mrr_list)\n",
    "    return recall, mrr"
   ]
  },
  {
   "cell_type": "code",
   "execution_count": 27,
   "id": "patent-profile",
   "metadata": {},
   "outputs": [
    {
     "name": "stderr",
     "output_type": "stream",
     "text": [
      "Train:  99%|█████████▉| 15169/15355 [03:53<00:02, 65.02it/s, accuracy=0.0312, train_loss=7.21]\n",
      "Evaluation:  43%|████▎     | 33/77 [00:08<00:11,  3.84it/s]\n",
      "Train:   0%|          | 0/15355 [00:00<?, ?it/s, accuracy=0, train_loss=6.7]      "
     ]
    },
    {
     "name": "stdout",
     "output_type": "stream",
     "text": [
      "\t - Recall@10 epoch 1: 0.046402\n",
      "\t - MRR@10    epoch 1: 0.014527\n",
      "\n"
     ]
    },
    {
     "name": "stderr",
     "output_type": "stream",
     "text": [
      "Train:  99%|█████████▉| 15169/15355 [03:45<00:02, 67.34it/s, accuracy=0.0156, train_loss=7.1] \n",
      "Evaluation:  43%|████▎     | 33/77 [00:08<00:10,  4.06it/s]\n",
      "Train:   0%|          | 0/15355 [00:00<?, ?it/s, accuracy=0.0156, train_loss=6.53]"
     ]
    },
    {
     "name": "stdout",
     "output_type": "stream",
     "text": [
      "\t - Recall@10 epoch 2: 0.055871\n",
      "\t - MRR@10    epoch 2: 0.017076\n",
      "\n"
     ]
    },
    {
     "name": "stderr",
     "output_type": "stream",
     "text": [
      "Train:  99%|█████████▉| 15169/15355 [03:47<00:02, 66.60it/s, accuracy=0.0312, train_loss=7.06]\n",
      "Evaluation:  43%|████▎     | 33/77 [00:08<00:10,  4.06it/s]\n",
      "Train:   0%|          | 0/15355 [00:00<?, ?it/s, accuracy=0.0625, train_loss=6.04]"
     ]
    },
    {
     "name": "stdout",
     "output_type": "stream",
     "text": [
      "\t - Recall@10 epoch 3: 0.058239\n",
      "\t - MRR@10    epoch 3: 0.017897\n",
      "\n"
     ]
    },
    {
     "name": "stderr",
     "output_type": "stream",
     "text": [
      "Train:  99%|█████████▉| 15169/15355 [03:42<00:02, 68.05it/s, accuracy=0.0312, train_loss=6.99]\n",
      "Evaluation:  43%|████▎     | 33/77 [00:08<00:10,  4.07it/s]\n",
      "Train:   0%|          | 0/15355 [00:00<?, ?it/s, accuracy=0.0312, train_loss=6.07]"
     ]
    },
    {
     "name": "stdout",
     "output_type": "stream",
     "text": [
      "\t - Recall@10 epoch 4: 0.056345\n",
      "\t - MRR@10    epoch 4: 0.018655\n",
      "\n"
     ]
    },
    {
     "name": "stderr",
     "output_type": "stream",
     "text": [
      "Train:  99%|█████████▉| 15169/15355 [03:44<00:02, 67.42it/s, accuracy=0.0156, train_loss=6.88]\n",
      "Evaluation:  43%|████▎     | 33/77 [00:08<00:10,  4.04it/s]\n",
      "Train:   0%|          | 0/15355 [00:00<?, ?it/s, accuracy=0.0156, train_loss=6.4] "
     ]
    },
    {
     "name": "stdout",
     "output_type": "stream",
     "text": [
      "\t - Recall@10 epoch 5: 0.056818\n",
      "\t - MRR@10    epoch 5: 0.018992\n",
      "\n"
     ]
    },
    {
     "name": "stderr",
     "output_type": "stream",
     "text": [
      "Train:  99%|█████████▉| 15169/15355 [03:44<00:02, 67.58it/s, accuracy=0.0156, train_loss=6.82]\n",
      "Evaluation:  43%|████▎     | 33/77 [00:08<00:10,  4.05it/s]\n",
      "Train:   0%|          | 0/15355 [00:00<?, ?it/s, accuracy=0.0469, train_loss=6.37]"
     ]
    },
    {
     "name": "stdout",
     "output_type": "stream",
     "text": [
      "\t - Recall@10 epoch 6: 0.056818\n",
      "\t - MRR@10    epoch 6: 0.019510\n",
      "\n"
     ]
    },
    {
     "name": "stderr",
     "output_type": "stream",
     "text": [
      "Train:  99%|█████████▉| 15169/15355 [03:44<00:02, 67.65it/s, accuracy=0.0156, train_loss=6.82]\n",
      "Evaluation:  43%|████▎     | 33/77 [00:08<00:11,  3.96it/s]\n",
      "Train:   0%|          | 0/15355 [00:00<?, ?it/s, accuracy=0, train_loss=6.41]     "
     ]
    },
    {
     "name": "stdout",
     "output_type": "stream",
     "text": [
      "\t - Recall@10 epoch 7: 0.059186\n",
      "\t - MRR@10    epoch 7: 0.020380\n",
      "\n"
     ]
    },
    {
     "name": "stderr",
     "output_type": "stream",
     "text": [
      "Train:  99%|█████████▉| 15169/15355 [03:43<00:02, 67.80it/s, accuracy=0, train_loss=6.78]     \n",
      "Evaluation:  43%|████▎     | 33/77 [00:08<00:10,  4.05it/s]\n",
      "Train:   0%|          | 0/15355 [00:00<?, ?it/s, accuracy=0.0781, train_loss=6.25]"
     ]
    },
    {
     "name": "stdout",
     "output_type": "stream",
     "text": [
      "\t - Recall@10 epoch 8: 0.055871\n",
      "\t - MRR@10    epoch 8: 0.020982\n",
      "\n"
     ]
    },
    {
     "name": "stderr",
     "output_type": "stream",
     "text": [
      "Train:  99%|█████████▉| 15169/15355 [03:42<00:02, 68.29it/s, accuracy=0.0312, train_loss=6.7] \n",
      "Evaluation:  43%|████▎     | 33/77 [00:08<00:10,  4.04it/s]\n",
      "Train:   0%|          | 0/15355 [00:00<?, ?it/s, accuracy=0.0156, train_loss=5.99]"
     ]
    },
    {
     "name": "stdout",
     "output_type": "stream",
     "text": [
      "\t - Recall@10 epoch 9: 0.053504\n",
      "\t - MRR@10    epoch 9: 0.021377\n",
      "\n"
     ]
    },
    {
     "name": "stderr",
     "output_type": "stream",
     "text": [
      "Train:  99%|█████████▉| 15169/15355 [03:44<00:02, 67.49it/s, accuracy=0.0312, train_loss=6.66]\n",
      "Evaluation:  43%|████▎     | 33/77 [00:08<00:10,  4.03it/s]"
     ]
    },
    {
     "name": "stdout",
     "output_type": "stream",
     "text": [
      "\t - Recall@10 epoch 10: 0.055398\n",
      "\t - MRR@10    epoch 10: 0.022331\n",
      "\n"
     ]
    },
    {
     "name": "stderr",
     "output_type": "stream",
     "text": [
      "\n"
     ]
    }
   ],
   "source": [
    "history = train_model(model, args)"
   ]
  },
  {
   "cell_type": "markdown",
   "id": "dietary-excerpt",
   "metadata": {},
   "source": [
    "## Step 5. 모델 테스트"
   ]
  },
  {
   "cell_type": "code",
   "execution_count": 28,
   "id": "fixed-worker",
   "metadata": {},
   "outputs": [
    {
     "name": "stderr",
     "output_type": "stream",
     "text": [
      "Evaluation:  48%|████▊     | 36/75 [00:14<00:15,  2.57it/s]"
     ]
    },
    {
     "name": "stdout",
     "output_type": "stream",
     "text": [
      "\t - Recall@10: 0.149306\n",
      "\t - MRR@10: 0.043705\n",
      "\n"
     ]
    },
    {
     "name": "stderr",
     "output_type": "stream",
     "text": [
      "\n"
     ]
    }
   ],
   "source": [
    "def test_model(model, args, test):\n",
    "    test_recall, test_mrr = get_metrics(test, model, args, 20)\n",
    "    print(f\"\\t - Recall@{args.k}: {test_recall:3f}\")\n",
    "    print(f\"\\t - MRR@{args.k}: {test_mrr:3f}\\n\")\n",
    "\n",
    "test_model(model, args, test)"
   ]
  },
  {
   "cell_type": "code",
   "execution_count": 29,
   "id": "military-classics",
   "metadata": {},
   "outputs": [
    {
     "name": "stdout",
     "output_type": "stream",
     "text": [
      "[7.212370872497559, 7.103689193725586, 7.058794975280762, 6.994771957397461, 6.884220600128174, 6.824808120727539, 6.822902202606201, 6.78265380859375, 6.699895858764648, 6.659584045410156]\n",
      "[0.03125, 0.015625, 0.03125, 0.03125, 0.015625, 0.015625, 0.015625, 0.0, 0.03125, 0.03125]\n"
     ]
    },
    {
     "data": {
      "image/png": "[encoded data removed]",
      "text/plain": [
       "<Figure size 720x216 with 2 Axes>"
      ]
     },
     "metadata": {
      "needs_background": "light"
     },
     "output_type": "display_data"
    }
   ],
   "source": [
    "fig, ax = plt.subplots(1, 2, figsize=(10, 3))\n",
    "ax = ax.ravel()\n",
    "\n",
    "for i, met in enumerate(['train_loss', 'train_acc']):\n",
    "    ax[i].plot(history[met])\n",
    "    print(history[met])\n",
    "    ax[i].set_title(met)\n",
    "    ax[i].set_xlabel('epochs')\n",
    "plt.show()"
   ]
  },
  {
   "cell_type": "markdown",
   "id": "qualified-coast",
   "metadata": {},
   "source": [
    "## Step 5. 성능 개선을 위한 노력\n",
    "\n",
    "1. GRU Units 수 변경\n",
    "    1. 100 -> 128\n",
    "    2. 100 -> 256\n",
    "    3. 100 -> 64\n",
    "2. Rating 점수에 따른 데이터 전처리\n",
    "    1. Rating 1, 2의 데이턱 제거\n",
    "\n",
    "1번의 경우 Args라는 클래스로 모델 구성의 argument들을 정의했기 때문에 Args를 수정함으로써 Hypter Parameter Tuning을 이룰 수 있다.<br/>\n",
    "2번의 경우 Data 전처리부터 다시 불러와야 하는 부분들이 있다."
   ]
  },
  {
   "cell_type": "markdown",
   "id": "fifty-african",
   "metadata": {},
   "source": [
    "<br/>\n",
    "\n",
    "**hsz parameter**"
   ]
  },
  {
   "cell_type": "code",
   "execution_count": 30,
   "id": "american-burst",
   "metadata": {},
   "outputs": [
    {
     "name": "stdout",
     "output_type": "stream",
     "text": [
      "Model: \"model_1\"\n",
      "_________________________________________________________________\n",
      "Layer (type)                 Output Shape              Param #   \n",
      "=================================================================\n",
      "input_2 (InputLayer)         [(64, 1, 3319)]           0         \n",
      "_________________________________________________________________\n",
      "GRU (GRU)                    [(64, 128), (64, 128)]    1324416   \n",
      "_________________________________________________________________\n",
      "dropout_1 (Dropout)          (64, 128)                 0         \n",
      "_________________________________________________________________\n",
      "dense_1 (Dense)              (64, 3319)                428151    \n",
      "=================================================================\n",
      "Total params: 1,752,567\n",
      "Trainable params: 1,752,567\n",
      "Non-trainable params: 0\n",
      "_________________________________________________________________\n",
      "Model: \"model_2\"\n",
      "_________________________________________________________________\n",
      "Layer (type)                 Output Shape              Param #   \n",
      "=================================================================\n",
      "input_3 (InputLayer)         [(64, 1, 3319)]           0         \n",
      "_________________________________________________________________\n",
      "GRU (GRU)                    [(64, 256), (64, 256)]    2747136   \n",
      "_________________________________________________________________\n",
      "dropout_2 (Dropout)          (64, 256)                 0         \n",
      "_________________________________________________________________\n",
      "dense_2 (Dense)              (64, 3319)                852983    \n",
      "=================================================================\n",
      "Total params: 3,600,119\n",
      "Trainable params: 3,600,119\n",
      "Non-trainable params: 0\n",
      "_________________________________________________________________\n"
     ]
    },
    {
     "name": "stderr",
     "output_type": "stream",
     "text": [
      "Train:   0%|          | 0/15355 [00:00<?, ?it/s]"
     ]
    },
    {
     "name": "stdout",
     "output_type": "stream",
     "text": [
      "Model: \"model_3\"\n",
      "_________________________________________________________________\n",
      "Layer (type)                 Output Shape              Param #   \n",
      "=================================================================\n",
      "input_4 (InputLayer)         [(64, 1, 3319)]           0         \n",
      "_________________________________________________________________\n",
      "GRU (GRU)                    [(64, 64), (64, 64)]      649920    \n",
      "_________________________________________________________________\n",
      "dropout_3 (Dropout)          (64, 64)                  0         \n",
      "_________________________________________________________________\n",
      "dense_3 (Dense)              (64, 3319)                215735    \n",
      "=================================================================\n",
      "Total params: 865,655\n",
      "Trainable params: 865,655\n",
      "Non-trainable params: 0\n",
      "_________________________________________________________________\n"
     ]
    },
    {
     "name": "stderr",
     "output_type": "stream",
     "text": [
      "Train:  99%|█████████▉| 15169/15355 [04:00<00:02, 63.00it/s, accuracy=0.0312, train_loss=7.18]\n",
      "Evaluation:  43%|████▎     | 33/77 [00:08<00:11,  3.87it/s]\n",
      "Train:   0%|          | 0/15355 [00:00<?, ?it/s, accuracy=0, train_loss=6.68]     "
     ]
    },
    {
     "name": "stdout",
     "output_type": "stream",
     "text": [
      "\t - Recall@10 epoch 1: 0.046402\n",
      "\t - MRR@10    epoch 1: 0.015434\n",
      "\n"
     ]
    },
    {
     "name": "stderr",
     "output_type": "stream",
     "text": [
      "Train:  99%|█████████▉| 15169/15355 [03:59<00:02, 63.45it/s, accuracy=0.0156, train_loss=7.01]\n",
      "Evaluation:  43%|████▎     | 33/77 [00:08<00:10,  4.02it/s]\n",
      "Train:   0%|          | 0/15355 [00:00<?, ?it/s, accuracy=0.0156, train_loss=6.56]"
     ]
    },
    {
     "name": "stdout",
     "output_type": "stream",
     "text": [
      "\t - Recall@10 epoch 2: 0.049242\n",
      "\t - MRR@10    epoch 2: 0.017808\n",
      "\n"
     ]
    },
    {
     "name": "stderr",
     "output_type": "stream",
     "text": [
      "Train:  99%|█████████▉| 15169/15355 [03:57<00:02, 63.91it/s, accuracy=0.0156, train_loss=6.95]\n",
      "Evaluation:  43%|████▎     | 33/77 [00:08<00:10,  4.01it/s]\n",
      "Train:   0%|          | 0/15355 [00:00<?, ?it/s, accuracy=0.0312, train_loss=6.51]"
     ]
    },
    {
     "name": "stdout",
     "output_type": "stream",
     "text": [
      "\t - Recall@10 epoch 3: 0.051610\n",
      "\t - MRR@10    epoch 3: 0.019829\n",
      "\n"
     ]
    },
    {
     "name": "stderr",
     "output_type": "stream",
     "text": [
      "Train:  99%|█████████▉| 15169/15355 [04:03<00:02, 62.28it/s, accuracy=0.0312, train_loss=6.84]\n",
      "Evaluation:  43%|████▎     | 33/77 [00:08<00:11,  3.98it/s]\n",
      "Train:   0%|          | 0/15355 [00:00<?, ?it/s, accuracy=0.0312, train_loss=6.44]"
     ]
    },
    {
     "name": "stdout",
     "output_type": "stream",
     "text": [
      "\t - Recall@10 epoch 4: 0.058239\n",
      "\t - MRR@10    epoch 4: 0.020110\n",
      "\n"
     ]
    },
    {
     "name": "stderr",
     "output_type": "stream",
     "text": [
      "Train:  99%|█████████▉| 15169/15355 [04:04<00:02, 62.16it/s, accuracy=0.0312, train_loss=6.67]\n",
      "Evaluation:  43%|████▎     | 33/77 [00:08<00:11,  3.96it/s]\n",
      "Train:   0%|          | 0/15355 [00:00<?, ?it/s, accuracy=0.0312, train_loss=6.38]"
     ]
    },
    {
     "name": "stdout",
     "output_type": "stream",
     "text": [
      "\t - Recall@10 epoch 5: 0.060606\n",
      "\t - MRR@10    epoch 5: 0.020861\n",
      "\n"
     ]
    },
    {
     "name": "stderr",
     "output_type": "stream",
     "text": [
      "Train:  99%|█████████▉| 15169/15355 [04:06<00:03, 61.63it/s, accuracy=0.0312, train_loss=6.8] \n",
      "Evaluation:  43%|████▎     | 33/77 [00:08<00:11,  3.94it/s]\n",
      "Train:   0%|          | 0/15355 [00:00<?, ?it/s, accuracy=0.0156, train_loss=6.29]"
     ]
    },
    {
     "name": "stdout",
     "output_type": "stream",
     "text": [
      "\t - Recall@10 epoch 6: 0.057292\n",
      "\t - MRR@10    epoch 6: 0.021454\n",
      "\n"
     ]
    },
    {
     "name": "stderr",
     "output_type": "stream",
     "text": [
      "Train:  99%|█████████▉| 15169/15355 [04:11<00:03, 60.37it/s, accuracy=0.0469, train_loss=6.64]\n",
      "Evaluation:  43%|████▎     | 33/77 [00:08<00:11,  3.96it/s]\n",
      "Train:   0%|          | 0/15355 [00:00<?, ?it/s, accuracy=0.0156, train_loss=6.2] "
     ]
    },
    {
     "name": "stdout",
     "output_type": "stream",
     "text": [
      "\t - Recall@10 epoch 7: 0.055398\n",
      "\t - MRR@10    epoch 7: 0.020922\n",
      "\n"
     ]
    },
    {
     "name": "stderr",
     "output_type": "stream",
     "text": [
      "Train:  99%|█████████▉| 15169/15355 [04:09<00:03, 60.90it/s, accuracy=0.0312, train_loss=6.65]\n",
      "Evaluation:  43%|████▎     | 33/77 [00:08<00:11,  3.95it/s]\n",
      "Train:   0%|          | 0/15355 [00:00<?, ?it/s, accuracy=0.0312, train_loss=6.36]"
     ]
    },
    {
     "name": "stdout",
     "output_type": "stream",
     "text": [
      "\t - Recall@10 epoch 8: 0.053977\n",
      "\t - MRR@10    epoch 8: 0.020704\n",
      "\n"
     ]
    },
    {
     "name": "stderr",
     "output_type": "stream",
     "text": [
      "Train:  99%|█████████▉| 15169/15355 [04:06<00:03, 61.46it/s, accuracy=0.0156, train_loss=6.63]\n",
      "Evaluation:  43%|████▎     | 33/77 [00:08<00:10,  4.03it/s]\n",
      "Train:   0%|          | 0/15355 [00:00<?, ?it/s, accuracy=0, train_loss=6.36]     "
     ]
    },
    {
     "name": "stdout",
     "output_type": "stream",
     "text": [
      "\t - Recall@10 epoch 9: 0.055871\n",
      "\t - MRR@10    epoch 9: 0.021777\n",
      "\n"
     ]
    },
    {
     "name": "stderr",
     "output_type": "stream",
     "text": [
      "Train:  99%|█████████▉| 15169/15355 [04:07<00:03, 61.23it/s, accuracy=0.0312, train_loss=6.58]\n",
      "Evaluation:  43%|████▎     | 33/77 [00:08<00:11,  3.99it/s]\n",
      "Train:   0%|          | 0/15355 [00:00<?, ?it/s]"
     ]
    },
    {
     "name": "stdout",
     "output_type": "stream",
     "text": [
      "\t - Recall@10 epoch 10: 0.054451\n",
      "\t - MRR@10    epoch 10: 0.020701\n",
      "\n"
     ]
    },
    {
     "name": "stderr",
     "output_type": "stream",
     "text": [
      "Train:  99%|█████████▉| 15169/15355 [05:13<00:03, 48.46it/s, accuracy=0.0156, train_loss=7.08]\n",
      "Evaluation:  43%|████▎     | 33/77 [00:08<00:11,  3.83it/s]\n",
      "Train:   0%|          | 0/15355 [00:00<?, ?it/s, accuracy=0.0156, train_loss=6.56]"
     ]
    },
    {
     "name": "stdout",
     "output_type": "stream",
     "text": [
      "\t - Recall@10 epoch 1: 0.055398\n",
      "\t - MRR@10    epoch 1: 0.017670\n",
      "\n"
     ]
    },
    {
     "name": "stderr",
     "output_type": "stream",
     "text": [
      "Train:  99%|█████████▉| 15169/15355 [05:06<00:03, 49.50it/s, accuracy=0.0469, train_loss=6.86]\n",
      "Evaluation:  43%|████▎     | 33/77 [00:08<00:11,  3.96it/s]\n",
      "Train:   0%|          | 0/15355 [00:00<?, ?it/s, accuracy=0.0469, train_loss=6.45]"
     ]
    },
    {
     "name": "stdout",
     "output_type": "stream",
     "text": [
      "\t - Recall@10 epoch 2: 0.060606\n",
      "\t - MRR@10    epoch 2: 0.022372\n",
      "\n"
     ]
    },
    {
     "name": "stderr",
     "output_type": "stream",
     "text": [
      "Train:  99%|█████████▉| 15169/15355 [05:06<00:03, 49.52it/s, accuracy=0.0156, train_loss=6.73]\n",
      "Evaluation:  43%|████▎     | 33/77 [00:08<00:11,  3.89it/s]\n",
      "Train:   0%|          | 0/15355 [00:00<?, ?it/s, accuracy=0.0469, train_loss=6.36]"
     ]
    },
    {
     "name": "stdout",
     "output_type": "stream",
     "text": [
      "\t - Recall@10 epoch 3: 0.058239\n",
      "\t - MRR@10    epoch 3: 0.023445\n",
      "\n"
     ]
    },
    {
     "name": "stderr",
     "output_type": "stream",
     "text": [
      "Train:  99%|█████████▉| 15169/15355 [05:07<00:03, 49.32it/s, accuracy=0.0156, train_loss=6.7] \n",
      "Evaluation:  43%|████▎     | 33/77 [00:08<00:11,  3.97it/s]\n",
      "Train:   0%|          | 0/15355 [00:00<?, ?it/s, accuracy=0.0469, train_loss=5.91]"
     ]
    },
    {
     "name": "stdout",
     "output_type": "stream",
     "text": [
      "\t - Recall@10 epoch 4: 0.057765\n",
      "\t - MRR@10    epoch 4: 0.022404\n",
      "\n"
     ]
    },
    {
     "name": "stderr",
     "output_type": "stream",
     "text": [
      "Train:  99%|█████████▉| 15169/15355 [05:07<00:03, 49.34it/s, accuracy=0, train_loss=6.5]      \n",
      "Evaluation:  43%|████▎     | 33/77 [00:08<00:11,  3.96it/s]\n",
      "Train:   0%|          | 0/15355 [00:00<?, ?it/s, accuracy=0.0312, train_loss=6.11]"
     ]
    },
    {
     "name": "stdout",
     "output_type": "stream",
     "text": [
      "\t - Recall@10 epoch 5: 0.053977\n",
      "\t - MRR@10    epoch 5: 0.021082\n",
      "\n"
     ]
    },
    {
     "name": "stderr",
     "output_type": "stream",
     "text": [
      "Train:  99%|█████████▉| 15169/15355 [05:07<00:03, 49.30it/s, accuracy=0.0312, train_loss=6.5] \n",
      "Evaluation:  43%|████▎     | 33/77 [00:08<00:11,  3.95it/s]\n",
      "Train:   0%|          | 0/15355 [00:00<?, ?it/s, accuracy=0.0625, train_loss=5.96]"
     ]
    },
    {
     "name": "stdout",
     "output_type": "stream",
     "text": [
      "\t - Recall@10 epoch 6: 0.054451\n",
      "\t - MRR@10    epoch 6: 0.019932\n",
      "\n"
     ]
    },
    {
     "name": "stderr",
     "output_type": "stream",
     "text": [
      "Train:  99%|█████████▉| 15169/15355 [05:08<00:03, 49.19it/s, accuracy=0.0469, train_loss=6.37]\n",
      "Evaluation:  43%|████▎     | 33/77 [00:08<00:11,  3.93it/s]\n",
      "Train:   0%|          | 0/15355 [00:00<?, ?it/s, accuracy=0.0312, train_loss=6.01]"
     ]
    },
    {
     "name": "stdout",
     "output_type": "stream",
     "text": [
      "\t - Recall@10 epoch 7: 0.050189\n",
      "\t - MRR@10    epoch 7: 0.020934\n",
      "\n"
     ]
    },
    {
     "name": "stderr",
     "output_type": "stream",
     "text": [
      "Train:  99%|█████████▉| 15169/15355 [05:08<00:03, 49.16it/s, accuracy=0, train_loss=6.49]     \n",
      "Evaluation:  43%|████▎     | 33/77 [00:08<00:11,  3.96it/s]\n",
      "Train:   0%|          | 0/15355 [00:00<?, ?it/s, accuracy=0.0312, train_loss=5.92]"
     ]
    },
    {
     "name": "stdout",
     "output_type": "stream",
     "text": [
      "\t - Recall@10 epoch 8: 0.046875\n",
      "\t - MRR@10    epoch 8: 0.019412\n",
      "\n"
     ]
    },
    {
     "name": "stderr",
     "output_type": "stream",
     "text": [
      "Train:  99%|█████████▉| 15169/15355 [05:05<00:03, 49.61it/s, accuracy=0.0156, train_loss=6.52]\n",
      "Evaluation:  43%|████▎     | 33/77 [00:08<00:11,  3.94it/s]\n",
      "Train:   0%|          | 0/15355 [00:00<?, ?it/s, accuracy=0.0312, train_loss=5.91]"
     ]
    },
    {
     "name": "stdout",
     "output_type": "stream",
     "text": [
      "\t - Recall@10 epoch 9: 0.052557\n",
      "\t - MRR@10    epoch 9: 0.019490\n",
      "\n"
     ]
    },
    {
     "name": "stderr",
     "output_type": "stream",
     "text": [
      "Train:  99%|█████████▉| 15169/15355 [05:06<00:03, 49.44it/s, accuracy=0.0625, train_loss=6.29]\n",
      "Evaluation:  43%|████▎     | 33/77 [00:08<00:11,  3.87it/s]\n",
      "Train:   0%|          | 0/15355 [00:00<?, ?it/s]"
     ]
    },
    {
     "name": "stdout",
     "output_type": "stream",
     "text": [
      "\t - Recall@10 epoch 10: 0.047348\n",
      "\t - MRR@10    epoch 10: 0.018551\n",
      "\n"
     ]
    },
    {
     "name": "stderr",
     "output_type": "stream",
     "text": [
      "Train:  99%|█████████▉| 15169/15355 [03:30<00:02, 72.18it/s, accuracy=0.0469, train_loss=7.25]\n",
      "Evaluation:  43%|████▎     | 33/77 [00:08<00:11,  3.80it/s]\n",
      "Train:   0%|          | 0/15355 [00:00<?, ?it/s, accuracy=0, train_loss=6.68]     "
     ]
    },
    {
     "name": "stdout",
     "output_type": "stream",
     "text": [
      "\t - Recall@10 epoch 1: 0.038826\n",
      "\t - MRR@10    epoch 1: 0.012785\n",
      "\n"
     ]
    },
    {
     "name": "stderr",
     "output_type": "stream",
     "text": [
      "Train:  99%|█████████▉| 15169/15355 [03:28<00:02, 72.62it/s, accuracy=0, train_loss=7.11]     \n",
      "Evaluation:  43%|████▎     | 33/77 [00:08<00:11,  3.97it/s]\n",
      "Train:   0%|          | 0/15355 [00:00<?, ?it/s, accuracy=0, train_loss=6.39]     "
     ]
    },
    {
     "name": "stdout",
     "output_type": "stream",
     "text": [
      "\t - Recall@10 epoch 2: 0.054924\n",
      "\t - MRR@10    epoch 2: 0.017779\n",
      "\n"
     ]
    },
    {
     "name": "stderr",
     "output_type": "stream",
     "text": [
      "Train:  99%|█████████▉| 15169/15355 [03:26<00:02, 73.48it/s, accuracy=0.0312, train_loss=6.92]\n",
      "Evaluation:  43%|████▎     | 33/77 [00:08<00:11,  3.94it/s]\n",
      "Train:   0%|          | 0/15355 [00:00<?, ?it/s, accuracy=0.0312, train_loss=6.21]"
     ]
    },
    {
     "name": "stdout",
     "output_type": "stream",
     "text": [
      "\t - Recall@10 epoch 3: 0.055398\n",
      "\t - MRR@10    epoch 3: 0.018585\n",
      "\n"
     ]
    },
    {
     "name": "stderr",
     "output_type": "stream",
     "text": [
      "Train:  99%|█████████▉| 15169/15355 [03:26<00:02, 73.31it/s, accuracy=0.0156, train_loss=6.88]\n",
      "Evaluation:  43%|████▎     | 33/77 [00:08<00:11,  3.90it/s]\n",
      "Train:   0%|          | 0/15355 [00:00<?, ?it/s, accuracy=0.0625, train_loss=6.14]"
     ]
    },
    {
     "name": "stdout",
     "output_type": "stream",
     "text": [
      "\t - Recall@10 epoch 4: 0.054924\n",
      "\t - MRR@10    epoch 4: 0.018720\n",
      "\n"
     ]
    },
    {
     "name": "stderr",
     "output_type": "stream",
     "text": [
      "Train:  99%|█████████▉| 15169/15355 [03:27<00:02, 73.10it/s, accuracy=0.0156, train_loss=6.87]\n",
      "Evaluation:  43%|████▎     | 33/77 [00:08<00:11,  3.95it/s]\n",
      "Train:   0%|          | 0/15355 [00:00<?, ?it/s, accuracy=0.0312, train_loss=6.22]"
     ]
    },
    {
     "name": "stdout",
     "output_type": "stream",
     "text": [
      "\t - Recall@10 epoch 5: 0.058712\n",
      "\t - MRR@10    epoch 5: 0.020310\n",
      "\n"
     ]
    },
    {
     "name": "stderr",
     "output_type": "stream",
     "text": [
      "Train:  99%|█████████▉| 15169/15355 [03:27<00:02, 73.13it/s, accuracy=0.0156, train_loss=6.85]\n",
      "Evaluation:  43%|████▎     | 33/77 [00:08<00:11,  3.94it/s]\n",
      "Train:   0%|          | 0/15355 [00:00<?, ?it/s, accuracy=0.0312, train_loss=6.12]"
     ]
    },
    {
     "name": "stdout",
     "output_type": "stream",
     "text": [
      "\t - Recall@10 epoch 6: 0.056345\n",
      "\t - MRR@10    epoch 6: 0.021956\n",
      "\n"
     ]
    },
    {
     "name": "stderr",
     "output_type": "stream",
     "text": [
      "Train:  99%|█████████▉| 15169/15355 [03:26<00:02, 73.51it/s, accuracy=0.0312, train_loss=6.82]\n",
      "Evaluation:  43%|████▎     | 33/77 [00:08<00:11,  3.93it/s]\n",
      "Train:   0%|          | 0/15355 [00:00<?, ?it/s, accuracy=0.0469, train_loss=6.15]"
     ]
    },
    {
     "name": "stdout",
     "output_type": "stream",
     "text": [
      "\t - Recall@10 epoch 7: 0.054451\n",
      "\t - MRR@10    epoch 7: 0.021747\n",
      "\n"
     ]
    },
    {
     "name": "stderr",
     "output_type": "stream",
     "text": [
      "Train:  99%|█████████▉| 15169/15355 [03:27<00:02, 73.05it/s, accuracy=0.0312, train_loss=6.78]\n",
      "Evaluation:  43%|████▎     | 33/77 [00:08<00:11,  3.99it/s]\n",
      "Train:   0%|          | 0/15355 [00:00<?, ?it/s, accuracy=0.0312, train_loss=6.18]"
     ]
    },
    {
     "name": "stdout",
     "output_type": "stream",
     "text": [
      "\t - Recall@10 epoch 8: 0.059186\n",
      "\t - MRR@10    epoch 8: 0.022603\n",
      "\n"
     ]
    },
    {
     "name": "stderr",
     "output_type": "stream",
     "text": [
      "Train:  99%|█████████▉| 15169/15355 [03:28<00:02, 72.85it/s, accuracy=0.0312, train_loss=6.72]\n",
      "Evaluation:  43%|████▎     | 33/77 [00:08<00:11,  3.96it/s]\n",
      "Train:   0%|          | 0/15355 [00:00<?, ?it/s, accuracy=0.0312, train_loss=6.18]"
     ]
    },
    {
     "name": "stdout",
     "output_type": "stream",
     "text": [
      "\t - Recall@10 epoch 9: 0.059659\n",
      "\t - MRR@10    epoch 9: 0.022578\n",
      "\n"
     ]
    },
    {
     "name": "stderr",
     "output_type": "stream",
     "text": [
      "Train:  99%|█████████▉| 15169/15355 [03:28<00:02, 72.81it/s, accuracy=0.0312, train_loss=6.77]\n",
      "Evaluation:  43%|████▎     | 33/77 [00:08<00:11,  3.94it/s]"
     ]
    },
    {
     "name": "stdout",
     "output_type": "stream",
     "text": [
      "\t - Recall@10 epoch 10: 0.058712\n",
      "\t - MRR@10    epoch 10: 0.021844\n",
      "\n"
     ]
    },
    {
     "name": "stderr",
     "output_type": "stream",
     "text": [
      "\n"
     ]
    }
   ],
   "source": [
    "# GRU Model Hidden units size 100 -> 128\n",
    "# GRU Model Hidden units size 100 -> 256\n",
    "# GRU Model Hidden units size 100 -> 64\n",
    "\n",
    "args = Args(tr, val, test, batch_size=64, hsz=128, drop_rate=0.1, lr=0.001, epochs=10, k=10)\n",
    "model_hsz_128 = create_model(args)\n",
    "args = Args(tr, val, test, batch_size=64, hsz=256, drop_rate=0.1, lr=0.001, epochs=10, k=10)\n",
    "model_hsz_256 = create_model(args)\n",
    "args = Args(tr, val, test, batch_size=64, hsz=64, drop_rate=0.1, lr=0.001, epochs=10, k=10)\n",
    "model_hsz_64 = create_model(args)\n",
    "\n",
    "history_128 = train_model(model_hsz_128, args)\n",
    "history_256 = train_model(model_hsz_256, args)\n",
    "history_64 = train_model(model_hsz_64, args)"
   ]
  },
  {
   "cell_type": "markdown",
   "id": "pressing-outreach",
   "metadata": {},
   "source": [
    "<br/>\n",
    "\n",
    "**낮게 평가된 데이터 제거**"
   ]
  },
  {
   "cell_type": "code",
   "execution_count": 31,
   "id": "intermediate-scotland",
   "metadata": {},
   "outputs": [
    {
     "name": "stderr",
     "output_type": "stream",
     "text": [
      "Train:   0%|          | 0/12832 [00:00<?, ?it/s]"
     ]
    },
    {
     "name": "stdout",
     "output_type": "stream",
     "text": [
      "Model: \"model_4\"\n",
      "_________________________________________________________________\n",
      "Layer (type)                 Output Shape              Param #   \n",
      "=================================================================\n",
      "input_5 (InputLayer)         [(64, 1, 3318)]           0         \n",
      "_________________________________________________________________\n",
      "GRU (GRU)                    [(64, 100), (64, 100)]    1026000   \n",
      "_________________________________________________________________\n",
      "dropout_4 (Dropout)          (64, 100)                 0         \n",
      "_________________________________________________________________\n",
      "dense_4 (Dense)              (64, 3318)                335118    \n",
      "=================================================================\n",
      "Total params: 1,361,118\n",
      "Trainable params: 1,361,118\n",
      "Non-trainable params: 0\n",
      "_________________________________________________________________\n"
     ]
    },
    {
     "name": "stderr",
     "output_type": "stream",
     "text": [
      "Train:  99%|█████████▉| 12689/12832 [03:24<00:02, 62.15it/s, accuracy=0, train_loss=7.45]     \n",
      "Evaluation:  44%|████▍     | 28/64 [00:07<00:09,  3.76it/s]\n",
      "Train:   0%|          | 0/12832 [00:00<?, ?it/s, accuracy=0, train_loss=6.21]     "
     ]
    },
    {
     "name": "stdout",
     "output_type": "stream",
     "text": [
      "\t - Recall@10 epoch 1: 0.047991\n",
      "\t - MRR@10    epoch 1: 0.014941\n",
      "\n"
     ]
    },
    {
     "name": "stderr",
     "output_type": "stream",
     "text": [
      "Train:  99%|█████████▉| 12689/12832 [03:16<00:02, 64.45it/s, accuracy=0, train_loss=7.22]     \n",
      "Evaluation:  44%|████▍     | 28/64 [00:07<00:09,  3.91it/s]\n",
      "Train:   0%|          | 0/12832 [00:00<?, ?it/s, accuracy=0.0156, train_loss=5.89]"
     ]
    },
    {
     "name": "stdout",
     "output_type": "stream",
     "text": [
      "\t - Recall@10 epoch 2: 0.060268\n",
      "\t - MRR@10    epoch 2: 0.020432\n",
      "\n"
     ]
    },
    {
     "name": "stderr",
     "output_type": "stream",
     "text": [
      "Train:  99%|█████████▉| 12689/12832 [03:18<00:02, 63.81it/s, accuracy=0.0156, train_loss=7.21]\n",
      "Evaluation:  44%|████▍     | 28/64 [00:07<00:09,  3.87it/s]\n",
      "Train:   0%|          | 0/12832 [00:00<?, ?it/s, accuracy=0.0312, train_loss=6.01]"
     ]
    },
    {
     "name": "stdout",
     "output_type": "stream",
     "text": [
      "\t - Recall@10 epoch 3: 0.059152\n",
      "\t - MRR@10    epoch 3: 0.021607\n",
      "\n"
     ]
    },
    {
     "name": "stderr",
     "output_type": "stream",
     "text": [
      "Train:  99%|█████████▉| 12689/12832 [03:19<00:02, 63.67it/s, accuracy=0.0156, train_loss=7.13]\n",
      "Evaluation:  44%|████▍     | 28/64 [00:07<00:09,  3.92it/s]\n",
      "Train:   0%|          | 0/12832 [00:00<?, ?it/s, accuracy=0.0938, train_loss=5.72]"
     ]
    },
    {
     "name": "stdout",
     "output_type": "stream",
     "text": [
      "\t - Recall@10 epoch 4: 0.054688\n",
      "\t - MRR@10    epoch 4: 0.021646\n",
      "\n"
     ]
    },
    {
     "name": "stderr",
     "output_type": "stream",
     "text": [
      "Train:  99%|█████████▉| 12689/12832 [03:20<00:02, 63.30it/s, accuracy=0.0156, train_loss=7.08]\n",
      "Evaluation:  44%|████▍     | 28/64 [00:07<00:09,  3.90it/s]\n",
      "Train:   0%|          | 0/12832 [00:00<?, ?it/s, accuracy=0.0625, train_loss=5.72]"
     ]
    },
    {
     "name": "stdout",
     "output_type": "stream",
     "text": [
      "\t - Recall@10 epoch 5: 0.055246\n",
      "\t - MRR@10    epoch 5: 0.020104\n",
      "\n"
     ]
    },
    {
     "name": "stderr",
     "output_type": "stream",
     "text": [
      "Train:  99%|█████████▉| 12689/12832 [03:13<00:02, 65.68it/s, accuracy=0.0156, train_loss=7.08]\n",
      "Evaluation:  44%|████▍     | 28/64 [00:07<00:09,  3.97it/s]\n",
      "Train:   0%|          | 0/12832 [00:00<?, ?it/s, accuracy=0.0625, train_loss=5.74]"
     ]
    },
    {
     "name": "stdout",
     "output_type": "stream",
     "text": [
      "\t - Recall@10 epoch 6: 0.056362\n",
      "\t - MRR@10    epoch 6: 0.019356\n",
      "\n"
     ]
    },
    {
     "name": "stderr",
     "output_type": "stream",
     "text": [
      "Train:  99%|█████████▉| 12689/12832 [03:11<00:02, 66.29it/s, accuracy=0.0156, train_loss=7.04]\n",
      "Evaluation:  44%|████▍     | 28/64 [00:06<00:08,  4.01it/s]\n",
      "Train:   0%|          | 0/12832 [00:00<?, ?it/s, accuracy=0.0625, train_loss=5.69]"
     ]
    },
    {
     "name": "stdout",
     "output_type": "stream",
     "text": [
      "\t - Recall@10 epoch 7: 0.058594\n",
      "\t - MRR@10    epoch 7: 0.021430\n",
      "\n"
     ]
    },
    {
     "name": "stderr",
     "output_type": "stream",
     "text": [
      "Train:  99%|█████████▉| 12689/12832 [03:14<00:02, 65.28it/s, accuracy=0, train_loss=7.02]     \n",
      "Evaluation:  44%|████▍     | 28/64 [00:07<00:09,  4.00it/s]\n",
      "Train:   0%|          | 0/12832 [00:00<?, ?it/s, accuracy=0.0781, train_loss=5.63]"
     ]
    },
    {
     "name": "stdout",
     "output_type": "stream",
     "text": [
      "\t - Recall@10 epoch 8: 0.054129\n",
      "\t - MRR@10    epoch 8: 0.020732\n",
      "\n"
     ]
    },
    {
     "name": "stderr",
     "output_type": "stream",
     "text": [
      "Train:  99%|█████████▉| 12689/12832 [03:14<00:02, 65.33it/s, accuracy=0.0156, train_loss=6.97]\n",
      "Evaluation:  44%|████▍     | 28/64 [00:06<00:08,  4.01it/s]\n",
      "Train:   0%|          | 0/12832 [00:00<?, ?it/s, accuracy=0.0469, train_loss=5.64]"
     ]
    },
    {
     "name": "stdout",
     "output_type": "stream",
     "text": [
      "\t - Recall@10 epoch 9: 0.056920\n",
      "\t - MRR@10    epoch 9: 0.020772\n",
      "\n"
     ]
    },
    {
     "name": "stderr",
     "output_type": "stream",
     "text": [
      "Train:  99%|█████████▉| 12689/12832 [03:11<00:02, 66.27it/s, accuracy=0.0156, train_loss=6.9] \n",
      "Evaluation:  44%|████▍     | 28/64 [00:07<00:09,  3.97it/s]"
     ]
    },
    {
     "name": "stdout",
     "output_type": "stream",
     "text": [
      "\t - Recall@10 epoch 10: 0.054129\n",
      "\t - MRR@10    epoch 10: 0.020563\n",
      "\n"
     ]
    },
    {
     "name": "stderr",
     "output_type": "stream",
     "text": [
      "\n"
     ]
    }
   ],
   "source": [
    "data = data[data[\"Rating\"] >= 3]\n",
    "\n",
    "tr, test = split_by_date(data, n_days=100)\n",
    "tr, val = split_by_date(tr, n_days=100)\n",
    "\n",
    "id2idx = {item_id : index for index, item_id in enumerate(tr['ItemId'].unique())}\n",
    "\n",
    "tr = indexing(tr, id2idx)\n",
    "val = indexing(val, id2idx)\n",
    "test = indexing(test, id2idx)\n",
    "\n",
    "tr_dataset = UserDataset(tr)\n",
    "\n",
    "tr_data_loader = SessionDataLoader(tr_dataset, batch_size=4)\n",
    "\n",
    "args = Args(tr, val, test, batch_size=64, hsz=100, drop_rate=0.1, lr=0.001, epochs=10, k=10)\n",
    "\n",
    "model_rating_upper_3 = create_model(args)\n",
    "\n",
    "history_upper_3 = train_model(model_rating_upper_3, args)"
   ]
  },
  {
   "cell_type": "markdown",
   "id": "usual-sphere",
   "metadata": {},
   "source": [
    "**결과 시각화하기**"
   ]
  },
  {
   "cell_type": "code",
   "execution_count": 32,
   "id": "resident-draft",
   "metadata": {},
   "outputs": [],
   "source": [
    "def draw_history(history, title):\n",
    "    fig, ax = plt.subplots(1, 2, figsize=(10, 3))\n",
    "    ax = ax.ravel()\n",
    "    plt.suptitle(title,fontsize=20)\n",
    "    for i, met in enumerate(['train_loss', 'train_acc']):\n",
    "        ax[i].plot(history[met])\n",
    "        ax[i].set_title(met)\n",
    "        ax[i].set_xlabel('epochs')\n",
    "    plt.show()\n",
    "    "
   ]
  },
  {
   "cell_type": "code",
   "execution_count": 33,
   "id": "retained-desire",
   "metadata": {},
   "outputs": [
    {
     "data": {
      "image/png": "[encoded data removed]",
      "text/plain": [
       "<Figure size 720x216 with 2 Axes>"
      ]
     },
     "metadata": {
      "needs_background": "light"
     },
     "output_type": "display_data"
    },
    {
     "data": {
      "image/png": "[encoded data removed]",
      "text/plain": [
       "<Figure size 720x216 with 2 Axes>"
      ]
     },
     "metadata": {
      "needs_background": "light"
     },
     "output_type": "display_data"
    },
    {
     "data": {
      "image/png": "[encoded data removed]",
      "text/plain": [
       "<Figure size 720x216 with 2 Axes>"
      ]
     },
     "metadata": {
      "needs_background": "light"
     },
     "output_type": "display_data"
    },
    {
     "data": {
      "image/png": "[encoded data removed]",
      "text/plain": [
       "<Figure size 720x216 with 2 Axes>"
      ]
     },
     "metadata": {
      "needs_background": "light"
     },
     "output_type": "display_data"
    },
    {
     "data": {
      "image/png": "[encoded data removed]",
      "text/plain": [
       "<Figure size 720x216 with 2 Axes>"
      ]
     },
     "metadata": {
      "needs_background": "light"
     },
     "output_type": "display_data"
    }
   ],
   "source": [
    "draw_history(history, \"기본 모델\")\n",
    "draw_history(history_128, \"hsz 128 모델\")\n",
    "draw_history(history_256, \"hsz 256 모델\")\n",
    "draw_history(history_64, \"hsz 64 모델\")\n",
    "draw_history(history_upper_3, \"별점 3 이상 모델\")"
   ]
  },
  {
   "cell_type": "markdown",
   "id": "sporting-rehabilitation",
   "metadata": {},
   "source": [
    "5가지 모델의 학습결과를 시각화했는데, Accuracy라는 평가지표가 어떠한 의미를 갖고있는지 잘 모르겠다. 그래서 안정적으로 학습 현황을 보여주는 Loss 만을 보게되면 기본모델에서 Loss가 가장 안정적으로 낮은값을 나타냄을 알 수 있다."
   ]
  }
 ],
 "metadata": {
  "kernelspec": {
   "display_name": "Python 3",
   "language": "python",
   "name": "python3"
  },
  "language_info": {
   "codemirror_mode": {
    "name": "ipython",
    "version": 3
   },
   "file_extension": ".py",
   "mimetype": "text/x-python",
   "name": "python",
   "nbconvert_exporter": "python",
   "pygments_lexer": "ipython3",
   "version": "3.7.9"
  }
 },
 "nbformat": 4,
 "nbformat_minor": 5
}

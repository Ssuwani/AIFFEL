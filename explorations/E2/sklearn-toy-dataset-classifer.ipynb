{
 "cells": [
  {
   "cell_type": "markdown",
   "id": "576abfe5-df0d-47b3-936d-0ca990a8a5c8",
   "metadata": {},
   "source": [
    "# Project 1 손글씨를 분류하기"
   ]
  },
  {
   "cell_type": "code",
   "execution_count": 106,
   "id": "012795fd-3933-4a27-a8e8-96e6b921b592",
   "metadata": {},
   "outputs": [],
   "source": [
    "from sklearn.datasets import load_digits\n",
    "from sklearn.model_selection import train_test_split\n",
    "from sklearn.metrics import classification_report, accuracy_score\n",
    "from sklearn.tree import DecisionTreeClassifier\n",
    "from sklearn.ensemble import RandomForestClassifier\n",
    "from sklearn import svm\n",
    "from sklearn.linear_model import SGDClassifier\n",
    "from sklearn.linear_model import LogisticRegression"
   ]
  },
  {
   "cell_type": "markdown",
   "id": "e27785af-59e8-4144-9084-57b423bc53c6",
   "metadata": {},
   "source": [
    "#### 손글씨 데이터 불러오기"
   ]
  },
  {
   "cell_type": "code",
   "execution_count": 107,
   "id": "2c4b1f8c-bfbf-4fa1-9984-d44d4924dbbc",
   "metadata": {},
   "outputs": [
    {
     "name": "stdout",
     "output_type": "stream",
     "text": [
      "X shape:  (1797, 64)\n",
      "y shape:  (1797,)\n"
     ]
    }
   ],
   "source": [
    "digits = load_digits()\n",
    "X = digits.data\n",
    "y = digits.target\n",
    "\n",
    "print(\"X shape: \", X.shape)\n",
    "print(\"y shape: \", y.shape)"
   ]
  },
  {
   "cell_type": "code",
   "execution_count": 108,
   "id": "622dd702-7f43-4867-81ff-7f9d9fa78ec7",
   "metadata": {},
   "outputs": [
    {
     "name": "stdout",
     "output_type": "stream",
     "text": [
      "target names : [0 1 2 3 4 5 6 7 8 9]\n",
      "\n",
      "\n"
     ]
    }
   ],
   "source": [
    "print(f\"target names : {digits.target_names}\\n\\n\")"
   ]
  },
  {
   "cell_type": "markdown",
   "id": "f6f9b54f-276a-46c5-9b63-aabb689435d7",
   "metadata": {},
   "source": [
    "**손글씨 데이터 Description**"
   ]
  },
  {
   "cell_type": "code",
   "execution_count": 109,
   "id": "ea0d70d9-f012-48e4-9c27-12657f32fee3",
   "metadata": {},
   "outputs": [
    {
     "name": "stdout",
     "output_type": "stream",
     "text": [
      ".. _digits_dataset:\n",
      "\n",
      "Optical recognition of handwritten digits dataset\n",
      "--------------------------------------------------\n",
      "\n",
      "**Data Set Characteristics:**\n",
      "\n",
      "    :Number of Instances: 1797\n",
      "    :Number of Attributes: 64\n",
      "    :Attribute Information: 8x8 image of integer pixels in the range 0..16.\n",
      "    :Missing Attribute Values: None\n",
      "    :Creator: E. Alpaydin (alpaydin '@' boun.edu.tr)\n",
      "    :Date: July; 1998\n",
      "\n",
      "This is a copy of the test set of the UCI ML hand-written digits datasets\n",
      "https://archive.ics.uci.edu/ml/datasets/Optical+Recognition+of+Handwritten+Digits\n",
      "\n",
      "The data set contains images of hand-written digits: 10 classes where\n",
      "each class refers to a digit.\n",
      "\n",
      "Preprocessing programs made available by NIST were used to extract\n",
      "normalized bitmaps of handwritten digits from a preprinted form. From a\n",
      "total of 43 people, 30 contributed to the training set and different 13\n",
      "to the test set. 32x32 bitmaps are divided into nonoverlapping blocks of\n",
      "4x4 and the number of on pixels are counted in each block. This generates\n",
      "an input matrix of 8x8 where each element is an integer in the range\n",
      "0..16. This reduces dimensionality and gives invariance to small\n",
      "distortions.\n",
      "\n",
      "For info on NIST preprocessing routines, see M. D. Garris, J. L. Blue, G.\n",
      "T. Candela, D. L. Dimmick, J. Geist, P. J. Grother, S. A. Janet, and C.\n",
      "L. Wilson, NIST Form-Based Handprint Recognition System, NISTIR 5469,\n",
      "1994.\n",
      "\n",
      ".. topic:: References\n",
      "\n",
      "  - C. Kaynak (1995) Methods of Combining Multiple Classifiers and Their\n",
      "    Applications to Handwritten Digit Recognition, MSc Thesis, Institute of\n",
      "    Graduate Studies in Science and Engineering, Bogazici University.\n",
      "  - E. Alpaydin, C. Kaynak (1998) Cascading Classifiers, Kybernetika.\n",
      "  - Ken Tang and Ponnuthurai N. Suganthan and Xi Yao and A. Kai Qin.\n",
      "    Linear dimensionalityreduction using relevance weighted LDA. School of\n",
      "    Electrical and Electronic Engineering Nanyang Technological University.\n",
      "    2005.\n",
      "  - Claudio Gentile. A New Approximate Maximal Margin Classification\n",
      "    Algorithm. NIPS. 2000.\n",
      "\n"
     ]
    }
   ],
   "source": [
    "print(digits.DESCR)"
   ]
  },
  {
   "cell_type": "markdown",
   "id": "45fb02b0-5c4f-4f37-a253-c4832ad0fbb9",
   "metadata": {},
   "source": [
    "#### Train set과 Test set 나누기"
   ]
  },
  {
   "cell_type": "code",
   "execution_count": 110,
   "id": "4f0d87ec-7a1d-4bc9-83f8-6d0e0484bbc6",
   "metadata": {},
   "outputs": [
    {
     "name": "stdout",
     "output_type": "stream",
     "text": [
      "train x : (1437, 64)\n",
      "train y : (1437,)\n",
      "test x : (360, 64)\n",
      "test y : (360,)\n"
     ]
    }
   ],
   "source": [
    "train_x, test_x, train_y, test_y = train_test_split(X, y, test_size=0.2)\n",
    "\n",
    "print(f\"train x : {train_x.shape}\")\n",
    "print(f\"train y : {train_y.shape}\")\n",
    "print(f\"test x : {test_x.shape}\")\n",
    "print(f\"test y : {test_y.shape}\")"
   ]
  },
  {
   "cell_type": "markdown",
   "id": "8a2410b1-2699-42f7-b1ce-3dc1d03f8678",
   "metadata": {},
   "source": [
    "#### 데이터 1개 보고 넘어가기"
   ]
  },
  {
   "cell_type": "code",
   "execution_count": 111,
   "id": "3adac83e-f04b-41cd-a2fb-f94617f0ed5f",
   "metadata": {},
   "outputs": [
    {
     "data": {
      "image/png": "[encoded data removed]",
      "text/plain": [
       "<Figure size 432x288 with 1 Axes>"
      ]
     },
     "metadata": {
      "needs_background": "light"
     },
     "output_type": "display_data"
    }
   ],
   "source": [
    "import matplotlib.pyplot as plt\n",
    "\n",
    "plt.imshow(test_x[0].reshape(8, 8), cmap='gray')\n",
    "plt.axis('off')\n",
    "plt.show()"
   ]
  },
  {
   "cell_type": "markdown",
   "id": "45b563b8-efb3-4f3b-949f-8bdb2a73cb7a",
   "metadata": {},
   "source": [
    "#### 여러 모델로 학습시키기"
   ]
  },
  {
   "cell_type": "code",
   "execution_count": 112,
   "id": "e47d9fcc-85fa-458a-9bac-4c9d70993065",
   "metadata": {},
   "outputs": [
    {
     "name": "stdout",
     "output_type": "stream",
     "text": [
      "DecisionTree\n",
      "              precision    recall  f1-score   support\n",
      "\n",
      "           0       0.97      0.93      0.95        30\n",
      "           1       0.82      0.92      0.87        36\n",
      "           2       0.90      0.85      0.88        33\n",
      "           3       0.77      0.80      0.79        46\n",
      "           4       0.76      0.84      0.80        31\n",
      "           5       0.97      0.83      0.90        36\n",
      "           6       0.86      0.92      0.89        39\n",
      "           7       0.88      0.79      0.83        38\n",
      "           8       0.74      0.72      0.73        36\n",
      "           9       0.81      0.83      0.82        35\n",
      "\n",
      "    accuracy                           0.84       360\n",
      "   macro avg       0.85      0.84      0.84       360\n",
      "weighted avg       0.85      0.84      0.84       360\n",
      "\n",
      "Acc:  0.8416666666666667\n",
      "------------------------------------------------------------\n",
      "RandomForest\n",
      "              precision    recall  f1-score   support\n",
      "\n",
      "           0       0.97      1.00      0.98        30\n",
      "           1       0.92      1.00      0.96        36\n",
      "           2       1.00      1.00      1.00        33\n",
      "           3       0.98      0.93      0.96        46\n",
      "           4       0.91      1.00      0.95        31\n",
      "           5       1.00      0.94      0.97        36\n",
      "           6       1.00      0.92      0.96        39\n",
      "           7       0.97      1.00      0.99        38\n",
      "           8       0.97      0.97      0.97        36\n",
      "           9       0.97      0.94      0.96        35\n",
      "\n",
      "    accuracy                           0.97       360\n",
      "   macro avg       0.97      0.97      0.97       360\n",
      "weighted avg       0.97      0.97      0.97       360\n",
      "\n",
      "Acc:  0.9694444444444444\n",
      "------------------------------------------------------------\n",
      "svm\n",
      "              precision    recall  f1-score   support\n",
      "\n",
      "           0       1.00      1.00      1.00        30\n",
      "           1       0.97      1.00      0.99        36\n",
      "           2       0.97      1.00      0.99        33\n",
      "           3       1.00      0.98      0.99        46\n",
      "           4       1.00      1.00      1.00        31\n",
      "           5       1.00      1.00      1.00        36\n",
      "           6       1.00      1.00      1.00        39\n",
      "           7       0.97      1.00      0.99        38\n",
      "           8       1.00      0.97      0.99        36\n",
      "           9       1.00      0.97      0.99        35\n",
      "\n",
      "    accuracy                           0.99       360\n",
      "   macro avg       0.99      0.99      0.99       360\n",
      "weighted avg       0.99      0.99      0.99       360\n",
      "\n",
      "Acc:  0.9916666666666667\n",
      "------------------------------------------------------------\n",
      "sgd\n",
      "              precision    recall  f1-score   support\n",
      "\n",
      "           0       1.00      1.00      1.00        30\n",
      "           1       0.84      1.00      0.91        36\n",
      "           2       0.97      1.00      0.99        33\n",
      "           3       0.95      0.89      0.92        46\n",
      "           4       0.79      1.00      0.89        31\n",
      "           5       1.00      0.97      0.99        36\n",
      "           6       1.00      0.95      0.97        39\n",
      "           7       0.94      0.89      0.92        38\n",
      "           8       0.88      0.81      0.84        36\n",
      "           9       1.00      0.86      0.92        35\n",
      "\n",
      "    accuracy                           0.93       360\n",
      "   macro avg       0.94      0.94      0.93       360\n",
      "weighted avg       0.94      0.93      0.93       360\n",
      "\n",
      "Acc:  0.9333333333333333\n",
      "------------------------------------------------------------\n",
      "LogisticRegression\n",
      "              precision    recall  f1-score   support\n",
      "\n",
      "           0       1.00      1.00      1.00        30\n",
      "           1       0.95      1.00      0.97        36\n",
      "           2       0.97      1.00      0.99        33\n",
      "           3       1.00      0.96      0.98        46\n",
      "           4       0.86      1.00      0.93        31\n",
      "           5       1.00      0.97      0.99        36\n",
      "           6       1.00      0.95      0.97        39\n",
      "           7       0.97      0.92      0.95        38\n",
      "           8       0.94      0.94      0.94        36\n",
      "           9       0.97      0.94      0.96        35\n",
      "\n",
      "    accuracy                           0.97       360\n",
      "   macro avg       0.97      0.97      0.97       360\n",
      "weighted avg       0.97      0.97      0.97       360\n",
      "\n",
      "Acc:  0.9666666666666667\n",
      "------------------------------------------------------------\n"
     ]
    },
    {
     "name": "stderr",
     "output_type": "stream",
     "text": [
      "/home/suwan/anaconda3/envs/tf/lib/python3.8/site-packages/sklearn/linear_model/_logistic.py:763: ConvergenceWarning: lbfgs failed to converge (status=1):\n",
      "STOP: TOTAL NO. of ITERATIONS REACHED LIMIT.\n",
      "\n",
      "Increase the number of iterations (max_iter) or scale the data as shown in:\n",
      "    https://scikit-learn.org/stable/modules/preprocessing.html\n",
      "Please also refer to the documentation for alternative solver options:\n",
      "    https://scikit-learn.org/stable/modules/linear_model.html#logistic-regression\n",
      "  n_iter_i = _check_optimize_result(\n"
     ]
    }
   ],
   "source": [
    "models = {\n",
    "    \"DecisionTree\": DecisionTreeClassifier(),\n",
    "    \"RandomForest\": RandomForestClassifier(),\n",
    "    \"svm\": svm.SVC(),\n",
    "    \"sgd\": SGDClassifier(),\n",
    "    \"LogisticRegression\": LogisticRegression()\n",
    "}\n",
    "\n",
    "for name, model in models.items():\n",
    "    model.fit(train_x, train_y)\n",
    "    pred_y = model.predict(test_x)\n",
    "    \n",
    "    print(name)\n",
    "    print(classification_report(test_y, pred_y))\n",
    "    print(\"Acc: \", accuracy_score(test_y, pred_y))\n",
    "    print(\"-\"*60)"
   ]
  },
  {
   "cell_type": "markdown",
   "id": "3e3a195d-faba-4438-b190-3f80683d6040",
   "metadata": {},
   "source": [
    "### 결론\n",
    "\n",
    "총 5개의 모델로 학습을 진행했다. Accuracy 뿐만 아니라 Precision, Recall에 대한 평가도 보았지만 손글씨 특성상 Precision과 Recall이 중요하다는 생각이 들지는 않는다. 둘 값을 고려한 F1 score와 Accuracy를 비교해봤을 때 높은 성능을 보이는 SVM이 손글씨 데이터에 가장 적합하다."
   ]
  },
  {
   "cell_type": "markdown",
   "id": "bb81e848-11a3-4d89-bd77-95b6031d5257",
   "metadata": {},
   "source": [
    "---\n",
    "\n",
    "# Project 2 와인을 분류해 봅시다"
   ]
  },
  {
   "cell_type": "code",
   "execution_count": 113,
   "id": "c5659373-310c-499c-b7d3-5580ebdff5fc",
   "metadata": {},
   "outputs": [],
   "source": [
    "from sklearn.datasets import load_wine\n",
    "from sklearn.model_selection import train_test_split\n",
    "from sklearn.metrics import classification_report, accuracy_score\n",
    "from sklearn.tree import DecisionTreeClassifier\n",
    "from sklearn.ensemble import RandomForestClassifier\n",
    "from sklearn import svm\n",
    "from sklearn.linear_model import SGDClassifier\n",
    "from sklearn.linear_model import LogisticRegression"
   ]
  },
  {
   "cell_type": "code",
   "execution_count": 114,
   "id": "98cf959a-515f-41d2-9b79-4f0f10ca64cf",
   "metadata": {},
   "outputs": [
    {
     "name": "stdout",
     "output_type": "stream",
     "text": [
      "X shape:  (178, 13)\n",
      "y shape:  (178,)\n"
     ]
    }
   ],
   "source": [
    "wine = load_wine()\n",
    "\n",
    "X = wine.data\n",
    "y = wine.target\n",
    "\n",
    "print(\"X shape: \", X.shape)\n",
    "print(\"y shape: \", y.shape)"
   ]
  },
  {
   "cell_type": "code",
   "execution_count": 115,
   "id": "09a111cf-67b0-405b-9008-c902f0c6b29c",
   "metadata": {},
   "outputs": [
    {
     "name": "stdout",
     "output_type": "stream",
     "text": [
      "target names : ['class_0' 'class_1' 'class_2']\n"
     ]
    }
   ],
   "source": [
    "print(f\"target names : {wine.target_names}\")"
   ]
  },
  {
   "cell_type": "markdown",
   "id": "d62f3546-9525-4e71-af83-965dbf298ac9",
   "metadata": {},
   "source": [
    "**wine 데이터 Description**"
   ]
  },
  {
   "cell_type": "code",
   "execution_count": 116,
   "id": "e0e42d27-1b73-4298-a174-4c3deefcdb0d",
   "metadata": {},
   "outputs": [
    {
     "name": "stdout",
     "output_type": "stream",
     "text": [
      ".. _wine_dataset:\n",
      "\n",
      "Wine recognition dataset\n",
      "------------------------\n",
      "\n",
      "**Data Set Characteristics:**\n",
      "\n",
      "    :Number of Instances: 178 (50 in each of three classes)\n",
      "    :Number of Attributes: 13 numeric, predictive attributes and the class\n",
      "    :Attribute Information:\n",
      " \t\t- Alcohol\n",
      " \t\t- Malic acid\n",
      " \t\t- Ash\n",
      "\t\t- Alcalinity of ash  \n",
      " \t\t- Magnesium\n",
      "\t\t- Total phenols\n",
      " \t\t- Flavanoids\n",
      " \t\t- Nonflavanoid phenols\n",
      " \t\t- Proanthocyanins\n",
      "\t\t- Color intensity\n",
      " \t\t- Hue\n",
      " \t\t- OD280/OD315 of diluted wines\n",
      " \t\t- Proline\n",
      "\n",
      "    - class:\n",
      "            - class_0\n",
      "            - class_1\n",
      "            - class_2\n",
      "\t\t\n",
      "    :Summary Statistics:\n",
      "    \n",
      "    ============================= ==== ===== ======= =====\n",
      "                                   Min   Max   Mean     SD\n",
      "    ============================= ==== ===== ======= =====\n",
      "    Alcohol:                      11.0  14.8    13.0   0.8\n",
      "    Malic Acid:                   0.74  5.80    2.34  1.12\n",
      "    Ash:                          1.36  3.23    2.36  0.27\n",
      "    Alcalinity of Ash:            10.6  30.0    19.5   3.3\n",
      "    Magnesium:                    70.0 162.0    99.7  14.3\n",
      "    Total Phenols:                0.98  3.88    2.29  0.63\n",
      "    Flavanoids:                   0.34  5.08    2.03  1.00\n",
      "    Nonflavanoid Phenols:         0.13  0.66    0.36  0.12\n",
      "    Proanthocyanins:              0.41  3.58    1.59  0.57\n",
      "    Colour Intensity:              1.3  13.0     5.1   2.3\n",
      "    Hue:                          0.48  1.71    0.96  0.23\n",
      "    OD280/OD315 of diluted wines: 1.27  4.00    2.61  0.71\n",
      "    Proline:                       278  1680     746   315\n",
      "    ============================= ==== ===== ======= =====\n",
      "\n",
      "    :Missing Attribute Values: None\n",
      "    :Class Distribution: class_0 (59), class_1 (71), class_2 (48)\n",
      "    :Creator: R.A. Fisher\n",
      "    :Donor: Michael Marshall (MARSHALL%PLU@io.arc.nasa.gov)\n",
      "    :Date: July, 1988\n",
      "\n",
      "This is a copy of UCI ML Wine recognition datasets.\n",
      "https://archive.ics.uci.edu/ml/machine-learning-databases/wine/wine.data\n",
      "\n",
      "The data is the results of a chemical analysis of wines grown in the same\n",
      "region in Italy by three different cultivators. There are thirteen different\n",
      "measurements taken for different constituents found in the three types of\n",
      "wine.\n",
      "\n",
      "Original Owners: \n",
      "\n",
      "Forina, M. et al, PARVUS - \n",
      "An Extendible Package for Data Exploration, Classification and Correlation. \n",
      "Institute of Pharmaceutical and Food Analysis and Technologies,\n",
      "Via Brigata Salerno, 16147 Genoa, Italy.\n",
      "\n",
      "Citation:\n",
      "\n",
      "Lichman, M. (2013). UCI Machine Learning Repository\n",
      "[https://archive.ics.uci.edu/ml]. Irvine, CA: University of California,\n",
      "School of Information and Computer Science. \n",
      "\n",
      ".. topic:: References\n",
      "\n",
      "  (1) S. Aeberhard, D. Coomans and O. de Vel, \n",
      "  Comparison of Classifiers in High Dimensional Settings, \n",
      "  Tech. Rep. no. 92-02, (1992), Dept. of Computer Science and Dept. of  \n",
      "  Mathematics and Statistics, James Cook University of North Queensland. \n",
      "  (Also submitted to Technometrics). \n",
      "\n",
      "  The data was used with many others for comparing various \n",
      "  classifiers. The classes are separable, though only RDA \n",
      "  has achieved 100% correct classification. \n",
      "  (RDA : 100%, QDA 99.4%, LDA 98.9%, 1NN 96.1% (z-transformed data)) \n",
      "  (All results using the leave-one-out technique) \n",
      "\n",
      "  (2) S. Aeberhard, D. Coomans and O. de Vel, \n",
      "  \"THE CLASSIFICATION PERFORMANCE OF RDA\" \n",
      "  Tech. Rep. no. 92-01, (1992), Dept. of Computer Science and Dept. of \n",
      "  Mathematics and Statistics, James Cook University of North Queensland. \n",
      "  (Also submitted to Journal of Chemometrics).\n",
      "\n"
     ]
    }
   ],
   "source": [
    "print(wine.DESCR)"
   ]
  },
  {
   "cell_type": "markdown",
   "id": "30fbc9b4-7e56-48d5-b41b-0e994df43885",
   "metadata": {},
   "source": [
    "#### Train set과 Test set 나누기"
   ]
  },
  {
   "cell_type": "code",
   "execution_count": 117,
   "id": "b216fcc5-1dad-468a-be1c-be8fe1490dab",
   "metadata": {},
   "outputs": [
    {
     "name": "stdout",
     "output_type": "stream",
     "text": [
      "train x : (142, 13)\n",
      "train y : (142,)\n",
      "test x : (36, 13)\n",
      "test y : (36,)\n"
     ]
    }
   ],
   "source": [
    "train_x, test_x, train_y, test_y = train_test_split(X, y, test_size=0.2)\n",
    "\n",
    "print(f\"train x : {train_x.shape}\")\n",
    "print(f\"train y : {train_y.shape}\")\n",
    "print(f\"test x : {test_x.shape}\")\n",
    "print(f\"test y : {test_y.shape}\")"
   ]
  },
  {
   "cell_type": "markdown",
   "id": "98497b9c-897e-46ac-a74b-c7b5e96c99ec",
   "metadata": {},
   "source": [
    "#### 여러 모델로 학습시키기"
   ]
  },
  {
   "cell_type": "code",
   "execution_count": 118,
   "id": "00bda082-1fd7-48c5-889b-569aa861146d",
   "metadata": {},
   "outputs": [
    {
     "name": "stdout",
     "output_type": "stream",
     "text": [
      "DecisionTree\n",
      "              precision    recall  f1-score   support\n",
      "\n",
      "           0       1.00      1.00      1.00        11\n",
      "           1       0.94      0.94      0.94        16\n",
      "           2       0.89      0.89      0.89         9\n",
      "\n",
      "    accuracy                           0.94        36\n",
      "   macro avg       0.94      0.94      0.94        36\n",
      "weighted avg       0.94      0.94      0.94        36\n",
      "\n",
      "ACC :  0.9444444444444444\n",
      "------------------------------------------------------------\n",
      "RandomForest\n",
      "              precision    recall  f1-score   support\n",
      "\n",
      "           0       0.92      1.00      0.96        11\n",
      "           1       1.00      0.94      0.97        16\n",
      "           2       1.00      1.00      1.00         9\n",
      "\n",
      "    accuracy                           0.97        36\n",
      "   macro avg       0.97      0.98      0.97        36\n",
      "weighted avg       0.97      0.97      0.97        36\n",
      "\n",
      "ACC :  0.9722222222222222\n",
      "------------------------------------------------------------\n",
      "svm\n",
      "              precision    recall  f1-score   support\n",
      "\n",
      "           0       0.92      1.00      0.96        11\n",
      "           1       0.68      0.94      0.79        16\n",
      "           2       1.00      0.22      0.36         9\n",
      "\n",
      "    accuracy                           0.78        36\n",
      "   macro avg       0.87      0.72      0.70        36\n",
      "weighted avg       0.83      0.78      0.73        36\n",
      "\n",
      "ACC :  0.7777777777777778\n",
      "------------------------------------------------------------\n",
      "sgd\n",
      "              precision    recall  f1-score   support\n",
      "\n",
      "           0       1.00      0.73      0.84        11\n",
      "           1       0.57      1.00      0.73        16\n",
      "           2       0.00      0.00      0.00         9\n",
      "\n",
      "    accuracy                           0.67        36\n",
      "   macro avg       0.52      0.58      0.52        36\n",
      "weighted avg       0.56      0.67      0.58        36\n",
      "\n",
      "ACC :  0.6666666666666666\n",
      "------------------------------------------------------------\n",
      "LogisticRegression\n",
      "              precision    recall  f1-score   support\n",
      "\n",
      "           0       1.00      1.00      1.00        11\n",
      "           1       1.00      1.00      1.00        16\n",
      "           2       1.00      1.00      1.00         9\n",
      "\n",
      "    accuracy                           1.00        36\n",
      "   macro avg       1.00      1.00      1.00        36\n",
      "weighted avg       1.00      1.00      1.00        36\n",
      "\n",
      "ACC :  1.0\n",
      "------------------------------------------------------------\n"
     ]
    },
    {
     "name": "stderr",
     "output_type": "stream",
     "text": [
      "/home/suwan/anaconda3/envs/tf/lib/python3.8/site-packages/sklearn/metrics/_classification.py:1248: UndefinedMetricWarning: Precision and F-score are ill-defined and being set to 0.0 in labels with no predicted samples. Use `zero_division` parameter to control this behavior.\n",
      "  _warn_prf(average, modifier, msg_start, len(result))\n",
      "/home/suwan/anaconda3/envs/tf/lib/python3.8/site-packages/sklearn/metrics/_classification.py:1248: UndefinedMetricWarning: Precision and F-score are ill-defined and being set to 0.0 in labels with no predicted samples. Use `zero_division` parameter to control this behavior.\n",
      "  _warn_prf(average, modifier, msg_start, len(result))\n",
      "/home/suwan/anaconda3/envs/tf/lib/python3.8/site-packages/sklearn/metrics/_classification.py:1248: UndefinedMetricWarning: Precision and F-score are ill-defined and being set to 0.0 in labels with no predicted samples. Use `zero_division` parameter to control this behavior.\n",
      "  _warn_prf(average, modifier, msg_start, len(result))\n",
      "/home/suwan/anaconda3/envs/tf/lib/python3.8/site-packages/sklearn/linear_model/_logistic.py:763: ConvergenceWarning: lbfgs failed to converge (status=1):\n",
      "STOP: TOTAL NO. of ITERATIONS REACHED LIMIT.\n",
      "\n",
      "Increase the number of iterations (max_iter) or scale the data as shown in:\n",
      "    https://scikit-learn.org/stable/modules/preprocessing.html\n",
      "Please also refer to the documentation for alternative solver options:\n",
      "    https://scikit-learn.org/stable/modules/linear_model.html#logistic-regression\n",
      "  n_iter_i = _check_optimize_result(\n"
     ]
    }
   ],
   "source": [
    "models = {\n",
    "    \"DecisionTree\": DecisionTreeClassifier(),\n",
    "    \"RandomForest\": RandomForestClassifier(),\n",
    "    \"svm\": svm.SVC(),\n",
    "    \"sgd\": SGDClassifier(),\n",
    "    \"LogisticRegression\": LogisticRegression()\n",
    "}\n",
    "\n",
    "for name, model in models.items():\n",
    "    model.fit(train_x, train_y)\n",
    "    pred_y = model.predict(test_x)\n",
    "    \n",
    "    print(name)\n",
    "    print(classification_report(test_y, pred_y))\n",
    "    print(\"ACC : \", accuracy_score(test_y, pred_y))\n",
    "    print(\"-\"*60)"
   ]
  },
  {
   "cell_type": "markdown",
   "id": "323f97db-ed7a-4d0e-9fc4-6d16c659e3ce",
   "metadata": {},
   "source": [
    "### 결론\n",
    "\n",
    "손글씨 데이터와 마찬가지로 총 5개의 모델로 학습을 진행했다. 마찬가지로 `classification_report`와 `accuracy_score`를 통해 평가를 했다. wine을 분류하는 이 프로젝트에서는 LogisticRegression이 가장 높은 성능을 보인다. 현재의 결과를 모든 score에서 만점을 받았다. "
   ]
  },
  {
   "cell_type": "markdown",
   "id": "477bc427-02e9-4172-b58a-a90527cf807e",
   "metadata": {},
   "source": [
    "---\n",
    "\n",
    "# Project 3 유방암 여부를 진단해 봅시다."
   ]
  },
  {
   "cell_type": "code",
   "execution_count": 119,
   "id": "b2842276-3d00-48e7-b291-c05aff4e5749",
   "metadata": {},
   "outputs": [],
   "source": [
    "from sklearn.datasets import load_breast_cancer\n",
    "from sklearn.model_selection import train_test_split\n",
    "from sklearn.metrics import classification_report, accuracy_score\n",
    "from sklearn.tree import DecisionTreeClassifier\n",
    "from sklearn.ensemble import RandomForestClassifier\n",
    "from sklearn import svm\n",
    "from sklearn.linear_model import SGDClassifier\n",
    "from sklearn.linear_model import LogisticRegression"
   ]
  },
  {
   "cell_type": "code",
   "execution_count": 122,
   "id": "800db511-b14f-4417-b6eb-38c52336cc34",
   "metadata": {},
   "outputs": [
    {
     "name": "stdout",
     "output_type": "stream",
     "text": [
      "X shape:  (569, 30)\n",
      "y shape:  (569,)\n"
     ]
    }
   ],
   "source": [
    "breast_cancer = load_breast_cancer()\n",
    "\n",
    "X = breast_cancer.data\n",
    "y = breast_cancer.target\n",
    "\n",
    "print(\"X shape: \", X.shape)\n",
    "print(\"y shape: \", y.shape)"
   ]
  },
  {
   "cell_type": "code",
   "execution_count": 123,
   "id": "17fc387a-68d5-4d05-9704-bc8f6d240106",
   "metadata": {},
   "outputs": [
    {
     "name": "stdout",
     "output_type": "stream",
     "text": [
      "target names : ['malignant' 'benign']\n"
     ]
    }
   ],
   "source": [
    "print(f\"target names : {breast_cancer.target_names}\")"
   ]
  },
  {
   "cell_type": "markdown",
   "id": "877dec3b-f421-4854-95fe-aa73fbae8cee",
   "metadata": {},
   "source": [
    "**유방암 데이터 Description**"
   ]
  },
  {
   "cell_type": "code",
   "execution_count": 124,
   "id": "0a4d9a79-4f99-4120-b466-e0e42074022a",
   "metadata": {},
   "outputs": [
    {
     "name": "stdout",
     "output_type": "stream",
     "text": [
      ".. _breast_cancer_dataset:\n",
      "\n",
      "Breast cancer wisconsin (diagnostic) dataset\n",
      "--------------------------------------------\n",
      "\n",
      "**Data Set Characteristics:**\n",
      "\n",
      "    :Number of Instances: 569\n",
      "\n",
      "    :Number of Attributes: 30 numeric, predictive attributes and the class\n",
      "\n",
      "    :Attribute Information:\n",
      "        - radius (mean of distances from center to points on the perimeter)\n",
      "        - texture (standard deviation of gray-scale values)\n",
      "        - perimeter\n",
      "        - area\n",
      "        - smoothness (local variation in radius lengths)\n",
      "        - compactness (perimeter^2 / area - 1.0)\n",
      "        - concavity (severity of concave portions of the contour)\n",
      "        - concave points (number of concave portions of the contour)\n",
      "        - symmetry\n",
      "        - fractal dimension (\"coastline approximation\" - 1)\n",
      "\n",
      "        The mean, standard error, and \"worst\" or largest (mean of the three\n",
      "        worst/largest values) of these features were computed for each image,\n",
      "        resulting in 30 features.  For instance, field 0 is Mean Radius, field\n",
      "        10 is Radius SE, field 20 is Worst Radius.\n",
      "\n",
      "        - class:\n",
      "                - WDBC-Malignant\n",
      "                - WDBC-Benign\n",
      "\n",
      "    :Summary Statistics:\n",
      "\n",
      "    ===================================== ====== ======\n",
      "                                           Min    Max\n",
      "    ===================================== ====== ======\n",
      "    radius (mean):                        6.981  28.11\n",
      "    texture (mean):                       9.71   39.28\n",
      "    perimeter (mean):                     43.79  188.5\n",
      "    area (mean):                          143.5  2501.0\n",
      "    smoothness (mean):                    0.053  0.163\n",
      "    compactness (mean):                   0.019  0.345\n",
      "    concavity (mean):                     0.0    0.427\n",
      "    concave points (mean):                0.0    0.201\n",
      "    symmetry (mean):                      0.106  0.304\n",
      "    fractal dimension (mean):             0.05   0.097\n",
      "    radius (standard error):              0.112  2.873\n",
      "    texture (standard error):             0.36   4.885\n",
      "    perimeter (standard error):           0.757  21.98\n",
      "    area (standard error):                6.802  542.2\n",
      "    smoothness (standard error):          0.002  0.031\n",
      "    compactness (standard error):         0.002  0.135\n",
      "    concavity (standard error):           0.0    0.396\n",
      "    concave points (standard error):      0.0    0.053\n",
      "    symmetry (standard error):            0.008  0.079\n",
      "    fractal dimension (standard error):   0.001  0.03\n",
      "    radius (worst):                       7.93   36.04\n",
      "    texture (worst):                      12.02  49.54\n",
      "    perimeter (worst):                    50.41  251.2\n",
      "    area (worst):                         185.2  4254.0\n",
      "    smoothness (worst):                   0.071  0.223\n",
      "    compactness (worst):                  0.027  1.058\n",
      "    concavity (worst):                    0.0    1.252\n",
      "    concave points (worst):               0.0    0.291\n",
      "    symmetry (worst):                     0.156  0.664\n",
      "    fractal dimension (worst):            0.055  0.208\n",
      "    ===================================== ====== ======\n",
      "\n",
      "    :Missing Attribute Values: None\n",
      "\n",
      "    :Class Distribution: 212 - Malignant, 357 - Benign\n",
      "\n",
      "    :Creator:  Dr. William H. Wolberg, W. Nick Street, Olvi L. Mangasarian\n",
      "\n",
      "    :Donor: Nick Street\n",
      "\n",
      "    :Date: November, 1995\n",
      "\n",
      "This is a copy of UCI ML Breast Cancer Wisconsin (Diagnostic) datasets.\n",
      "https://goo.gl/U2Uwz2\n",
      "\n",
      "Features are computed from a digitized image of a fine needle\n",
      "aspirate (FNA) of a breast mass.  They describe\n",
      "characteristics of the cell nuclei present in the image.\n",
      "\n",
      "Separating plane described above was obtained using\n",
      "Multisurface Method-Tree (MSM-T) [K. P. Bennett, \"Decision Tree\n",
      "Construction Via Linear Programming.\" Proceedings of the 4th\n",
      "Midwest Artificial Intelligence and Cognitive Science Society,\n",
      "pp. 97-101, 1992], a classification method which uses linear\n",
      "programming to construct a decision tree.  Relevant features\n",
      "were selected using an exhaustive search in the space of 1-4\n",
      "features and 1-3 separating planes.\n",
      "\n",
      "The actual linear program used to obtain the separating plane\n",
      "in the 3-dimensional space is that described in:\n",
      "[K. P. Bennett and O. L. Mangasarian: \"Robust Linear\n",
      "Programming Discrimination of Two Linearly Inseparable Sets\",\n",
      "Optimization Methods and Software 1, 1992, 23-34].\n",
      "\n",
      "This database is also available through the UW CS ftp server:\n",
      "\n",
      "ftp ftp.cs.wisc.edu\n",
      "cd math-prog/cpo-dataset/machine-learn/WDBC/\n",
      "\n",
      ".. topic:: References\n",
      "\n",
      "   - W.N. Street, W.H. Wolberg and O.L. Mangasarian. Nuclear feature extraction \n",
      "     for breast tumor diagnosis. IS&T/SPIE 1993 International Symposium on \n",
      "     Electronic Imaging: Science and Technology, volume 1905, pages 861-870,\n",
      "     San Jose, CA, 1993.\n",
      "   - O.L. Mangasarian, W.N. Street and W.H. Wolberg. Breast cancer diagnosis and \n",
      "     prognosis via linear programming. Operations Research, 43(4), pages 570-577, \n",
      "     July-August 1995.\n",
      "   - W.H. Wolberg, W.N. Street, and O.L. Mangasarian. Machine learning techniques\n",
      "     to diagnose breast cancer from fine-needle aspirates. Cancer Letters 77 (1994) \n",
      "     163-171.\n"
     ]
    }
   ],
   "source": [
    "print(breast_cancer.DESCR)"
   ]
  },
  {
   "cell_type": "markdown",
   "id": "6c948302-f6ba-477b-840e-13d2abb8a07e",
   "metadata": {},
   "source": [
    "#### Train set과 Test set 나누기"
   ]
  },
  {
   "cell_type": "code",
   "execution_count": 125,
   "id": "6fa60920-13d2-4e67-8b70-f78b1790801b",
   "metadata": {},
   "outputs": [
    {
     "name": "stdout",
     "output_type": "stream",
     "text": [
      "train x : (455, 30)\n",
      "train y : (455,)\n",
      "test x : (114, 30)\n",
      "test y : (114,)\n"
     ]
    }
   ],
   "source": [
    "train_x, test_x, train_y, test_y = train_test_split(X, y, test_size=0.2)\n",
    "\n",
    "print(f\"train x : {train_x.shape}\")\n",
    "print(f\"train y : {train_y.shape}\")\n",
    "print(f\"test x : {test_x.shape}\")\n",
    "print(f\"test y : {test_y.shape}\")"
   ]
  },
  {
   "cell_type": "markdown",
   "id": "4f1a12ff-42e4-4738-9fef-c1ccc1495207",
   "metadata": {},
   "source": [
    "#### 여러 모델로 학습시키기"
   ]
  },
  {
   "cell_type": "code",
   "execution_count": 126,
   "id": "803d1757-cb00-4479-98f7-c78af8d6ca52",
   "metadata": {},
   "outputs": [
    {
     "name": "stdout",
     "output_type": "stream",
     "text": [
      "DecisionTree\n",
      "              precision    recall  f1-score   support\n",
      "\n",
      "           0       0.93      0.95      0.94        44\n",
      "           1       0.97      0.96      0.96        70\n",
      "\n",
      "    accuracy                           0.96       114\n",
      "   macro avg       0.95      0.96      0.95       114\n",
      "weighted avg       0.96      0.96      0.96       114\n",
      "\n",
      "ACC :  0.956140350877193\n",
      "------------------------------------------------------------\n",
      "RandomForest\n",
      "              precision    recall  f1-score   support\n",
      "\n",
      "           0       0.98      0.98      0.98        44\n",
      "           1       0.99      0.99      0.99        70\n",
      "\n",
      "    accuracy                           0.98       114\n",
      "   macro avg       0.98      0.98      0.98       114\n",
      "weighted avg       0.98      0.98      0.98       114\n",
      "\n",
      "ACC :  0.9824561403508771\n",
      "------------------------------------------------------------\n",
      "svm\n",
      "              precision    recall  f1-score   support\n",
      "\n",
      "           0       1.00      0.84      0.91        44\n",
      "           1       0.91      1.00      0.95        70\n",
      "\n",
      "    accuracy                           0.94       114\n",
      "   macro avg       0.95      0.92      0.93       114\n",
      "weighted avg       0.94      0.94      0.94       114\n",
      "\n",
      "ACC :  0.9385964912280702\n",
      "------------------------------------------------------------\n",
      "sgd\n",
      "              precision    recall  f1-score   support\n",
      "\n",
      "           0       0.83      0.91      0.87        44\n",
      "           1       0.94      0.89      0.91        70\n",
      "\n",
      "    accuracy                           0.89       114\n",
      "   macro avg       0.89      0.90      0.89       114\n",
      "weighted avg       0.90      0.89      0.90       114\n",
      "\n",
      "ACC :  0.8947368421052632\n",
      "------------------------------------------------------------\n",
      "LogisticRegression\n",
      "              precision    recall  f1-score   support\n",
      "\n",
      "           0       0.95      0.91      0.93        44\n",
      "           1       0.94      0.97      0.96        70\n",
      "\n",
      "    accuracy                           0.95       114\n",
      "   macro avg       0.95      0.94      0.94       114\n",
      "weighted avg       0.95      0.95      0.95       114\n",
      "\n",
      "ACC :  0.9473684210526315\n",
      "------------------------------------------------------------\n"
     ]
    },
    {
     "name": "stderr",
     "output_type": "stream",
     "text": [
      "/home/suwan/anaconda3/envs/tf/lib/python3.8/site-packages/sklearn/linear_model/_logistic.py:763: ConvergenceWarning: lbfgs failed to converge (status=1):\n",
      "STOP: TOTAL NO. of ITERATIONS REACHED LIMIT.\n",
      "\n",
      "Increase the number of iterations (max_iter) or scale the data as shown in:\n",
      "    https://scikit-learn.org/stable/modules/preprocessing.html\n",
      "Please also refer to the documentation for alternative solver options:\n",
      "    https://scikit-learn.org/stable/modules/linear_model.html#logistic-regression\n",
      "  n_iter_i = _check_optimize_result(\n"
     ]
    }
   ],
   "source": [
    "models = {\n",
    "    \"DecisionTree\": DecisionTreeClassifier(),\n",
    "    \"RandomForest\": RandomForestClassifier(),\n",
    "    \"svm\": svm.SVC(),\n",
    "    \"sgd\": SGDClassifier(),\n",
    "    \"LogisticRegression\": LogisticRegression()\n",
    "}\n",
    "\n",
    "for name, model in models.items():\n",
    "    model.fit(train_x, train_y)\n",
    "    pred_y = model.predict(test_x)\n",
    "    \n",
    "    print(name)\n",
    "    print(classification_report(test_y, pred_y))\n",
    "    print(\"ACC : \", accuracy_score(test_y, pred_y))\n",
    "    print(\"-\"*60)"
   ]
  },
  {
   "cell_type": "markdown",
   "id": "9c37bee8-06a4-4621-8d35-64da1fa904ba",
   "metadata": {},
   "source": [
    "### 결론\n",
    "\n",
    "이번에도 분류문제다보니 마찬가지로 총 5개의 모델로 학습을 진행했다.`classification_report`와 `accuracy_score`를 통해 평가를 했다. 유방암 여부를 분류하는 이 프로젝트에서는 RandomForest가 가장 높은 성능을 보인다. Accuracy Score에서 제일 좋은 평가를 받았으며 precision 및 recall이 안정적이다."
   ]
  },
  {
   "cell_type": "code",
   "execution_count": null,
   "id": "678f4f59-a12e-4583-8ae4-9826b0a09195",
   "metadata": {},
   "outputs": [],
   "source": []
  }
 ],
 "metadata": {
  "kernelspec": {
   "display_name": "Python 3",
   "language": "python",
   "name": "python3"
  },
  "language_info": {
   "codemirror_mode": {
    "name": "ipython",
    "version": 3
   },
   "file_extension": ".py",
   "mimetype": "text/x-python",
   "name": "python",
   "nbconvert_exporter": "python",
   "pygments_lexer": "ipython3",
   "version": "3.8.10"
  }
 },
 "nbformat": 4,
 "nbformat_minor": 5
}

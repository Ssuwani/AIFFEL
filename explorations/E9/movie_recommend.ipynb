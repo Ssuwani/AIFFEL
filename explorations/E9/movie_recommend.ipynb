{
 "cells": [
  {
   "cell_type": "markdown",
   "id": "5e9e5e63-425a-47fa-8ac4-910728ee2841",
   "metadata": {},
   "source": [
    "# 영화 추천 시스템\n",
    "\n",
    "추천시스템의 MNIST라고 불리는 Movielens 데이터를 사용해서 영화추천을 구현한다."
   ]
  },
  {
   "cell_type": "markdown",
   "id": "ea6a8b1f-8222-473a-8af3-b08531bb4d7d",
   "metadata": {},
   "source": [
    "**필요 라이브러리 불러오기**"
   ]
  },
  {
   "cell_type": "code",
   "execution_count": 1,
   "id": "9da791e5-5836-4ced-b6cf-76b481ae4a02",
   "metadata": {},
   "outputs": [],
   "source": [
    "import os\n",
    "import pandas as pd\n",
    "import matplotlib.pyplot as plt\n",
    "import seaborn as sns\n",
    "import numpy as np\n",
    "\n",
    "import warnings\n",
    "warnings.filterwarnings('ignore')"
   ]
  },
  {
   "cell_type": "markdown",
   "id": "89d581c4-1c2c-4e78-a200-1ed1e353ca57",
   "metadata": {},
   "source": [
    "**데이터 읽기**"
   ]
  },
  {
   "cell_type": "code",
   "execution_count": 2,
   "id": "2221fe42-7bb7-48b2-a862-67866be40062",
   "metadata": {},
   "outputs": [],
   "source": [
    "base_path='data/movie/'\n",
    "\n",
    "ratings_cols = ['user_id', 'movie_id', 'rating', 'timestamp']\n",
    "ratings = pd.read_csv(base_path + 'ratings.dat', sep='::', names=ratings_cols, engine='python', encoding = \"ISO-8859-1\")\n",
    "\n",
    "movies_cols = ['movie_id', 'title', 'genre'] \n",
    "movies = pd.read_csv(base_path + 'movies.dat', sep='::', names=movies_cols, engine='python', encoding='ISO-8859-1')"
   ]
  },
  {
   "cell_type": "code",
   "execution_count": 3,
   "id": "145256b7-00ac-45bf-b3c4-bd8aea02f8f1",
   "metadata": {},
   "outputs": [
    {
     "data": {
      "text/html": [
       "<div>\n",
       "<style scoped>\n",
       "    .dataframe tbody tr th:only-of-type {\n",
       "        vertical-align: middle;\n",
       "    }\n",
       "\n",
       "    .dataframe tbody tr th {\n",
       "        vertical-align: top;\n",
       "    }\n",
       "\n",
       "    .dataframe thead th {\n",
       "        text-align: right;\n",
       "    }\n",
       "</style>\n",
       "<table border=\"1\" class=\"dataframe\">\n",
       "  <thead>\n",
       "    <tr style=\"text-align: right;\">\n",
       "      <th></th>\n",
       "      <th>user_id</th>\n",
       "      <th>movie_id</th>\n",
       "      <th>rating</th>\n",
       "      <th>timestamp</th>\n",
       "    </tr>\n",
       "  </thead>\n",
       "  <tbody>\n",
       "    <tr>\n",
       "      <th>0</th>\n",
       "      <td>1</td>\n",
       "      <td>1193</td>\n",
       "      <td>5</td>\n",
       "      <td>978300760</td>\n",
       "    </tr>\n",
       "    <tr>\n",
       "      <th>1</th>\n",
       "      <td>1</td>\n",
       "      <td>661</td>\n",
       "      <td>3</td>\n",
       "      <td>978302109</td>\n",
       "    </tr>\n",
       "    <tr>\n",
       "      <th>2</th>\n",
       "      <td>1</td>\n",
       "      <td>914</td>\n",
       "      <td>3</td>\n",
       "      <td>978301968</td>\n",
       "    </tr>\n",
       "    <tr>\n",
       "      <th>3</th>\n",
       "      <td>1</td>\n",
       "      <td>3408</td>\n",
       "      <td>4</td>\n",
       "      <td>978300275</td>\n",
       "    </tr>\n",
       "    <tr>\n",
       "      <th>4</th>\n",
       "      <td>1</td>\n",
       "      <td>2355</td>\n",
       "      <td>5</td>\n",
       "      <td>978824291</td>\n",
       "    </tr>\n",
       "    <tr>\n",
       "      <th>...</th>\n",
       "      <td>...</td>\n",
       "      <td>...</td>\n",
       "      <td>...</td>\n",
       "      <td>...</td>\n",
       "    </tr>\n",
       "    <tr>\n",
       "      <th>1000204</th>\n",
       "      <td>6040</td>\n",
       "      <td>1091</td>\n",
       "      <td>1</td>\n",
       "      <td>956716541</td>\n",
       "    </tr>\n",
       "    <tr>\n",
       "      <th>1000205</th>\n",
       "      <td>6040</td>\n",
       "      <td>1094</td>\n",
       "      <td>5</td>\n",
       "      <td>956704887</td>\n",
       "    </tr>\n",
       "    <tr>\n",
       "      <th>1000206</th>\n",
       "      <td>6040</td>\n",
       "      <td>562</td>\n",
       "      <td>5</td>\n",
       "      <td>956704746</td>\n",
       "    </tr>\n",
       "    <tr>\n",
       "      <th>1000207</th>\n",
       "      <td>6040</td>\n",
       "      <td>1096</td>\n",
       "      <td>4</td>\n",
       "      <td>956715648</td>\n",
       "    </tr>\n",
       "    <tr>\n",
       "      <th>1000208</th>\n",
       "      <td>6040</td>\n",
       "      <td>1097</td>\n",
       "      <td>4</td>\n",
       "      <td>956715569</td>\n",
       "    </tr>\n",
       "  </tbody>\n",
       "</table>\n",
       "<p>1000209 rows × 4 columns</p>\n",
       "</div>"
      ],
      "text/plain": [
       "         user_id  movie_id  rating  timestamp\n",
       "0              1      1193       5  978300760\n",
       "1              1       661       3  978302109\n",
       "2              1       914       3  978301968\n",
       "3              1      3408       4  978300275\n",
       "4              1      2355       5  978824291\n",
       "...          ...       ...     ...        ...\n",
       "1000204     6040      1091       1  956716541\n",
       "1000205     6040      1094       5  956704887\n",
       "1000206     6040       562       5  956704746\n",
       "1000207     6040      1096       4  956715648\n",
       "1000208     6040      1097       4  956715569\n",
       "\n",
       "[1000209 rows x 4 columns]"
      ]
     },
     "execution_count": 3,
     "metadata": {},
     "output_type": "execute_result"
    }
   ],
   "source": [
    "ratings"
   ]
  },
  {
   "cell_type": "markdown",
   "id": "b01e5fe4-8ee6-4060-80b1-21df0f1ee738",
   "metadata": {},
   "source": [
    "<br/><br/>\n",
    "\n",
    "### **Movies 데이터 탐색**\n",
    "\n",
    "**movies 파일은 id 값과 해당되는 영화제목(title)을 알려주고 어떠한 장르(genre)인지 알려준다**\n",
    "\n",
    "장르는 영화에서 엄청 중요한 정보이다. 하지만 위의 `timestamp`와 같은 이유로 반영하지 않는다.<br/>\n",
    "영화 제목을 모두 소문자로 바꾸고 `idx_to_title`을 추출하자."
   ]
  },
  {
   "cell_type": "code",
   "execution_count": 4,
   "id": "8e91bcaa-1553-4723-b8be-fd8695d47cae",
   "metadata": {},
   "outputs": [],
   "source": [
    "movies['title'] = movies['title'].str.lower()\n",
    "\n",
    "idx_to_title = pd.Series(movies['title'].values, index=movies['movie_id']).to_dict()\n",
    "title_to_idx = {v: i for i, v in idx_to_title.items()}"
   ]
  },
  {
   "cell_type": "markdown",
   "id": "b4603ad0-39ef-4aa7-8e97-ad6dfbe991b8",
   "metadata": {},
   "source": [
    "Movies 데이터에서 사용하는 데이터는 `idx_to_title`이다. 하지만 이 데이터가 ratings의 영화들을 모두 커버할 수 있는지는 확인이 필요하다."
   ]
  },
  {
   "cell_type": "code",
   "execution_count": 5,
   "id": "a75ae71b-93f8-445b-923a-db0d52fd0864",
   "metadata": {},
   "outputs": [],
   "source": [
    "# 한개라도 커버할 수 없는 영화가 있다면 에러 발생\n",
    "assert False == any([i not in idx_to_title.keys() for i in ratings['movie_id'].unique()]), \"포함되지 않는 제목이 있다.\""
   ]
  },
  {
   "cell_type": "markdown",
   "id": "144d324b-46df-479b-b32c-d3e134279037",
   "metadata": {},
   "source": [
    "<br/><br/>\n",
    "\n",
    "### **Ratings 데이터 탐색**\n",
    "\n",
    "**ratings 파일은 유저(user_id)가 영화(movie_id)에 대한 평점(rating)을 언제(timestamp) 매겼는지에 대한 정보를 보여준다.**"
   ]
  },
  {
   "cell_type": "markdown",
   "id": "d352c012-08d9-407b-87ab-09d756eeb30f",
   "metadata": {},
   "source": [
    "**timestamp 컬럼 제거**\n",
    "\n",
    "`timestamp`는 사용자가 평점을 메긴 시간에 대한 데이터로 데이터 분석에 꽤 중요할 수 있지만 우리의 모델에서 일단 활용하지 않는다. 제거하자."
   ]
  },
  {
   "cell_type": "code",
   "execution_count": 6,
   "id": "6295de6f-11c8-49da-b7dc-6db66cc33630",
   "metadata": {},
   "outputs": [
    {
     "data": {
      "text/html": [
       "<div>\n",
       "<style scoped>\n",
       "    .dataframe tbody tr th:only-of-type {\n",
       "        vertical-align: middle;\n",
       "    }\n",
       "\n",
       "    .dataframe tbody tr th {\n",
       "        vertical-align: top;\n",
       "    }\n",
       "\n",
       "    .dataframe thead th {\n",
       "        text-align: right;\n",
       "    }\n",
       "</style>\n",
       "<table border=\"1\" class=\"dataframe\">\n",
       "  <thead>\n",
       "    <tr style=\"text-align: right;\">\n",
       "      <th></th>\n",
       "      <th>user_id</th>\n",
       "      <th>movie_id</th>\n",
       "      <th>rating</th>\n",
       "    </tr>\n",
       "  </thead>\n",
       "  <tbody>\n",
       "    <tr>\n",
       "      <th>0</th>\n",
       "      <td>1</td>\n",
       "      <td>1193</td>\n",
       "      <td>5</td>\n",
       "    </tr>\n",
       "    <tr>\n",
       "      <th>1</th>\n",
       "      <td>1</td>\n",
       "      <td>661</td>\n",
       "      <td>3</td>\n",
       "    </tr>\n",
       "    <tr>\n",
       "      <th>2</th>\n",
       "      <td>1</td>\n",
       "      <td>914</td>\n",
       "      <td>3</td>\n",
       "    </tr>\n",
       "    <tr>\n",
       "      <th>3</th>\n",
       "      <td>1</td>\n",
       "      <td>3408</td>\n",
       "      <td>4</td>\n",
       "    </tr>\n",
       "    <tr>\n",
       "      <th>4</th>\n",
       "      <td>1</td>\n",
       "      <td>2355</td>\n",
       "      <td>5</td>\n",
       "    </tr>\n",
       "  </tbody>\n",
       "</table>\n",
       "</div>"
      ],
      "text/plain": [
       "   user_id  movie_id  rating\n",
       "0        1      1193       5\n",
       "1        1       661       3\n",
       "2        1       914       3\n",
       "3        1      3408       4\n",
       "4        1      2355       5"
      ]
     },
     "execution_count": 6,
     "metadata": {},
     "output_type": "execute_result"
    }
   ],
   "source": [
    "ratings.drop('timestamp', axis=1, inplace=True)\n",
    "ratings.head()"
   ]
  },
  {
   "cell_type": "markdown",
   "id": "0957c816-8626-4017-970c-651ef02d35be",
   "metadata": {},
   "source": [
    "**Ratings** 분포 확인하기"
   ]
  },
  {
   "cell_type": "code",
   "execution_count": 7,
   "id": "2599848f-144c-4f5a-a031-66adc9efa516",
   "metadata": {},
   "outputs": [
    {
     "data": {
      "image/png": "[encoded data removed]",
      "text/plain": [
       "<Figure size 432x288 with 1 Axes>"
      ]
     },
     "metadata": {
      "needs_background": "light"
     },
     "output_type": "display_data"
    }
   ],
   "source": [
    "ratings_cnt = ratings.groupby('rating').count()\n",
    "_ = sns.barplot(x=ratings_cnt.index, y=\"user_id\", data=ratings_cnt)"
   ]
  },
  {
   "cell_type": "markdown",
   "id": "f18f25d6-1168-4f14-b9b0-6fad8981b0ec",
   "metadata": {},
   "source": [
    "**3점이 넘는 데이터더만 추출하기**\n",
    "\n",
    "평점은 좋고 나쁨을 표현할 수 있는 데이터지만 우리는 저금 더 단순하게 문제를 해결하기 위해 `좋다`라는 키워드를 통해 사용자의 선호 영화를 분석하고 그에 따라 추천 시스템을 구현하고자 한다.(4 이상의 점수만 남긴다면 어떻게 추천이 될지도 생각해보자)"
   ]
  },
  {
   "cell_type": "code",
   "execution_count": 8,
   "id": "8a866aa2-592a-4902-b0c9-10df0f4771dd",
   "metadata": {},
   "outputs": [
    {
     "name": "stdout",
     "output_type": "stream",
     "text": [
      "orginal_data_size: 1000209, filtered_data_size: 836478\n",
      "Ratio of Remaining Data is 83.63%\n"
     ]
    }
   ],
   "source": [
    "origin_data_size = ratings.shape[0]\n",
    "\n",
    "ratings = ratings[ratings['rating']>=3]\n",
    "filtered_data_size = ratings.shape[0]\n",
    "\n",
    "print(f'orginal_data_size: {origin_data_size}, filtered_data_size: {filtered_data_size}')\n",
    "print(f'Ratio of Remaining Data is {filtered_data_size / origin_data_size:.2%}')"
   ]
  },
  {
   "cell_type": "markdown",
   "id": "c1624ceb-6046-4850-be1c-8dc65aa98e6b",
   "metadata": {},
   "source": [
    "<br/>**전체 유저 수**"
   ]
  },
  {
   "cell_type": "code",
   "execution_count": 9,
   "id": "a3d826aa-0dee-4511-a959-666e37340341",
   "metadata": {},
   "outputs": [
    {
     "data": {
      "text/plain": [
       "'전체 유저 수 : 6039'"
      ]
     },
     "execution_count": 9,
     "metadata": {},
     "output_type": "execute_result"
    }
   ],
   "source": [
    "f\"전체 유저 수 : {ratings['user_id'].nunique()}\""
   ]
  },
  {
   "cell_type": "markdown",
   "id": "1f299ea6-0d69-4af5-a17d-8ee5a0835e8e",
   "metadata": {},
   "source": [
    "<br/>**전체 영화 수**"
   ]
  },
  {
   "cell_type": "code",
   "execution_count": 10,
   "id": "3ecabe2f-6d5d-40de-ab8b-e9d8e7b38e22",
   "metadata": {},
   "outputs": [
    {
     "data": {
      "text/plain": [
       "'전체 영화 수 : 3628'"
      ]
     },
     "execution_count": 10,
     "metadata": {},
     "output_type": "execute_result"
    }
   ],
   "source": [
    "f\"전체 영화 수 : {ratings['movie_id'].nunique()}\".strip()"
   ]
  },
  {
   "cell_type": "markdown",
   "id": "0808d626-0fc9-4ce8-88c2-2150ec7fb786",
   "metadata": {},
   "source": [
    "<br/>**유저별 몇개의 영화를 좋아하는지 확인**\n",
    "\n",
    "\"좋아하는지\" 라고 적은 이유는 3점 이상의 리뷰만을 추출한 데이터로 분석을 하기 때문이다."
   ]
  },
  {
   "cell_type": "code",
   "execution_count": 11,
   "id": "ade33484-cd66-414e-93b7-ebb6c1fcdd01",
   "metadata": {},
   "outputs": [
    {
     "name": "stdout",
     "output_type": "stream",
     "text": [
      "유저 별 좋아하는 영화 수 : \n",
      "count    6039.000000\n",
      "mean      138.512668\n",
      "std       156.241599\n",
      "min         1.000000\n",
      "25%        38.000000\n",
      "50%        81.000000\n",
      "75%       177.000000\n",
      "max      1968.000000\n",
      "Name: movie_id, dtype: float64\n"
     ]
    },
    {
     "data": {
      "image/png": "[encoded data removed]",
      "text/plain": [
       "<Figure size 432x288 with 1 Axes>"
      ]
     },
     "metadata": {
      "needs_background": "light"
     },
     "output_type": "display_data"
    }
   ],
   "source": [
    "user_count = ratings.groupby('user_id')['movie_id'].count()\n",
    "print(\"유저 별 좋아하는 영화 수 : \\n{}\".format(user_count.describe()))\n",
    "_ = sns.distplot(user_count)"
   ]
  },
  {
   "cell_type": "markdown",
   "id": "10bc11ae-7e0f-42ed-a29e-56d023c94c29",
   "metadata": {},
   "source": [
    "<br/>**유저별 평점 평균 확인**\n",
    "\n",
    "평점은 굉장히 주관적인 데이터다보니 사람의 성향에 따라 평균값이 크게 다를 듯하다.<br/>\n",
    "하지만 우리는 3점 이상의 점수만을 추출했다는 점을 유의해야한다."
   ]
  },
  {
   "cell_type": "code",
   "execution_count": 12,
   "id": "f5017344-53b8-4ea4-9f4d-c3c49dc3994d",
   "metadata": {},
   "outputs": [
    {
     "name": "stdout",
     "output_type": "stream",
     "text": [
      "유저 별 평점 평균 : \n",
      "count    6039.000000\n",
      "mean        4.025078\n",
      "std         0.275632\n",
      "min         3.000000\n",
      "25%         3.833333\n",
      "50%         4.023622\n",
      "75%         4.212225\n",
      "max         5.000000\n",
      "Name: rating, dtype: float64\n"
     ]
    },
    {
     "data": {
      "image/png": "[encoded data removed]",
      "text/plain": [
       "<Figure size 432x288 with 1 Axes>"
      ]
     },
     "metadata": {
      "needs_background": "light"
     },
     "output_type": "display_data"
    }
   ],
   "source": [
    "user_rating_mean = ratings.groupby('user_id')['rating'].mean()\n",
    "print(\"유저 별 평점 평균 : \\n{}\".format(user_rating_mean.describe()))\n",
    "_ = sns.distplot(user_rating_mean)"
   ]
  },
  {
   "cell_type": "markdown",
   "id": "73d5beba-d8b7-48f5-bc2b-ca4373111b20",
   "metadata": {},
   "source": [
    "<br/>**가장 인기있는 영화 순위**\n",
    "\n",
    "순위는 각 영화의 평점을 다 더하면 손쉽게 구할 수 있다."
   ]
  },
  {
   "cell_type": "code",
   "execution_count": 13,
   "id": "586d3ba5-f7c5-44d0-b4b0-5d868acf10f6",
   "metadata": {},
   "outputs": [
    {
     "data": {
      "image/png": "[encoded data removed]",
      "text/plain": [
       "<Figure size 720x432 with 1 Axes>"
      ]
     },
     "metadata": {
      "needs_background": "light"
     },
     "output_type": "display_data"
    }
   ],
   "source": [
    "plt.figure(figsize=(10, 6))\n",
    "ranking = pd.DataFrame(ratings.groupby('movie_id')['rating'].sum().sort_values(ascending=False)[:30])\n",
    "ranking['title'] = ranking.index.map(idx_to_title)\n",
    "_ = sns.barplot(y='title',x='rating', data=ranking)"
   ]
  },
  {
   "cell_type": "markdown",
   "id": "6da24c54-b139-4471-9d74-f23693a36331",
   "metadata": {},
   "source": [
    "<br/>**나의 데이터 추가하기**\n",
    "\n",
    "내가 좋아하는 영화의 평점을 5개 매겨보자."
   ]
  },
  {
   "cell_type": "code",
   "execution_count": 14,
   "id": "f52f9209-0afd-436f-827a-b72bb185efea",
   "metadata": {},
   "outputs": [
    {
     "data": {
      "text/plain": [
       "{1721: 5, 1: 3, 25: 5, 215: 4, 49: 4}"
      ]
     },
     "execution_count": 14,
     "metadata": {},
     "output_type": "execute_result"
    }
   ],
   "source": [
    "my_favorite = {\n",
    "    \"titanic (1997)\": 5,\n",
    "    \"toy story (1995)\": 3,\n",
    "    \"leaving las vegas (1995)\": 5,\n",
    "    \"before sunrise (1995)\": 4,\n",
    "    \"when night is falling (1995)\": 4\n",
    "}\n",
    "\n",
    "my_favorite_index = {title_to_idx[title]: rating for title, rating in my_favorite.items()}\n",
    "my_favorite_index"
   ]
  },
  {
   "cell_type": "code",
   "execution_count": 15,
   "id": "ad2a9895-6a00-4480-82af-be3fc1cd275f",
   "metadata": {},
   "outputs": [
    {
     "data": {
      "text/html": [
       "<div>\n",
       "<style scoped>\n",
       "    .dataframe tbody tr th:only-of-type {\n",
       "        vertical-align: middle;\n",
       "    }\n",
       "\n",
       "    .dataframe tbody tr th {\n",
       "        vertical-align: top;\n",
       "    }\n",
       "\n",
       "    .dataframe thead th {\n",
       "        text-align: right;\n",
       "    }\n",
       "</style>\n",
       "<table border=\"1\" class=\"dataframe\">\n",
       "  <thead>\n",
       "    <tr style=\"text-align: right;\">\n",
       "      <th></th>\n",
       "      <th>index</th>\n",
       "      <th>user_id</th>\n",
       "      <th>movie_id</th>\n",
       "      <th>rating</th>\n",
       "    </tr>\n",
       "  </thead>\n",
       "  <tbody>\n",
       "    <tr>\n",
       "      <th>0</th>\n",
       "      <td>0</td>\n",
       "      <td>1</td>\n",
       "      <td>1193</td>\n",
       "      <td>5</td>\n",
       "    </tr>\n",
       "    <tr>\n",
       "      <th>1</th>\n",
       "      <td>1</td>\n",
       "      <td>1</td>\n",
       "      <td>661</td>\n",
       "      <td>3</td>\n",
       "    </tr>\n",
       "    <tr>\n",
       "      <th>2</th>\n",
       "      <td>2</td>\n",
       "      <td>1</td>\n",
       "      <td>914</td>\n",
       "      <td>3</td>\n",
       "    </tr>\n",
       "    <tr>\n",
       "      <th>3</th>\n",
       "      <td>3</td>\n",
       "      <td>1</td>\n",
       "      <td>3408</td>\n",
       "      <td>4</td>\n",
       "    </tr>\n",
       "    <tr>\n",
       "      <th>4</th>\n",
       "      <td>4</td>\n",
       "      <td>1</td>\n",
       "      <td>2355</td>\n",
       "      <td>5</td>\n",
       "    </tr>\n",
       "    <tr>\n",
       "      <th>...</th>\n",
       "      <td>...</td>\n",
       "      <td>...</td>\n",
       "      <td>...</td>\n",
       "      <td>...</td>\n",
       "    </tr>\n",
       "    <tr>\n",
       "      <th>836478</th>\n",
       "      <td>0</td>\n",
       "      <td>6041</td>\n",
       "      <td>1721</td>\n",
       "      <td>5</td>\n",
       "    </tr>\n",
       "    <tr>\n",
       "      <th>836479</th>\n",
       "      <td>1</td>\n",
       "      <td>6041</td>\n",
       "      <td>1</td>\n",
       "      <td>3</td>\n",
       "    </tr>\n",
       "    <tr>\n",
       "      <th>836480</th>\n",
       "      <td>2</td>\n",
       "      <td>6041</td>\n",
       "      <td>25</td>\n",
       "      <td>5</td>\n",
       "    </tr>\n",
       "    <tr>\n",
       "      <th>836481</th>\n",
       "      <td>3</td>\n",
       "      <td>6041</td>\n",
       "      <td>215</td>\n",
       "      <td>4</td>\n",
       "    </tr>\n",
       "    <tr>\n",
       "      <th>836482</th>\n",
       "      <td>4</td>\n",
       "      <td>6041</td>\n",
       "      <td>49</td>\n",
       "      <td>4</td>\n",
       "    </tr>\n",
       "  </tbody>\n",
       "</table>\n",
       "<p>836483 rows × 4 columns</p>\n",
       "</div>"
      ],
      "text/plain": [
       "        index  user_id  movie_id  rating\n",
       "0           0        1      1193       5\n",
       "1           1        1       661       3\n",
       "2           2        1       914       3\n",
       "3           3        1      3408       4\n",
       "4           4        1      2355       5\n",
       "...       ...      ...       ...     ...\n",
       "836478      0     6041      1721       5\n",
       "836479      1     6041         1       3\n",
       "836480      2     6041        25       5\n",
       "836481      3     6041       215       4\n",
       "836482      4     6041        49       4\n",
       "\n",
       "[836483 rows x 4 columns]"
      ]
     },
     "execution_count": 15,
     "metadata": {},
     "output_type": "execute_result"
    }
   ],
   "source": [
    "user_id = ratings['user_id'].max() + 1\n",
    "cnt = len(my_favorite_index)\n",
    "\n",
    "my_df = pd.DataFrame({\"user_id\": [user_id]*cnt, \"movie_id\": my_favorite_index.keys(), \"rating\": my_favorite_index.values()})\n",
    "\n",
    "ratings = ratings.append(my_df).reset_index()\n",
    "ratings"
   ]
  },
  {
   "cell_type": "markdown",
   "id": "ad779fcb-8dda-41e1-970e-d590c428b919",
   "metadata": {},
   "source": [
    "## CSR MATRIX\n",
    "\n",
    "**SHAPE 설정**"
   ]
  },
  {
   "cell_type": "markdown",
   "id": "809282d0-7c7a-4625-9577-806c76c32c5b",
   "metadata": {},
   "source": [
    "바로 위의 ratings를 언듯보면 1~6041까지의 데이터가 있구나 6041개의 데이터가 있겠구나 라고 생각이 들 수 있다. 하지만 상세히 확인해보면 한개가 `3598`의 user_id는 존재하지 않는다. 마찬가지로 movie_id에도 Min, Max 사이에 결측값이 있다. 그래서 CSR_MATRIX를 만들 때 주의해야한다. \n",
    "\n",
    "- Row에서 가장 큰 값 + 1\n",
    "- Column에서 가장 큰 값 + 1\n",
    "\n",
    "이렇게 설정해주면 문제가 없다. \n",
    "\n",
    "`+1`을 하는 이유는 csr_matrix를 만들때 기본적으로 Index가 0부터 시작하기 때문이다. 학습 이후에 csr_matrix를 조회하면 모든 값이 0이 나온것을 확인할 수 있다.\n",
    "\n",
    "**하지만 아무런 값을 넣어주지 않아도 적절한 크기로 배열을 생성한다.**"
   ]
  },
  {
   "cell_type": "code",
   "execution_count": 16,
   "id": "de82486e-de29-45e0-9ae4-614c70eb1dae",
   "metadata": {},
   "outputs": [],
   "source": [
    "from scipy.sparse import csr_matrix\n",
    "\n",
    "max_user = ratings['user_id'].max()\n",
    "max_movie = ratings['movie_id'].max()\n",
    "\n",
    "csr_data = csr_matrix((ratings.rating, (ratings.user_id, ratings.movie_id)), shape=(max_user+1, max_movie+1))\n",
    "\n",
    "# 아무런 값을 넣지 않아도 잘 동작한다.\n",
    "# csr_data = csr_matrix((ratings.rating, (ratings.user_id, ratings.movie_id))) # "
   ]
  },
  {
   "cell_type": "markdown",
   "id": "5d0615e7-7038-40a5-81ab-b09013aa1120",
   "metadata": {},
   "source": [
    "## 모델 설계 및 학습"
   ]
  },
  {
   "cell_type": "code",
   "execution_count": 17,
   "id": "1b6b46c6-5c18-4cf4-b58d-94427452d8a9",
   "metadata": {},
   "outputs": [],
   "source": [
    "from implicit.als import AlternatingLeastSquares\n",
    "\n",
    "# implicit 라이브러리에서 권장하고 있는 부분입니다. 학습 내용과는 무관합니다.\n",
    "os.environ['OPENBLAS_NUM_THREADS']='1'\n",
    "os.environ['KMP_DUPLICATE_LIB_OK']='True'\n",
    "os.environ['MKL_NUM_THREADS']='1'"
   ]
  },
  {
   "cell_type": "code",
   "execution_count": 18,
   "id": "ca15cdb9-2770-4f24-ade2-b2eee4ff23f4",
   "metadata": {},
   "outputs": [],
   "source": [
    "# Implicit AlternatingLeastSquares 모델의 선언\n",
    "als_model = AlternatingLeastSquares(factors=128, regularization=0.01, use_gpu=False, iterations=15, dtype=np.float32)"
   ]
  },
  {
   "cell_type": "code",
   "execution_count": 19,
   "id": "b6b381d8-edb2-49e9-b199-d16403758393",
   "metadata": {},
   "outputs": [
    {
     "data": {
      "text/plain": [
       "(3953, 6042)"
      ]
     },
     "execution_count": 19,
     "metadata": {},
     "output_type": "execute_result"
    }
   ],
   "source": [
    "# als 모델은 input으로 (item X user 꼴의 matrix를 받기 때문에 Transpose해줍니다.)\n",
    "csr_data_transpose = csr_data.T\n",
    "csr_data_transpose.shape"
   ]
  },
  {
   "cell_type": "code",
   "execution_count": 20,
   "id": "00f7ee1a-d932-40d1-9f1f-04ffe9a9f47a",
   "metadata": {},
   "outputs": [
    {
     "data": {
      "application/vnd.jupyter.widget-view+json": {
       "model_id": "47aad20eb1e841dd93a4f586cb759815",
       "version_major": 2,
       "version_minor": 0
      },
      "text/plain": [
       "  0%|          | 0/15 [00:00<?, ?it/s]"
      ]
     },
     "metadata": {},
     "output_type": "display_data"
    }
   ],
   "source": [
    "# 모델 훈련\n",
    "als_model.fit(csr_data_transpose)"
   ]
  },
  {
   "cell_type": "markdown",
   "id": "1e04ca00-e878-4f63-b3a3-85b0e5d36738",
   "metadata": {},
   "source": [
    "<br/>\n",
    "\n",
    "## 평가하기"
   ]
  },
  {
   "cell_type": "code",
   "execution_count": 21,
   "id": "56952243-e5f1-4ba8-8e83-483ad8c59bcb",
   "metadata": {},
   "outputs": [],
   "source": [
    "def recommend_score(movie):\n",
    "    movie_idx = title_to_idx[movie]\n",
    "    suwan_vector, movie_vector = als_model.user_factors[user_id], als_model.item_factors[movie_idx]\n",
    "    score = np.dot(suwan_vector, movie_vector)\n",
    "\n",
    "    print(f\"나의 {movie} 선호도 예측 : {score:.3}\")"
   ]
  },
  {
   "cell_type": "markdown",
   "id": "3f58b86a-731a-479f-b5ed-847d4759d7f9",
   "metadata": {},
   "source": [
    "<br/>**내가 좋아하는 영화의 선호도 확인하기**"
   ]
  },
  {
   "cell_type": "code",
   "execution_count": 22,
   "id": "e6ef7eee-e7ad-4bcb-963c-6fb907700b39",
   "metadata": {},
   "outputs": [
    {
     "name": "stdout",
     "output_type": "stream",
     "text": [
      "나의 titanic (1997) 선호도 예측 : 0.608\n"
     ]
    }
   ],
   "source": [
    "movie = 'titanic (1997)'\n",
    "recommend_score(movie)"
   ]
  },
  {
   "cell_type": "markdown",
   "id": "d2c6f07b-8772-41bc-8799-170d72afaa58",
   "metadata": {},
   "source": [
    "<br/>**다른 영화의 선호도 확인하기**"
   ]
  },
  {
   "cell_type": "code",
   "execution_count": 23,
   "id": "d1bbe849-e86c-42e3-8a93-b8591f526216",
   "metadata": {},
   "outputs": [
    {
     "name": "stdout",
     "output_type": "stream",
     "text": [
      "나의 toy story (1995) 선호도 예측 : 0.318\n"
     ]
    }
   ],
   "source": [
    "movie = 'toy story (1995)'\n",
    "recommend_score(movie)"
   ]
  },
  {
   "cell_type": "code",
   "execution_count": 24,
   "id": "cb990c57-4485-48b2-b123-bfd78cc81edc",
   "metadata": {},
   "outputs": [
    {
     "name": "stdout",
     "output_type": "stream",
     "text": [
      "나의 tigerland (2000) 선호도 예측 : -0.00934\n"
     ]
    }
   ],
   "source": [
    "movie = 'tigerland (2000)'\n",
    "recommend_score(movie)"
   ]
  },
  {
   "cell_type": "markdown",
   "id": "4eaea2f2-e62c-45bc-8b4d-003524926826",
   "metadata": {},
   "source": [
    "<br/>**비슷한 영화 추천받기**"
   ]
  },
  {
   "cell_type": "code",
   "execution_count": 25,
   "id": "9bb2f567-8ba8-4de8-9cab-29d48c02c680",
   "metadata": {},
   "outputs": [
    {
     "name": "stdout",
     "output_type": "stream",
     "text": [
      "titanic (1997)를 좋아하는 사람에게 추천하는 영화 순위\n",
      "\n",
      "1.jerry maguire (1996)\n",
      "   score : 0.463\n",
      "2.city of angels (1998)\n",
      "   score : 0.363\n",
      "3.you've got mail (1998)\n",
      "   score : 0.351\n",
      "4.mr. holland's opus (1995)\n",
      "   score : 0.345\n",
      "5.ever after: a cinderella story (1998)\n",
      "   score : 0.34\n",
      "6.truman show, the (1998)\n",
      "   score : 0.326\n",
      "7.snow day (2000)\n",
      "   score : 0.319\n",
      "8.fried green tomatoes (1991)\n",
      "   score : 0.318\n",
      "9.piano, the (1993)\n",
      "   score : 0.308\n"
     ]
    }
   ],
   "source": [
    "movie = 'titanic (1997)'\n",
    "movie_idx = title_to_idx[movie]\n",
    "recommends = als_model.similar_items(movie_idx)[1:] # 자신과의 유사도는 1이다. 제외\n",
    "print(f\"{movie}를 좋아하는 사람에게 추천하는 영화 순위\\n\")\n",
    "for i, rec in enumerate(recommends):\n",
    "    title = idx_to_title[rec[0]]\n",
    "    score = rec[1]\n",
    "    print(f\"{i+1}.{title}\\n   score : {score:.3}\")"
   ]
  },
  {
   "cell_type": "markdown",
   "id": "b1d88e06-e00d-4bfe-bc93-3b7c2f6921b9",
   "metadata": {},
   "source": [
    "<br/>**내가 좋아할 만한 영화 추천 받기**"
   ]
  },
  {
   "cell_type": "code",
   "execution_count": 26,
   "id": "a10f1f6c-d58e-4561-a5ea-c9f637b36c2b",
   "metadata": {},
   "outputs": [
    {
     "name": "stdout",
     "output_type": "stream",
     "text": [
      "1.jerry maguire (1996)\n",
      "   score : 0.305\n",
      "2.gone with the wind (1939)\n",
      "   score : 0.239\n",
      "3.english patient, the (1996)\n",
      "   score : 0.227\n",
      "4.piano, the (1993)\n",
      "   score : 0.202\n",
      "5.like water for chocolate (como agua para chocolate) (1992)\n",
      "   score : 0.195\n",
      "6.thelma & louise (1991)\n",
      "   score : 0.173\n",
      "7.babe (1995)\n",
      "   score : 0.169\n",
      "8.shakespeare in love (1998)\n",
      "   score : 0.169\n",
      "9.good will hunting (1997)\n",
      "   score : 0.167\n",
      "10.toy story 2 (1999)\n",
      "   score : 0.165\n"
     ]
    }
   ],
   "source": [
    "recommends = als_model.recommend(user_id, csr_data, N=10, filter_already_liked_items=True)\n",
    "for i, rec in enumerate(recommends):\n",
    "    title = idx_to_title[rec[0]]\n",
    "    score = rec[1]\n",
    "    print(f\"{i+1}.{title}\\n   score : {score:.3}\")"
   ]
  },
  {
   "cell_type": "markdown",
   "id": "29422844-5979-4942-ac6f-a218e2c334af",
   "metadata": {},
   "source": [
    "<br/>\n",
    "\n",
    "## 고찰\n",
    "\n",
    "추천시스템이라는 분야는 너무 어렵고 멀게만 느껴졌었다. 이번 노드를 통해 추천시스템 모델에 대해 깊게 배운것은 아니지만 조금 벽을 허물 수 있었다.<br/>\n",
    "그리고 이번에 사용하지 못했던 리뷰를 작성한 날짜 데이터, 영화의 장르 데이터에 대한 아쉬움이 있다. 아쉬움 덕분에 더 호기심이 생겼고 재밌었다."
   ]
  }
 ],
 "metadata": {
  "kernelspec": {
   "display_name": "Python 3",
   "language": "python",
   "name": "python3"
  },
  "language_info": {
   "codemirror_mode": {
    "name": "ipython",
    "version": 3
   },
   "file_extension": ".py",
   "mimetype": "text/x-python",
   "name": "python",
   "nbconvert_exporter": "python",
   "pygments_lexer": "ipython3",
   "version": "3.8.10"
  }
 },
 "nbformat": 4,
 "nbformat_minor": 5
}

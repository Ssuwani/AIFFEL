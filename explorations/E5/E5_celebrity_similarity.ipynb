{
 "cells": [
  {
   "cell_type": "markdown",
   "id": "af6931d4-e6f7-4c55-b11f-dfe96e78e302",
   "metadata": {},
   "source": [
    "# 나랑 닮은 연예인은 누구?\n",
    "\n",
    "연예인 사진들을 불러와 얼굴을 인식하고 `face_encoding`을 통해 얼굴 특징을 모은 값을 저장한다. "
   ]
  },
  {
   "cell_type": "markdown",
   "id": "ac9ca9fb-a4eb-442c-a6ff-9f3221c4cbe6",
   "metadata": {},
   "source": [
    "### 각종 라이브러리 불러오기"
   ]
  },
  {
   "cell_type": "code",
   "execution_count": 1,
   "id": "c151ff66-6633-4c3f-97ed-076624811cff",
   "metadata": {},
   "outputs": [],
   "source": [
    "import face_recognition\n",
    "import numpy as np\n",
    "import os\n",
    "import glob\n",
    "import matplotlib.pyplot as plt"
   ]
  },
  {
   "cell_type": "markdown",
   "id": "dfc4afbb-4310-44d3-94d1-04f63d264086",
   "metadata": {},
   "source": [
    "### 필요한 함수들 정의"
   ]
  },
  {
   "cell_type": "markdown",
   "id": "1069e47c-d7f9-4332-b761-0ca760717511",
   "metadata": {},
   "source": [
    "파일 받아 얼굴 부분 crop 해주는 함수"
   ]
  },
  {
   "cell_type": "code",
   "execution_count": 2,
   "id": "579a388a-4ce8-4131-a8dc-a0280e85a628",
   "metadata": {},
   "outputs": [],
   "source": [
    "def face_find_crop(image_path):\n",
    "    image = face_recognition.load_image_file(image_path)\n",
    "    face_locations = face_recognition.face_locations(image)\n",
    "    if not face_locations:\n",
    "        return False\n",
    "    a, b, c, d = face_locations[0]\n",
    "    cropped_face = image[a:c, d:b, :]\n",
    "    return cropped_face"
   ]
  },
  {
   "cell_type": "markdown",
   "id": "e33a6ff9-388a-4d81-97a7-7931db46e54e",
   "metadata": {},
   "source": [
    "`face_dir`에 있는 파일을 다 읽어서 얼굴을 찾고 encoding 값을 계산한다. 그리고 이를 저장한 딕셔너리를 반환한다.<br/>\n",
    "여기서 `encoding` 값이란 우리가 검출한 얼굴영역 내에서, 더 세밀하게 등장하는 특징을 모은 값을 의미한다."
   ]
  },
  {
   "cell_type": "code",
   "execution_count": 3,
   "id": "4c36d611-b31e-4051-b1c4-051136fc1dc4",
   "metadata": {},
   "outputs": [],
   "source": [
    "def get_face_embedding_dict(face_dir):\n",
    "    file_list = glob.glob(face_dir)\n",
    "    embedding_dict = {}\n",
    "\n",
    "    for file in file_list:\n",
    "        name = file.split(\"/\")[-1].split(\".\")[0]  # 연예인 이름 추출\n",
    "        face = face_find_crop(file)\n",
    "        if type(face) == bool:\n",
    "            continue\n",
    "\n",
    "        face_embedding = face_recognition.face_encodings(face)\n",
    "        if face_embedding:\n",
    "            embedding_dict[name] = face_embedding[0]\n",
    "    return embedding_dict"
   ]
  },
  {
   "cell_type": "markdown",
   "id": "b63369b1-0859-4d9a-a357-581a05c720dd",
   "metadata": {},
   "source": [
    "두 사람간의 얼굴의 similarity를 계산하는 함수<br/>\n",
    "`get_face_embedding_dict`로 구한 encoding 값 간의 L2 Distance를 반환한다."
   ]
  },
  {
   "cell_type": "code",
   "execution_count": 4,
   "id": "0cc6d895-f6a0-4f02-a4f1-94cae25e57a3",
   "metadata": {},
   "outputs": [],
   "source": [
    "def get_distance(name1, name2):\n",
    "    return np.linalg.norm(embedding_dict[name1] - embedding_dict[name2], ord=2)"
   ]
  },
  {
   "cell_type": "markdown",
   "id": "6665f11b-8081-424e-9765-b76402cbbf55",
   "metadata": {},
   "source": [
    "특정 사람과 embedding_dict에 있는 모든 사람간의 L2 distance를 계산해서 가장 높은 5명을 화면에 출력한다.<br/>\n",
    "자신과의 similarity는 0이므로 제외했다."
   ]
  },
  {
   "cell_type": "code",
   "execution_count": 5,
   "id": "c547a04d-bfea-471e-8b6f-12275f51dc16",
   "metadata": {},
   "outputs": [],
   "source": [
    "def get_nearest(name):\n",
    "    score_dict = {celebrity: get_distance(name, celebrity) for celebrity in embedding_dict.keys()}\n",
    "    top_5 = sorted(score_dict.items(), key=lambda x: x[1])[1:6]\n",
    "    print(f\"{name}과 닮은사람 5명!!\")\n",
    "    [print(f\"{name} : {score}\") for name, score in top_5]\n",
    "    return top_5"
   ]
  },
  {
   "cell_type": "markdown",
   "id": "f51f2f50-46ae-4602-a94f-885bf7c6dea8",
   "metadata": {},
   "source": [
    "하지만 `get_face_embedding_dict`에서 입력받는 폴더에는 내 이미지가 없다. 연에인 사진만 있다. <br/>\n",
    "내 이미지를 저 폴더에 추가할 생각은 없으므로 추가로 읽어들여서 `embedding_dict`라는 딕셔너리에 추가해줘야한다.<br/>\n",
    "추가할 이미지와 이름을 입력받는 함수를 만들고 방금 정의한 `get_nearest`함수를 호출하도록 작성하였다."
   ]
  },
  {
   "cell_type": "code",
   "execution_count": 6,
   "id": "18815af4-11cb-4cf1-b897-a67627eb9405",
   "metadata": {},
   "outputs": [],
   "source": [
    "def get_nearest_with_my_image(image_path, name):\n",
    "    face = face_find_crop(image_path)\n",
    "    face_embedding = face_recognition.face_encodings(face)\n",
    "    if face_embedding:\n",
    "        embedding_dict[name] = face_embedding[0]\n",
    "    top_5 = get_nearest(name)\n",
    "    return face, top_5 # 마지막에 화면에 보여주기 위해서 return 하였다."
   ]
  },
  {
   "cell_type": "markdown",
   "id": "f9d10c46-81fb-4417-86d8-0f51c80a4ab6",
   "metadata": {},
   "source": [
    "이제 마지막으로 실행할 차례다. "
   ]
  },
  {
   "cell_type": "code",
   "execution_count": null,
   "id": "099b1952-6c81-48f1-bf92-a8d473a4b365",
   "metadata": {},
   "outputs": [],
   "source": [
    "base_dir = './data/*'\n",
    "\n",
    "embedding_dict = get_face_embedding_dict(base_dir)"
   ]
  },
  {
   "cell_type": "code",
   "execution_count": null,
   "id": "97ea6007-1da9-4b20-85a0-ee4dac86717e",
   "metadata": {},
   "outputs": [],
   "source": [
    "face, top_5 = get_nearest_with_my_image('2.png', '수완')"
   ]
  },
  {
   "cell_type": "markdown",
   "id": "8e59fdf9-6444-492a-bd4c-7317fc223364",
   "metadata": {},
   "source": [
    "마음에 드는 결과가 나올때까지 내 사진들을 집어넣었다.. ㅋㅋㅋ <br/>\n",
    "내가 진짜 좋아하는 안소희님이 1등으로 나오길래 바로 고정했다."
   ]
  },
  {
   "cell_type": "code",
   "execution_count": null,
   "id": "16b1bafe-f47f-4372-8e5e-cbb0c599074a",
   "metadata": {},
   "outputs": [],
   "source": [
    "from PIL import Image\n",
    "import requests\n",
    "\n",
    "heart = Image.open(requests.get('https://upload.wikimedia.org/wikipedia/commons/thumb/f/f1/Heart_coraz%C3%B3n.svg/160px-Heart_coraz%C3%B3n.svg.png', stream=True).raw)"
   ]
  },
  {
   "cell_type": "code",
   "execution_count": null,
   "id": "180c7feb-809d-4406-a2bd-8a5f0d0560b7",
   "metadata": {},
   "outputs": [],
   "source": [
    "fig = plt.figure()\n",
    "ax = fig.add_subplot(1,3,1)\n",
    "ax.imshow(face)\n",
    "plt.axis('off')\n",
    "\n",
    "ax = fig.add_subplot(1,3,2)\n",
    "ax.imshow(heart)\n",
    "plt.axis('off')\n",
    "\n",
    "ax = fig.add_subplot(1,3,3)\n",
    "celebrity = face_find_crop('./data/'+top_5[0][0]+'.jpg')\n",
    "ax.imshow(celebrity)\n",
    "plt.axis('off')\n",
    "plt.show()"
   ]
  },
  {
   "cell_type": "markdown",
   "id": "61c9dca2-b446-46b4-8cf7-0c85d17ad8fd",
   "metadata": {},
   "source": [
    "**추가사항**\n",
    "\n",
    "`embedding_dict`를 계산하는 코드에서 생각보다 시간이 많이 걸린다. <br/>\n",
    "이는 embedding_dict를 저장하는 코드 몇줄이면 손쉽게 해결할 수 있다. <br/>\n",
    "바로 pickle을 이용해서 객체를 저장하는 방법이다."
   ]
  },
  {
   "cell_type": "markdown",
   "id": "997c24ed-b3f2-46dd-8c55-399455332f59",
   "metadata": {},
   "source": [
    "`get_face_embedding_dict` 함수 마지막 부분에 추가"
   ]
  },
  {
   "cell_type": "code",
   "execution_count": null,
   "id": "323aa6d1-61c2-4e2b-ba64-c9538118265d",
   "metadata": {},
   "outputs": [],
   "source": [
    "def get_face_embedding_dict(face_dir):\n",
    "    ----\n",
    "    ----\n",
    "    ---\n",
    "    with open('embedding_dict.pkl', 'wb')as f:\n",
    "        pickle.dump(embedding_dict, f)\n",
    "    return embedding_dict"
   ]
  },
  {
   "cell_type": "markdown",
   "id": "52260308-d8a1-4799-b2b0-bfd9193a7f96",
   "metadata": {},
   "source": [
    "함수 호출 부분에 Pickle로 데이터를 읽는 코드 추가"
   ]
  },
  {
   "cell_type": "code",
   "execution_count": null,
   "id": "be65fdaf-3243-4ec1-851c-b1981e9b4161",
   "metadata": {},
   "outputs": [],
   "source": [
    "if os.path.isfile('embedding_dict.pkl'):\n",
    "    with open('embedding_dict.pkl', 'rb') as f:\n",
    "        embedding_dict = pickle.load(f)\n",
    "else:\n",
    "    embedding_dict = get_face_embedding_dict(base_dir)"
   ]
  },
  {
   "cell_type": "code",
   "execution_count": null,
   "id": "68a7f2d1-0103-4930-bfa6-ed1150a08a71",
   "metadata": {},
   "outputs": [],
   "source": [
    "type(embedding_dict), len(embedding_dict)"
   ]
  },
  {
   "cell_type": "markdown",
   "id": "1b3b54fa-ad09-463c-a928-8fd43d7d752e",
   "metadata": {},
   "source": [
    "### 마무리\n",
    "\n",
    "어떻게 하면 코드를 조금이라도 더 깔끔하게 작성할 수 있을까? 고민하는 시간을 가졌던 노드다. 특히 예외처리 하는 부분에서 코드의 욕심이 났다. (몇몇 마음에 안드는 코드들이 존재한다 ㅠㅠ + 코드리뷰좀 해주세요) \n",
    "\n",
    "처음 노드를 접했을 때 어떻게 얼굴을 유사도를 판별할 수 있을까? 고민해봤었는데 픽셀들간의 어떠한 연산을 해도 힘들겠다고 생각했지만 `encoding`이라는 기법과 `L2 norm`을 통해 꽤 괜찮은 결과를 얻을 수 있었다."
   ]
  }
 ],
 "metadata": {
  "kernelspec": {
   "display_name": "Python 3",
   "language": "python",
   "name": "python3"
  },
  "language_info": {
   "codemirror_mode": {
    "name": "ipython",
    "version": 3
   },
   "file_extension": ".py",
   "mimetype": "text/x-python",
   "name": "python",
   "nbconvert_exporter": "python",
   "pygments_lexer": "ipython3",
   "version": "3.8.10"
  }
 },
 "nbformat": 4,
 "nbformat_minor": 5
}
